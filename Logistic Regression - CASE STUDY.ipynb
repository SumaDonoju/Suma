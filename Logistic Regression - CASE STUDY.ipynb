{
 "cells": [
  {
   "cell_type": "code",
   "execution_count": 107,
   "id": "6196ec94",
   "metadata": {},
   "outputs": [],
   "source": [
    "import warnings\n",
    "warnings.filterwarnings('ignore')\n",
    "\n",
    "import numpy as np\n",
    "import pandas as pd\n",
    "import matplotlib.pyplot as plt\n",
    "import seaborn as sns\n",
    "\n",
    "%matplotlib inline"
   ]
  },
  {
   "cell_type": "code",
   "execution_count": 108,
   "id": "ef1f3bfa",
   "metadata": {},
   "outputs": [
    {
     "data": {
      "text/html": [
       "<div>\n",
       "<style scoped>\n",
       "    .dataframe tbody tr th:only-of-type {\n",
       "        vertical-align: middle;\n",
       "    }\n",
       "\n",
       "    .dataframe tbody tr th {\n",
       "        vertical-align: top;\n",
       "    }\n",
       "\n",
       "    .dataframe thead th {\n",
       "        text-align: right;\n",
       "    }\n",
       "</style>\n",
       "<table border=\"1\" class=\"dataframe\">\n",
       "  <thead>\n",
       "    <tr style=\"text-align: right;\">\n",
       "      <th></th>\n",
       "      <th>Prospect ID</th>\n",
       "      <th>Lead Number</th>\n",
       "      <th>Lead Origin</th>\n",
       "      <th>Lead Source</th>\n",
       "      <th>Do Not Email</th>\n",
       "      <th>Do Not Call</th>\n",
       "      <th>Converted</th>\n",
       "      <th>TotalVisits</th>\n",
       "      <th>Total Time Spent on Website</th>\n",
       "      <th>Page Views Per Visit</th>\n",
       "      <th>...</th>\n",
       "      <th>Get updates on DM Content</th>\n",
       "      <th>Lead Profile</th>\n",
       "      <th>City</th>\n",
       "      <th>Asymmetrique Activity Index</th>\n",
       "      <th>Asymmetrique Profile Index</th>\n",
       "      <th>Asymmetrique Activity Score</th>\n",
       "      <th>Asymmetrique Profile Score</th>\n",
       "      <th>I agree to pay the amount through cheque</th>\n",
       "      <th>A free copy of Mastering The Interview</th>\n",
       "      <th>Last Notable Activity</th>\n",
       "    </tr>\n",
       "  </thead>\n",
       "  <tbody>\n",
       "    <tr>\n",
       "      <th>0</th>\n",
       "      <td>7927b2df-8bba-4d29-b9a2-b6e0beafe620</td>\n",
       "      <td>660737</td>\n",
       "      <td>API</td>\n",
       "      <td>Olark Chat</td>\n",
       "      <td>No</td>\n",
       "      <td>No</td>\n",
       "      <td>0</td>\n",
       "      <td>0.0</td>\n",
       "      <td>0</td>\n",
       "      <td>0.0</td>\n",
       "      <td>...</td>\n",
       "      <td>No</td>\n",
       "      <td>Select</td>\n",
       "      <td>Select</td>\n",
       "      <td>02.Medium</td>\n",
       "      <td>02.Medium</td>\n",
       "      <td>15.0</td>\n",
       "      <td>15.0</td>\n",
       "      <td>No</td>\n",
       "      <td>No</td>\n",
       "      <td>Modified</td>\n",
       "    </tr>\n",
       "    <tr>\n",
       "      <th>1</th>\n",
       "      <td>2a272436-5132-4136-86fa-dcc88c88f482</td>\n",
       "      <td>660728</td>\n",
       "      <td>API</td>\n",
       "      <td>Organic Search</td>\n",
       "      <td>No</td>\n",
       "      <td>No</td>\n",
       "      <td>0</td>\n",
       "      <td>5.0</td>\n",
       "      <td>674</td>\n",
       "      <td>2.5</td>\n",
       "      <td>...</td>\n",
       "      <td>No</td>\n",
       "      <td>Select</td>\n",
       "      <td>Select</td>\n",
       "      <td>02.Medium</td>\n",
       "      <td>02.Medium</td>\n",
       "      <td>15.0</td>\n",
       "      <td>15.0</td>\n",
       "      <td>No</td>\n",
       "      <td>No</td>\n",
       "      <td>Email Opened</td>\n",
       "    </tr>\n",
       "    <tr>\n",
       "      <th>2</th>\n",
       "      <td>8cc8c611-a219-4f35-ad23-fdfd2656bd8a</td>\n",
       "      <td>660727</td>\n",
       "      <td>Landing Page Submission</td>\n",
       "      <td>Direct Traffic</td>\n",
       "      <td>No</td>\n",
       "      <td>No</td>\n",
       "      <td>1</td>\n",
       "      <td>2.0</td>\n",
       "      <td>1532</td>\n",
       "      <td>2.0</td>\n",
       "      <td>...</td>\n",
       "      <td>No</td>\n",
       "      <td>Potential Lead</td>\n",
       "      <td>Mumbai</td>\n",
       "      <td>02.Medium</td>\n",
       "      <td>01.High</td>\n",
       "      <td>14.0</td>\n",
       "      <td>20.0</td>\n",
       "      <td>No</td>\n",
       "      <td>Yes</td>\n",
       "      <td>Email Opened</td>\n",
       "    </tr>\n",
       "    <tr>\n",
       "      <th>3</th>\n",
       "      <td>0cc2df48-7cf4-4e39-9de9-19797f9b38cc</td>\n",
       "      <td>660719</td>\n",
       "      <td>Landing Page Submission</td>\n",
       "      <td>Direct Traffic</td>\n",
       "      <td>No</td>\n",
       "      <td>No</td>\n",
       "      <td>0</td>\n",
       "      <td>1.0</td>\n",
       "      <td>305</td>\n",
       "      <td>1.0</td>\n",
       "      <td>...</td>\n",
       "      <td>No</td>\n",
       "      <td>Select</td>\n",
       "      <td>Mumbai</td>\n",
       "      <td>02.Medium</td>\n",
       "      <td>01.High</td>\n",
       "      <td>13.0</td>\n",
       "      <td>17.0</td>\n",
       "      <td>No</td>\n",
       "      <td>No</td>\n",
       "      <td>Modified</td>\n",
       "    </tr>\n",
       "    <tr>\n",
       "      <th>4</th>\n",
       "      <td>3256f628-e534-4826-9d63-4a8b88782852</td>\n",
       "      <td>660681</td>\n",
       "      <td>Landing Page Submission</td>\n",
       "      <td>Google</td>\n",
       "      <td>No</td>\n",
       "      <td>No</td>\n",
       "      <td>1</td>\n",
       "      <td>2.0</td>\n",
       "      <td>1428</td>\n",
       "      <td>1.0</td>\n",
       "      <td>...</td>\n",
       "      <td>No</td>\n",
       "      <td>Select</td>\n",
       "      <td>Mumbai</td>\n",
       "      <td>02.Medium</td>\n",
       "      <td>01.High</td>\n",
       "      <td>15.0</td>\n",
       "      <td>18.0</td>\n",
       "      <td>No</td>\n",
       "      <td>No</td>\n",
       "      <td>Modified</td>\n",
       "    </tr>\n",
       "  </tbody>\n",
       "</table>\n",
       "<p>5 rows × 37 columns</p>\n",
       "</div>"
      ],
      "text/plain": [
       "                            Prospect ID  Lead Number              Lead Origin  \\\n",
       "0  7927b2df-8bba-4d29-b9a2-b6e0beafe620       660737                      API   \n",
       "1  2a272436-5132-4136-86fa-dcc88c88f482       660728                      API   \n",
       "2  8cc8c611-a219-4f35-ad23-fdfd2656bd8a       660727  Landing Page Submission   \n",
       "3  0cc2df48-7cf4-4e39-9de9-19797f9b38cc       660719  Landing Page Submission   \n",
       "4  3256f628-e534-4826-9d63-4a8b88782852       660681  Landing Page Submission   \n",
       "\n",
       "      Lead Source Do Not Email Do Not Call  Converted  TotalVisits  \\\n",
       "0      Olark Chat           No          No          0          0.0   \n",
       "1  Organic Search           No          No          0          5.0   \n",
       "2  Direct Traffic           No          No          1          2.0   \n",
       "3  Direct Traffic           No          No          0          1.0   \n",
       "4          Google           No          No          1          2.0   \n",
       "\n",
       "   Total Time Spent on Website  Page Views Per Visit  ...  \\\n",
       "0                            0                   0.0  ...   \n",
       "1                          674                   2.5  ...   \n",
       "2                         1532                   2.0  ...   \n",
       "3                          305                   1.0  ...   \n",
       "4                         1428                   1.0  ...   \n",
       "\n",
       "  Get updates on DM Content    Lead Profile    City  \\\n",
       "0                        No          Select  Select   \n",
       "1                        No          Select  Select   \n",
       "2                        No  Potential Lead  Mumbai   \n",
       "3                        No          Select  Mumbai   \n",
       "4                        No          Select  Mumbai   \n",
       "\n",
       "  Asymmetrique Activity Index Asymmetrique Profile Index  \\\n",
       "0                   02.Medium                  02.Medium   \n",
       "1                   02.Medium                  02.Medium   \n",
       "2                   02.Medium                    01.High   \n",
       "3                   02.Medium                    01.High   \n",
       "4                   02.Medium                    01.High   \n",
       "\n",
       "  Asymmetrique Activity Score Asymmetrique Profile Score  \\\n",
       "0                        15.0                       15.0   \n",
       "1                        15.0                       15.0   \n",
       "2                        14.0                       20.0   \n",
       "3                        13.0                       17.0   \n",
       "4                        15.0                       18.0   \n",
       "\n",
       "  I agree to pay the amount through cheque  \\\n",
       "0                                       No   \n",
       "1                                       No   \n",
       "2                                       No   \n",
       "3                                       No   \n",
       "4                                       No   \n",
       "\n",
       "  A free copy of Mastering The Interview Last Notable Activity  \n",
       "0                                     No              Modified  \n",
       "1                                     No          Email Opened  \n",
       "2                                    Yes          Email Opened  \n",
       "3                                     No              Modified  \n",
       "4                                     No              Modified  \n",
       "\n",
       "[5 rows x 37 columns]"
      ]
     },
     "execution_count": 108,
     "metadata": {},
     "output_type": "execute_result"
    }
   ],
   "source": [
    "leads_data = pd.read_csv('Leads.csv', encoding = 'latin')\n",
    "leads_data.head()"
   ]
  },
  {
   "cell_type": "code",
   "execution_count": 109,
   "id": "0522d7dc",
   "metadata": {},
   "outputs": [
    {
     "name": "stdout",
     "output_type": "stream",
     "text": [
      "<class 'pandas.core.frame.DataFrame'>\n",
      "RangeIndex: 9240 entries, 0 to 9239\n",
      "Data columns (total 37 columns):\n",
      " #   Column                                         Non-Null Count  Dtype  \n",
      "---  ------                                         --------------  -----  \n",
      " 0   Prospect ID                                    9240 non-null   object \n",
      " 1   Lead Number                                    9240 non-null   int64  \n",
      " 2   Lead Origin                                    9240 non-null   object \n",
      " 3   Lead Source                                    9204 non-null   object \n",
      " 4   Do Not Email                                   9240 non-null   object \n",
      " 5   Do Not Call                                    9240 non-null   object \n",
      " 6   Converted                                      9240 non-null   int64  \n",
      " 7   TotalVisits                                    9103 non-null   float64\n",
      " 8   Total Time Spent on Website                    9240 non-null   int64  \n",
      " 9   Page Views Per Visit                           9103 non-null   float64\n",
      " 10  Last Activity                                  9137 non-null   object \n",
      " 11  Country                                        6779 non-null   object \n",
      " 12  Specialization                                 7802 non-null   object \n",
      " 13  How did you hear about X Education             7033 non-null   object \n",
      " 14  What is your current occupation                6550 non-null   object \n",
      " 15  What matters most to you in choosing a course  6531 non-null   object \n",
      " 16  Search                                         9240 non-null   object \n",
      " 17  Magazine                                       9240 non-null   object \n",
      " 18  Newspaper Article                              9240 non-null   object \n",
      " 19  X Education Forums                             9240 non-null   object \n",
      " 20  Newspaper                                      9240 non-null   object \n",
      " 21  Digital Advertisement                          9240 non-null   object \n",
      " 22  Through Recommendations                        9240 non-null   object \n",
      " 23  Receive More Updates About Our Courses         9240 non-null   object \n",
      " 24  Tags                                           5887 non-null   object \n",
      " 25  Lead Quality                                   4473 non-null   object \n",
      " 26  Update me on Supply Chain Content              9240 non-null   object \n",
      " 27  Get updates on DM Content                      9240 non-null   object \n",
      " 28  Lead Profile                                   6531 non-null   object \n",
      " 29  City                                           7820 non-null   object \n",
      " 30  Asymmetrique Activity Index                    5022 non-null   object \n",
      " 31  Asymmetrique Profile Index                     5022 non-null   object \n",
      " 32  Asymmetrique Activity Score                    5022 non-null   float64\n",
      " 33  Asymmetrique Profile Score                     5022 non-null   float64\n",
      " 34  I agree to pay the amount through cheque       9240 non-null   object \n",
      " 35  A free copy of Mastering The Interview         9240 non-null   object \n",
      " 36  Last Notable Activity                          9240 non-null   object \n",
      "dtypes: float64(4), int64(3), object(30)\n",
      "memory usage: 2.6+ MB\n"
     ]
    }
   ],
   "source": [
    "leads_data.info()"
   ]
  },
  {
   "cell_type": "code",
   "execution_count": 110,
   "id": "de97b1db",
   "metadata": {},
   "outputs": [
    {
     "data": {
      "text/plain": [
       "(9240, 37)"
      ]
     },
     "execution_count": 110,
     "metadata": {},
     "output_type": "execute_result"
    }
   ],
   "source": [
    "leads_data.shape"
   ]
  },
  {
   "cell_type": "code",
   "execution_count": 111,
   "id": "2c2f5954",
   "metadata": {},
   "outputs": [
    {
     "data": {
      "text/plain": [
       "<bound method NDFrame.describe of                                Prospect ID  Lead Number  \\\n",
       "0     7927b2df-8bba-4d29-b9a2-b6e0beafe620       660737   \n",
       "1     2a272436-5132-4136-86fa-dcc88c88f482       660728   \n",
       "2     8cc8c611-a219-4f35-ad23-fdfd2656bd8a       660727   \n",
       "3     0cc2df48-7cf4-4e39-9de9-19797f9b38cc       660719   \n",
       "4     3256f628-e534-4826-9d63-4a8b88782852       660681   \n",
       "...                                    ...          ...   \n",
       "9235  19d6451e-fcd6-407c-b83b-48e1af805ea9       579564   \n",
       "9236  82a7005b-7196-4d56-95ce-a79f937a158d       579546   \n",
       "9237  aac550fe-a586-452d-8d3c-f1b62c94e02c       579545   \n",
       "9238  5330a7d1-2f2b-4df4-85d6-64ca2f6b95b9       579538   \n",
       "9239  571b5c8e-a5b2-4d57-8574-f2ffb06fdeff       579533   \n",
       "\n",
       "                  Lead Origin     Lead Source Do Not Email Do Not Call  \\\n",
       "0                         API      Olark Chat           No          No   \n",
       "1                         API  Organic Search           No          No   \n",
       "2     Landing Page Submission  Direct Traffic           No          No   \n",
       "3     Landing Page Submission  Direct Traffic           No          No   \n",
       "4     Landing Page Submission          Google           No          No   \n",
       "...                       ...             ...          ...         ...   \n",
       "9235  Landing Page Submission  Direct Traffic          Yes          No   \n",
       "9236  Landing Page Submission  Direct Traffic           No          No   \n",
       "9237  Landing Page Submission  Direct Traffic          Yes          No   \n",
       "9238  Landing Page Submission          Google           No          No   \n",
       "9239  Landing Page Submission  Direct Traffic           No          No   \n",
       "\n",
       "      Converted  TotalVisits  Total Time Spent on Website  \\\n",
       "0             0          0.0                            0   \n",
       "1             0          5.0                          674   \n",
       "2             1          2.0                         1532   \n",
       "3             0          1.0                          305   \n",
       "4             1          2.0                         1428   \n",
       "...         ...          ...                          ...   \n",
       "9235          1          8.0                         1845   \n",
       "9236          0          2.0                          238   \n",
       "9237          0          2.0                          199   \n",
       "9238          1          3.0                          499   \n",
       "9239          1          6.0                         1279   \n",
       "\n",
       "      Page Views Per Visit  ... Get updates on DM Content    Lead Profile  \\\n",
       "0                     0.00  ...                        No          Select   \n",
       "1                     2.50  ...                        No          Select   \n",
       "2                     2.00  ...                        No  Potential Lead   \n",
       "3                     1.00  ...                        No          Select   \n",
       "4                     1.00  ...                        No          Select   \n",
       "...                    ...  ...                       ...             ...   \n",
       "9235                  2.67  ...                        No  Potential Lead   \n",
       "9236                  2.00  ...                        No  Potential Lead   \n",
       "9237                  2.00  ...                        No  Potential Lead   \n",
       "9238                  3.00  ...                        No             NaN   \n",
       "9239                  3.00  ...                        No  Potential Lead   \n",
       "\n",
       "                    City Asymmetrique Activity Index  \\\n",
       "0                 Select                   02.Medium   \n",
       "1                 Select                   02.Medium   \n",
       "2                 Mumbai                   02.Medium   \n",
       "3                 Mumbai                   02.Medium   \n",
       "4                 Mumbai                   02.Medium   \n",
       "...                  ...                         ...   \n",
       "9235              Mumbai                   02.Medium   \n",
       "9236              Mumbai                   02.Medium   \n",
       "9237              Mumbai                   02.Medium   \n",
       "9238  Other Metro Cities                   02.Medium   \n",
       "9239        Other Cities                   02.Medium   \n",
       "\n",
       "     Asymmetrique Profile Index Asymmetrique Activity Score  \\\n",
       "0                     02.Medium                        15.0   \n",
       "1                     02.Medium                        15.0   \n",
       "2                       01.High                        14.0   \n",
       "3                       01.High                        13.0   \n",
       "4                       01.High                        15.0   \n",
       "...                         ...                         ...   \n",
       "9235                    01.High                        15.0   \n",
       "9236                    01.High                        14.0   \n",
       "9237                    01.High                        13.0   \n",
       "9238                  02.Medium                        15.0   \n",
       "9239                    01.High                        15.0   \n",
       "\n",
       "     Asymmetrique Profile Score I agree to pay the amount through cheque  \\\n",
       "0                          15.0                                       No   \n",
       "1                          15.0                                       No   \n",
       "2                          20.0                                       No   \n",
       "3                          17.0                                       No   \n",
       "4                          18.0                                       No   \n",
       "...                         ...                                      ...   \n",
       "9235                       17.0                                       No   \n",
       "9236                       19.0                                       No   \n",
       "9237                       20.0                                       No   \n",
       "9238                       16.0                                       No   \n",
       "9239                       18.0                                       No   \n",
       "\n",
       "     A free copy of Mastering The Interview Last Notable Activity  \n",
       "0                                        No              Modified  \n",
       "1                                        No          Email Opened  \n",
       "2                                       Yes          Email Opened  \n",
       "3                                        No              Modified  \n",
       "4                                        No              Modified  \n",
       "...                                     ...                   ...  \n",
       "9235                                     No     Email Marked Spam  \n",
       "9236                                    Yes              SMS Sent  \n",
       "9237                                    Yes              SMS Sent  \n",
       "9238                                     No              SMS Sent  \n",
       "9239                                    Yes              Modified  \n",
       "\n",
       "[9240 rows x 37 columns]>"
      ]
     },
     "execution_count": 111,
     "metadata": {},
     "output_type": "execute_result"
    }
   ],
   "source": [
    "leads_data.describe"
   ]
  },
  {
   "cell_type": "markdown",
   "id": "c5fd9f81",
   "metadata": {},
   "source": [
    "#### Missing values"
   ]
  },
  {
   "cell_type": "code",
   "execution_count": 112,
   "id": "c5e0c54b",
   "metadata": {},
   "outputs": [
    {
     "name": "stdout",
     "output_type": "stream",
     "text": [
      "Prospect ID                                       0.00\n",
      "Lead Number                                       0.00\n",
      "Lead Origin                                       0.00\n",
      "Lead Source                                       0.39\n",
      "Do Not Email                                      0.00\n",
      "Do Not Call                                       0.00\n",
      "Converted                                         0.00\n",
      "TotalVisits                                       1.48\n",
      "Total Time Spent on Website                       0.00\n",
      "Page Views Per Visit                              1.48\n",
      "Last Activity                                     1.11\n",
      "Country                                          26.63\n",
      "Specialization                                   15.56\n",
      "How did you hear about X Education               23.89\n",
      "What is your current occupation                  29.11\n",
      "What matters most to you in choosing a course    29.32\n",
      "Search                                            0.00\n",
      "Magazine                                          0.00\n",
      "Newspaper Article                                 0.00\n",
      "X Education Forums                                0.00\n",
      "Newspaper                                         0.00\n",
      "Digital Advertisement                             0.00\n",
      "Through Recommendations                           0.00\n",
      "Receive More Updates About Our Courses            0.00\n",
      "Tags                                             36.29\n",
      "Lead Quality                                     51.59\n",
      "Update me on Supply Chain Content                 0.00\n",
      "Get updates on DM Content                         0.00\n",
      "Lead Profile                                     29.32\n",
      "City                                             15.37\n",
      "Asymmetrique Activity Index                      45.65\n",
      "Asymmetrique Profile Index                       45.65\n",
      "Asymmetrique Activity Score                      45.65\n",
      "Asymmetrique Profile Score                       45.65\n",
      "I agree to pay the amount through cheque          0.00\n",
      "A free copy of Mastering The Interview            0.00\n",
      "Last Notable Activity                             0.00\n",
      "dtype: float64\n"
     ]
    }
   ],
   "source": [
    "percent_missing = round(100*(leads_data.isnull().sum()/len(leads_data.index)), 2)\n",
    "print(percent_missing)"
   ]
  },
  {
   "cell_type": "markdown",
   "id": "135a16b1",
   "metadata": {},
   "source": [
    "#### Converting select to null values."
   ]
  },
  {
   "cell_type": "code",
   "execution_count": 113,
   "id": "d8888025",
   "metadata": {},
   "outputs": [],
   "source": [
    "leads_data['Specialization'] = leads_data['Specialization'].replace('Select', np.nan)\n",
    "leads_data['How did you hear about X Education'] = leads_data['How did you hear about X Education'].replace('Select', np.nan)\n",
    "leads_data['Lead Profile'] = leads_data['Lead Profile'].replace('Select', np.nan)\n",
    "leads_data['City'] = leads_data['City'].replace('Select', np.nan)"
   ]
  },
  {
   "cell_type": "markdown",
   "id": "8ffc61f7",
   "metadata": {},
   "source": [
    "#### Checking missing values again"
   ]
  },
  {
   "cell_type": "code",
   "execution_count": 114,
   "id": "a05551f1",
   "metadata": {},
   "outputs": [
    {
     "name": "stdout",
     "output_type": "stream",
     "text": [
      "Prospect ID                                       0.00\n",
      "Lead Number                                       0.00\n",
      "Lead Origin                                       0.00\n",
      "Lead Source                                       0.39\n",
      "Do Not Email                                      0.00\n",
      "Do Not Call                                       0.00\n",
      "Converted                                         0.00\n",
      "TotalVisits                                       1.48\n",
      "Total Time Spent on Website                       0.00\n",
      "Page Views Per Visit                              1.48\n",
      "Last Activity                                     1.11\n",
      "Country                                          26.63\n",
      "Specialization                                   36.58\n",
      "How did you hear about X Education               78.46\n",
      "What is your current occupation                  29.11\n",
      "What matters most to you in choosing a course    29.32\n",
      "Search                                            0.00\n",
      "Magazine                                          0.00\n",
      "Newspaper Article                                 0.00\n",
      "X Education Forums                                0.00\n",
      "Newspaper                                         0.00\n",
      "Digital Advertisement                             0.00\n",
      "Through Recommendations                           0.00\n",
      "Receive More Updates About Our Courses            0.00\n",
      "Tags                                             36.29\n",
      "Lead Quality                                     51.59\n",
      "Update me on Supply Chain Content                 0.00\n",
      "Get updates on DM Content                         0.00\n",
      "Lead Profile                                     74.19\n",
      "City                                             39.71\n",
      "Asymmetrique Activity Index                      45.65\n",
      "Asymmetrique Profile Index                       45.65\n",
      "Asymmetrique Activity Score                      45.65\n",
      "Asymmetrique Profile Score                       45.65\n",
      "I agree to pay the amount through cheque          0.00\n",
      "A free copy of Mastering The Interview            0.00\n",
      "Last Notable Activity                             0.00\n",
      "dtype: float64\n"
     ]
    }
   ],
   "source": [
    "percent_missing = round(100*(leads_data.isnull().sum()/len(leads_data.index)), 2)\n",
    "print(percent_missing)"
   ]
  },
  {
   "cell_type": "markdown",
   "id": "98ffa271",
   "metadata": {},
   "source": [
    "#### Dropping the columns having null values more than 30%."
   ]
  },
  {
   "cell_type": "code",
   "execution_count": 115,
   "id": "20639c2b",
   "metadata": {},
   "outputs": [],
   "source": [
    "leads_data = leads_data.drop(['Specialization', 'How did you hear about X Education', 'Tags', 'Lead Quality',\n",
    "                          'Lead Profile','City', 'Asymmetrique Activity Index', 'Asymmetrique Profile Index',\n",
    "                          'Asymmetrique Activity Score', 'Asymmetrique Profile Score'], axis=1)"
   ]
  },
  {
   "cell_type": "code",
   "execution_count": 116,
   "id": "f2faa0db",
   "metadata": {},
   "outputs": [
    {
     "name": "stdout",
     "output_type": "stream",
     "text": [
      "Prospect ID                                       0.00\n",
      "Lead Number                                       0.00\n",
      "Lead Origin                                       0.00\n",
      "Lead Source                                       0.39\n",
      "Do Not Email                                      0.00\n",
      "Do Not Call                                       0.00\n",
      "Converted                                         0.00\n",
      "TotalVisits                                       1.48\n",
      "Total Time Spent on Website                       0.00\n",
      "Page Views Per Visit                              1.48\n",
      "Last Activity                                     1.11\n",
      "Country                                          26.63\n",
      "What is your current occupation                  29.11\n",
      "What matters most to you in choosing a course    29.32\n",
      "Search                                            0.00\n",
      "Magazine                                          0.00\n",
      "Newspaper Article                                 0.00\n",
      "X Education Forums                                0.00\n",
      "Newspaper                                         0.00\n",
      "Digital Advertisement                             0.00\n",
      "Through Recommendations                           0.00\n",
      "Receive More Updates About Our Courses            0.00\n",
      "Update me on Supply Chain Content                 0.00\n",
      "Get updates on DM Content                         0.00\n",
      "I agree to pay the amount through cheque          0.00\n",
      "A free copy of Mastering The Interview            0.00\n",
      "Last Notable Activity                             0.00\n",
      "dtype: float64\n"
     ]
    }
   ],
   "source": [
    "percent_missing = round(100*(leads_data.isnull().sum()/len(leads_data.index)), 2)\n",
    "print(percent_missing)"
   ]
  },
  {
   "cell_type": "code",
   "execution_count": 117,
   "id": "5835d151",
   "metadata": {},
   "outputs": [],
   "source": [
    "leads_data[\"Country\"].fillna(\"Unknown\",inplace=True)"
   ]
  },
  {
   "cell_type": "code",
   "execution_count": 118,
   "id": "d3401249",
   "metadata": {},
   "outputs": [
    {
     "data": {
      "text/plain": [
       "0"
      ]
     },
     "execution_count": 118,
     "metadata": {},
     "output_type": "execute_result"
    }
   ],
   "source": [
    "leads_data[\"Country\"].isnull().sum()"
   ]
  },
  {
   "cell_type": "code",
   "execution_count": 119,
   "id": "3152cd66",
   "metadata": {},
   "outputs": [
    {
     "data": {
      "text/plain": [
       "Unemployed              5600\n",
       "Working Professional     706\n",
       "Student                  210\n",
       "Other                     16\n",
       "Housewife                 10\n",
       "Businessman                8\n",
       "Name: What is your current occupation, dtype: int64"
      ]
     },
     "execution_count": 119,
     "metadata": {},
     "output_type": "execute_result"
    }
   ],
   "source": [
    "leads_data[\"What is your current occupation\"].value_counts()"
   ]
  },
  {
   "cell_type": "code",
   "execution_count": 120,
   "id": "7b69836a",
   "metadata": {},
   "outputs": [],
   "source": [
    "leads_data[\"What is your current occupation\"].fillna(\"Unknown\",inplace=True)"
   ]
  },
  {
   "cell_type": "code",
   "execution_count": 121,
   "id": "85b1d93c",
   "metadata": {},
   "outputs": [
    {
     "data": {
      "text/plain": [
       "0"
      ]
     },
     "execution_count": 121,
     "metadata": {},
     "output_type": "execute_result"
    }
   ],
   "source": [
    "leads_data[\"What is your current occupation\"].isnull().sum()"
   ]
  },
  {
   "cell_type": "code",
   "execution_count": 122,
   "id": "74fc0280",
   "metadata": {},
   "outputs": [
    {
     "data": {
      "text/plain": [
       "Better Career Prospects      6528\n",
       "Flexibility & Convenience       2\n",
       "Other                           1\n",
       "Name: What matters most to you in choosing a course, dtype: int64"
      ]
     },
     "execution_count": 122,
     "metadata": {},
     "output_type": "execute_result"
    }
   ],
   "source": [
    "leads_data[\"What matters most to you in choosing a course\"].value_counts()"
   ]
  },
  {
   "cell_type": "code",
   "execution_count": 123,
   "id": "f20196df",
   "metadata": {},
   "outputs": [],
   "source": [
    "leads_data[\"What matters most to you in choosing a course\"].fillna(\"Unknown\",inplace=True)"
   ]
  },
  {
   "cell_type": "code",
   "execution_count": 124,
   "id": "ca9a2289",
   "metadata": {},
   "outputs": [
    {
     "data": {
      "text/plain": [
       "0"
      ]
     },
     "execution_count": 124,
     "metadata": {},
     "output_type": "execute_result"
    }
   ],
   "source": [
    "leads_data[\"What matters most to you in choosing a course\"].isnull().sum()"
   ]
  },
  {
   "cell_type": "code",
   "execution_count": 125,
   "id": "71c83280",
   "metadata": {},
   "outputs": [
    {
     "name": "stdout",
     "output_type": "stream",
     "text": [
      "Prospect ID                                      0.00\n",
      "Lead Number                                      0.00\n",
      "Lead Origin                                      0.00\n",
      "Lead Source                                      0.39\n",
      "Do Not Email                                     0.00\n",
      "Do Not Call                                      0.00\n",
      "Converted                                        0.00\n",
      "TotalVisits                                      1.48\n",
      "Total Time Spent on Website                      0.00\n",
      "Page Views Per Visit                             1.48\n",
      "Last Activity                                    1.11\n",
      "Country                                          0.00\n",
      "What is your current occupation                  0.00\n",
      "What matters most to you in choosing a course    0.00\n",
      "Search                                           0.00\n",
      "Magazine                                         0.00\n",
      "Newspaper Article                                0.00\n",
      "X Education Forums                               0.00\n",
      "Newspaper                                        0.00\n",
      "Digital Advertisement                            0.00\n",
      "Through Recommendations                          0.00\n",
      "Receive More Updates About Our Courses           0.00\n",
      "Update me on Supply Chain Content                0.00\n",
      "Get updates on DM Content                        0.00\n",
      "I agree to pay the amount through cheque         0.00\n",
      "A free copy of Mastering The Interview           0.00\n",
      "Last Notable Activity                            0.00\n",
      "dtype: float64\n"
     ]
    }
   ],
   "source": [
    "percent_missing = round(100*(leads_data.isnull().sum()/len(leads_data.index)), 2)\n",
    "print(percent_missing)"
   ]
  },
  {
   "cell_type": "code",
   "execution_count": 126,
   "id": "1e132a36",
   "metadata": {},
   "outputs": [
    {
     "data": {
      "text/plain": [
       "Google               2868\n",
       "Direct Traffic       2543\n",
       "Olark Chat           1755\n",
       "Organic Search       1154\n",
       "Reference             534\n",
       "Welingak Website      142\n",
       "Referral Sites        125\n",
       "Facebook               55\n",
       "bing                    6\n",
       "google                  5\n",
       "Click2call              4\n",
       "Press_Release           2\n",
       "Social Media            2\n",
       "Live Chat               2\n",
       "youtubechannel          1\n",
       "testone                 1\n",
       "Pay per Click Ads       1\n",
       "welearnblog_Home        1\n",
       "WeLearn                 1\n",
       "blog                    1\n",
       "NC_EDM                  1\n",
       "Name: Lead Source, dtype: int64"
      ]
     },
     "execution_count": 126,
     "metadata": {},
     "output_type": "execute_result"
    }
   ],
   "source": [
    "leads_data[\"Lead Source\"].value_counts()"
   ]
  },
  {
   "cell_type": "code",
   "execution_count": 127,
   "id": "f85fdffc",
   "metadata": {},
   "outputs": [],
   "source": [
    "leads_data[\"Lead Source\"].fillna(\"Google\",inplace=True)"
   ]
  },
  {
   "cell_type": "code",
   "execution_count": 128,
   "id": "261ce761",
   "metadata": {},
   "outputs": [
    {
     "data": {
      "text/plain": [
       "0.0      2189\n",
       "2.0      1680\n",
       "3.0      1306\n",
       "4.0      1120\n",
       "5.0       783\n",
       "6.0       466\n",
       "1.0       395\n",
       "7.0       309\n",
       "8.0       224\n",
       "9.0       164\n",
       "10.0      114\n",
       "11.0       86\n",
       "13.0       48\n",
       "12.0       45\n",
       "14.0       36\n",
       "16.0       21\n",
       "15.0       18\n",
       "17.0       16\n",
       "18.0       15\n",
       "20.0       12\n",
       "19.0        9\n",
       "21.0        6\n",
       "23.0        6\n",
       "24.0        5\n",
       "25.0        5\n",
       "27.0        5\n",
       "22.0        3\n",
       "29.0        2\n",
       "28.0        2\n",
       "26.0        2\n",
       "141.0       1\n",
       "55.0        1\n",
       "30.0        1\n",
       "43.0        1\n",
       "74.0        1\n",
       "41.0        1\n",
       "54.0        1\n",
       "115.0       1\n",
       "251.0       1\n",
       "32.0        1\n",
       "42.0        1\n",
       "Name: TotalVisits, dtype: int64"
      ]
     },
     "execution_count": 128,
     "metadata": {},
     "output_type": "execute_result"
    }
   ],
   "source": [
    "leads_data[\"TotalVisits\"].value_counts()"
   ]
  },
  {
   "cell_type": "code",
   "execution_count": 129,
   "id": "8d59f42f",
   "metadata": {},
   "outputs": [
    {
     "data": {
      "text/plain": [
       "3.0"
      ]
     },
     "execution_count": 129,
     "metadata": {},
     "output_type": "execute_result"
    }
   ],
   "source": [
    "leads_data['TotalVisits'].median()"
   ]
  },
  {
   "cell_type": "code",
   "execution_count": 130,
   "id": "3d4b150d",
   "metadata": {},
   "outputs": [],
   "source": [
    "leads_data['TotalVisits'] = leads_data['TotalVisits'].replace(np.nan, leads_data['TotalVisits'].median())"
   ]
  },
  {
   "cell_type": "code",
   "execution_count": 131,
   "id": "89e218de",
   "metadata": {},
   "outputs": [
    {
     "data": {
      "text/plain": [
       "0.00    2189\n",
       "2.00    1795\n",
       "3.00    1196\n",
       "4.00     896\n",
       "1.00     651\n",
       "        ... \n",
       "3.43       1\n",
       "2.56       1\n",
       "6.33       1\n",
       "1.64       1\n",
       "2.08       1\n",
       "Name: Page Views Per Visit, Length: 114, dtype: int64"
      ]
     },
     "execution_count": 131,
     "metadata": {},
     "output_type": "execute_result"
    }
   ],
   "source": [
    "leads_data[\"Page Views Per Visit\"].value_counts()"
   ]
  },
  {
   "cell_type": "code",
   "execution_count": 132,
   "id": "2d6dfe14",
   "metadata": {},
   "outputs": [
    {
     "data": {
      "text/plain": [
       "2.0"
      ]
     },
     "execution_count": 132,
     "metadata": {},
     "output_type": "execute_result"
    }
   ],
   "source": [
    "leads_data['Page Views Per Visit'].median()"
   ]
  },
  {
   "cell_type": "code",
   "execution_count": 133,
   "id": "96d9d486",
   "metadata": {},
   "outputs": [],
   "source": [
    "leads_data['Page Views Per Visit'] = leads_data['Page Views Per Visit'].replace(np.nan, leads_data['Page Views Per Visit'].median())"
   ]
  },
  {
   "cell_type": "code",
   "execution_count": 134,
   "id": "e14c85c7",
   "metadata": {},
   "outputs": [
    {
     "data": {
      "text/plain": [
       "Email Opened                    3437\n",
       "SMS Sent                        2745\n",
       "Olark Chat Conversation          973\n",
       "Page Visited on Website          640\n",
       "Converted to Lead                428\n",
       "Email Bounced                    326\n",
       "Email Link Clicked               267\n",
       "Form Submitted on Website        116\n",
       "Unreachable                       93\n",
       "Unsubscribed                      61\n",
       "Had a Phone Conversation          30\n",
       "Approached upfront                 9\n",
       "View in browser link Clicked       6\n",
       "Email Received                     2\n",
       "Email Marked Spam                  2\n",
       "Visited Booth in Tradeshow         1\n",
       "Resubscribed to emails             1\n",
       "Name: Last Activity, dtype: int64"
      ]
     },
     "execution_count": 134,
     "metadata": {},
     "output_type": "execute_result"
    }
   ],
   "source": [
    "leads_data[\"Last Activity\"].value_counts()"
   ]
  },
  {
   "cell_type": "code",
   "execution_count": 135,
   "id": "e3571536",
   "metadata": {},
   "outputs": [],
   "source": [
    "leads_data[\"Last Activity\"].fillna(\"Email Opened \",inplace=True)"
   ]
  },
  {
   "cell_type": "code",
   "execution_count": 136,
   "id": "edbdf8bc",
   "metadata": {},
   "outputs": [
    {
     "name": "stdout",
     "output_type": "stream",
     "text": [
      "Prospect ID                                      0.0\n",
      "Lead Number                                      0.0\n",
      "Lead Origin                                      0.0\n",
      "Lead Source                                      0.0\n",
      "Do Not Email                                     0.0\n",
      "Do Not Call                                      0.0\n",
      "Converted                                        0.0\n",
      "TotalVisits                                      0.0\n",
      "Total Time Spent on Website                      0.0\n",
      "Page Views Per Visit                             0.0\n",
      "Last Activity                                    0.0\n",
      "Country                                          0.0\n",
      "What is your current occupation                  0.0\n",
      "What matters most to you in choosing a course    0.0\n",
      "Search                                           0.0\n",
      "Magazine                                         0.0\n",
      "Newspaper Article                                0.0\n",
      "X Education Forums                               0.0\n",
      "Newspaper                                        0.0\n",
      "Digital Advertisement                            0.0\n",
      "Through Recommendations                          0.0\n",
      "Receive More Updates About Our Courses           0.0\n",
      "Update me on Supply Chain Content                0.0\n",
      "Get updates on DM Content                        0.0\n",
      "I agree to pay the amount through cheque         0.0\n",
      "A free copy of Mastering The Interview           0.0\n",
      "Last Notable Activity                            0.0\n",
      "dtype: float64\n"
     ]
    }
   ],
   "source": [
    "percent_missing = round(100*(leads_data.isnull().sum()/len(leads_data.index)), 2)\n",
    "print(percent_missing)"
   ]
  },
  {
   "cell_type": "code",
   "execution_count": 137,
   "id": "476af9d0",
   "metadata": {},
   "outputs": [
    {
     "data": {
      "text/plain": [
       "(9240, 27)"
      ]
     },
     "execution_count": 137,
     "metadata": {},
     "output_type": "execute_result"
    }
   ],
   "source": [
    "leads_data.shape"
   ]
  },
  {
   "cell_type": "markdown",
   "id": "137483b1",
   "metadata": {},
   "source": [
    "#### Dropping the columns having constant features."
   ]
  },
  {
   "cell_type": "code",
   "execution_count": 138,
   "id": "e200211e",
   "metadata": {},
   "outputs": [],
   "source": [
    "leads_data = leads_data.drop(['What matters most to you in choosing a course'], axis=1)"
   ]
  },
  {
   "cell_type": "code",
   "execution_count": 139,
   "id": "1b52e075",
   "metadata": {},
   "outputs": [],
   "source": [
    "leads_data = leads_data.drop(['Magazine', 'Receive More Updates About Our Courses', 'Update me on Supply Chain Content', \n",
    "                          'Get updates on DM Content', 'I agree to pay the amount through cheque'], axis=1)"
   ]
  },
  {
   "cell_type": "code",
   "execution_count": 140,
   "id": "45fe71f6",
   "metadata": {},
   "outputs": [
    {
     "data": {
      "text/plain": [
       "(9240, 21)"
      ]
     },
     "execution_count": 140,
     "metadata": {},
     "output_type": "execute_result"
    }
   ],
   "source": [
    "leads_data.shape"
   ]
  },
  {
   "cell_type": "code",
   "execution_count": 141,
   "id": "85c1a413",
   "metadata": {},
   "outputs": [],
   "source": [
    "leads_data = leads_data.drop([\"Prospect ID\",\"Lead Number\"], axis=1)"
   ]
  },
  {
   "cell_type": "code",
   "execution_count": 142,
   "id": "0b9d1d15",
   "metadata": {},
   "outputs": [
    {
     "data": {
      "text/plain": [
       "(9240, 19)"
      ]
     },
     "execution_count": 142,
     "metadata": {},
     "output_type": "execute_result"
    }
   ],
   "source": [
    "leads_data.shape"
   ]
  },
  {
   "cell_type": "markdown",
   "id": "0fc0fb3e",
   "metadata": {},
   "source": [
    "#### Outliers Treatment"
   ]
  },
  {
   "cell_type": "code",
   "execution_count": 143,
   "id": "aa37f82f",
   "metadata": {},
   "outputs": [
    {
     "data": {
      "text/html": [
       "<div>\n",
       "<style scoped>\n",
       "    .dataframe tbody tr th:only-of-type {\n",
       "        vertical-align: middle;\n",
       "    }\n",
       "\n",
       "    .dataframe tbody tr th {\n",
       "        vertical-align: top;\n",
       "    }\n",
       "\n",
       "    .dataframe thead th {\n",
       "        text-align: right;\n",
       "    }\n",
       "</style>\n",
       "<table border=\"1\" class=\"dataframe\">\n",
       "  <thead>\n",
       "    <tr style=\"text-align: right;\">\n",
       "      <th></th>\n",
       "      <th>Converted</th>\n",
       "      <th>TotalVisits</th>\n",
       "      <th>Total Time Spent on Website</th>\n",
       "      <th>Page Views Per Visit</th>\n",
       "    </tr>\n",
       "  </thead>\n",
       "  <tbody>\n",
       "    <tr>\n",
       "      <th>count</th>\n",
       "      <td>9240.000000</td>\n",
       "      <td>9240.000000</td>\n",
       "      <td>9240.000000</td>\n",
       "      <td>9240.000000</td>\n",
       "    </tr>\n",
       "    <tr>\n",
       "      <th>mean</th>\n",
       "      <td>0.385390</td>\n",
       "      <td>3.438636</td>\n",
       "      <td>487.698268</td>\n",
       "      <td>2.357440</td>\n",
       "    </tr>\n",
       "    <tr>\n",
       "      <th>std</th>\n",
       "      <td>0.486714</td>\n",
       "      <td>4.819024</td>\n",
       "      <td>548.021466</td>\n",
       "      <td>2.145781</td>\n",
       "    </tr>\n",
       "    <tr>\n",
       "      <th>min</th>\n",
       "      <td>0.000000</td>\n",
       "      <td>0.000000</td>\n",
       "      <td>0.000000</td>\n",
       "      <td>0.000000</td>\n",
       "    </tr>\n",
       "    <tr>\n",
       "      <th>25%</th>\n",
       "      <td>0.000000</td>\n",
       "      <td>1.000000</td>\n",
       "      <td>12.000000</td>\n",
       "      <td>1.000000</td>\n",
       "    </tr>\n",
       "    <tr>\n",
       "      <th>50%</th>\n",
       "      <td>0.000000</td>\n",
       "      <td>3.000000</td>\n",
       "      <td>248.000000</td>\n",
       "      <td>2.000000</td>\n",
       "    </tr>\n",
       "    <tr>\n",
       "      <th>75%</th>\n",
       "      <td>1.000000</td>\n",
       "      <td>5.000000</td>\n",
       "      <td>936.000000</td>\n",
       "      <td>3.000000</td>\n",
       "    </tr>\n",
       "    <tr>\n",
       "      <th>90%</th>\n",
       "      <td>1.000000</td>\n",
       "      <td>7.000000</td>\n",
       "      <td>1380.000000</td>\n",
       "      <td>5.000000</td>\n",
       "    </tr>\n",
       "    <tr>\n",
       "      <th>95%</th>\n",
       "      <td>1.000000</td>\n",
       "      <td>10.000000</td>\n",
       "      <td>1562.000000</td>\n",
       "      <td>6.000000</td>\n",
       "    </tr>\n",
       "    <tr>\n",
       "      <th>99%</th>\n",
       "      <td>1.000000</td>\n",
       "      <td>17.000000</td>\n",
       "      <td>1840.610000</td>\n",
       "      <td>9.000000</td>\n",
       "    </tr>\n",
       "    <tr>\n",
       "      <th>max</th>\n",
       "      <td>1.000000</td>\n",
       "      <td>251.000000</td>\n",
       "      <td>2272.000000</td>\n",
       "      <td>55.000000</td>\n",
       "    </tr>\n",
       "  </tbody>\n",
       "</table>\n",
       "</div>"
      ],
      "text/plain": [
       "         Converted  TotalVisits  Total Time Spent on Website  \\\n",
       "count  9240.000000  9240.000000                  9240.000000   \n",
       "mean      0.385390     3.438636                   487.698268   \n",
       "std       0.486714     4.819024                   548.021466   \n",
       "min       0.000000     0.000000                     0.000000   \n",
       "25%       0.000000     1.000000                    12.000000   \n",
       "50%       0.000000     3.000000                   248.000000   \n",
       "75%       1.000000     5.000000                   936.000000   \n",
       "90%       1.000000     7.000000                  1380.000000   \n",
       "95%       1.000000    10.000000                  1562.000000   \n",
       "99%       1.000000    17.000000                  1840.610000   \n",
       "max       1.000000   251.000000                  2272.000000   \n",
       "\n",
       "       Page Views Per Visit  \n",
       "count           9240.000000  \n",
       "mean               2.357440  \n",
       "std                2.145781  \n",
       "min                0.000000  \n",
       "25%                1.000000  \n",
       "50%                2.000000  \n",
       "75%                3.000000  \n",
       "90%                5.000000  \n",
       "95%                6.000000  \n",
       "99%                9.000000  \n",
       "max               55.000000  "
      ]
     },
     "execution_count": 143,
     "metadata": {},
     "output_type": "execute_result"
    }
   ],
   "source": [
    "leads_data.describe(percentiles=[.25,.5,.75,.90,.95,.99])"
   ]
  },
  {
   "cell_type": "markdown",
   "id": "b6cb70f7",
   "metadata": {},
   "source": [
    "#### Numerical Features"
   ]
  },
  {
   "cell_type": "code",
   "execution_count": 144,
   "id": "84ba60b0",
   "metadata": {},
   "outputs": [
    {
     "data": {
      "image/png": "[encoded data removed]",
      "text/plain": [
       "<Figure size 1080x1440 with 3 Axes>"
      ]
     },
     "metadata": {
      "needs_background": "light"
     },
     "output_type": "display_data"
    }
   ],
   "source": [
    "plt.figure(figsize=(15, 20))\n",
    "plt.subplot(4,3,1)\n",
    "sns.boxplot(y = 'TotalVisits',  data = leads_data)\n",
    "plt.subplot(4,3,2)\n",
    "sns.boxplot(y = 'Total Time Spent on Website', data = leads_data)\n",
    "plt.subplot(4,3,3)\n",
    "sns.boxplot(y = 'Page Views Per Visit', data = leads_data)\n",
    "plt.show()"
   ]
  },
  {
   "cell_type": "markdown",
   "id": "8f9fcb6b",
   "metadata": {},
   "source": [
    "#### Removing values beyond 99% for TotalVisits"
   ]
  },
  {
   "cell_type": "code",
   "execution_count": 145,
   "id": "6e14950c",
   "metadata": {},
   "outputs": [
    {
     "data": {
      "text/plain": [
       "count    9141.000000\n",
       "mean        3.179740\n",
       "std         2.913631\n",
       "min         0.000000\n",
       "25%         1.000000\n",
       "50%         3.000000\n",
       "75%         5.000000\n",
       "90%         7.000000\n",
       "95%         9.000000\n",
       "99%        13.000000\n",
       "max        16.000000\n",
       "Name: TotalVisits, dtype: float64"
      ]
     },
     "execution_count": 145,
     "metadata": {},
     "output_type": "execute_result"
    }
   ],
   "source": [
    "nn_quartile_total_visits = leads_data['TotalVisits'].quantile(0.99)\n",
    "leads_data = leads_data[leads_data[\"TotalVisits\"] < nn_quartile_total_visits]\n",
    "leads_data[\"TotalVisits\"].describe(percentiles=[.25,.5,.75,.90,.95,.99])"
   ]
  },
  {
   "cell_type": "code",
   "execution_count": 146,
   "id": "0cdd0e9c",
   "metadata": {},
   "outputs": [
    {
     "data": {
      "text/html": [
       "<div>\n",
       "<style scoped>\n",
       "    .dataframe tbody tr th:only-of-type {\n",
       "        vertical-align: middle;\n",
       "    }\n",
       "\n",
       "    .dataframe tbody tr th {\n",
       "        vertical-align: top;\n",
       "    }\n",
       "\n",
       "    .dataframe thead th {\n",
       "        text-align: right;\n",
       "    }\n",
       "</style>\n",
       "<table border=\"1\" class=\"dataframe\">\n",
       "  <thead>\n",
       "    <tr style=\"text-align: right;\">\n",
       "      <th></th>\n",
       "      <th>Converted</th>\n",
       "      <th>TotalVisits</th>\n",
       "      <th>Total Time Spent on Website</th>\n",
       "      <th>Page Views Per Visit</th>\n",
       "    </tr>\n",
       "  </thead>\n",
       "  <tbody>\n",
       "    <tr>\n",
       "      <th>count</th>\n",
       "      <td>9141.000000</td>\n",
       "      <td>9141.000000</td>\n",
       "      <td>9141.000000</td>\n",
       "      <td>9141.000000</td>\n",
       "    </tr>\n",
       "    <tr>\n",
       "      <th>mean</th>\n",
       "      <td>0.385406</td>\n",
       "      <td>3.179740</td>\n",
       "      <td>486.074609</td>\n",
       "      <td>2.329506</td>\n",
       "    </tr>\n",
       "    <tr>\n",
       "      <th>std</th>\n",
       "      <td>0.486718</td>\n",
       "      <td>2.913631</td>\n",
       "      <td>547.856302</td>\n",
       "      <td>2.046673</td>\n",
       "    </tr>\n",
       "    <tr>\n",
       "      <th>min</th>\n",
       "      <td>0.000000</td>\n",
       "      <td>0.000000</td>\n",
       "      <td>0.000000</td>\n",
       "      <td>0.000000</td>\n",
       "    </tr>\n",
       "    <tr>\n",
       "      <th>25%</th>\n",
       "      <td>0.000000</td>\n",
       "      <td>1.000000</td>\n",
       "      <td>10.000000</td>\n",
       "      <td>1.000000</td>\n",
       "    </tr>\n",
       "    <tr>\n",
       "      <th>50%</th>\n",
       "      <td>0.000000</td>\n",
       "      <td>3.000000</td>\n",
       "      <td>247.000000</td>\n",
       "      <td>2.000000</td>\n",
       "    </tr>\n",
       "    <tr>\n",
       "      <th>75%</th>\n",
       "      <td>1.000000</td>\n",
       "      <td>5.000000</td>\n",
       "      <td>933.000000</td>\n",
       "      <td>3.000000</td>\n",
       "    </tr>\n",
       "    <tr>\n",
       "      <th>90%</th>\n",
       "      <td>1.000000</td>\n",
       "      <td>7.000000</td>\n",
       "      <td>1379.000000</td>\n",
       "      <td>5.000000</td>\n",
       "    </tr>\n",
       "    <tr>\n",
       "      <th>95%</th>\n",
       "      <td>1.000000</td>\n",
       "      <td>9.000000</td>\n",
       "      <td>1561.000000</td>\n",
       "      <td>6.000000</td>\n",
       "    </tr>\n",
       "    <tr>\n",
       "      <th>99%</th>\n",
       "      <td>1.000000</td>\n",
       "      <td>13.000000</td>\n",
       "      <td>1839.600000</td>\n",
       "      <td>9.000000</td>\n",
       "    </tr>\n",
       "    <tr>\n",
       "      <th>max</th>\n",
       "      <td>1.000000</td>\n",
       "      <td>16.000000</td>\n",
       "      <td>2272.000000</td>\n",
       "      <td>16.000000</td>\n",
       "    </tr>\n",
       "  </tbody>\n",
       "</table>\n",
       "</div>"
      ],
      "text/plain": [
       "         Converted  TotalVisits  Total Time Spent on Website  \\\n",
       "count  9141.000000  9141.000000                  9141.000000   \n",
       "mean      0.385406     3.179740                   486.074609   \n",
       "std       0.486718     2.913631                   547.856302   \n",
       "min       0.000000     0.000000                     0.000000   \n",
       "25%       0.000000     1.000000                    10.000000   \n",
       "50%       0.000000     3.000000                   247.000000   \n",
       "75%       1.000000     5.000000                   933.000000   \n",
       "90%       1.000000     7.000000                  1379.000000   \n",
       "95%       1.000000     9.000000                  1561.000000   \n",
       "99%       1.000000    13.000000                  1839.600000   \n",
       "max       1.000000    16.000000                  2272.000000   \n",
       "\n",
       "       Page Views Per Visit  \n",
       "count           9141.000000  \n",
       "mean               2.329506  \n",
       "std                2.046673  \n",
       "min                0.000000  \n",
       "25%                1.000000  \n",
       "50%                2.000000  \n",
       "75%                3.000000  \n",
       "90%                5.000000  \n",
       "95%                6.000000  \n",
       "99%                9.000000  \n",
       "max               16.000000  "
      ]
     },
     "execution_count": 146,
     "metadata": {},
     "output_type": "execute_result"
    }
   ],
   "source": [
    "leads_data.describe(percentiles=[.25,.5,.75,.90,.95,.99])"
   ]
  },
  {
   "cell_type": "code",
   "execution_count": 147,
   "id": "ce73031b",
   "metadata": {},
   "outputs": [
    {
     "data": {
      "text/plain": [
       "count    9029.000000\n",
       "mean        2.226383\n",
       "std         1.823395\n",
       "min         0.000000\n",
       "25%         1.000000\n",
       "50%         2.000000\n",
       "75%         3.000000\n",
       "90%         5.000000\n",
       "95%         6.000000\n",
       "99%         7.000000\n",
       "max         8.000000\n",
       "Name: Page Views Per Visit, dtype: float64"
      ]
     },
     "execution_count": 147,
     "metadata": {},
     "output_type": "execute_result"
    }
   ],
   "source": [
    "nn_quartile_page_visits = leads_data['Page Views Per Visit'].quantile(0.99)\n",
    "leads_data = leads_data[leads_data[\"Page Views Per Visit\"] < nn_quartile_page_visits]\n",
    "leads_data[\"Page Views Per Visit\"].describe(percentiles=[.25,.5,.75,.90,.95,.99])"
   ]
  },
  {
   "cell_type": "code",
   "execution_count": 148,
   "id": "01f00343",
   "metadata": {},
   "outputs": [
    {
     "data": {
      "text/html": [
       "<div>\n",
       "<style scoped>\n",
       "    .dataframe tbody tr th:only-of-type {\n",
       "        vertical-align: middle;\n",
       "    }\n",
       "\n",
       "    .dataframe tbody tr th {\n",
       "        vertical-align: top;\n",
       "    }\n",
       "\n",
       "    .dataframe thead th {\n",
       "        text-align: right;\n",
       "    }\n",
       "</style>\n",
       "<table border=\"1\" class=\"dataframe\">\n",
       "  <thead>\n",
       "    <tr style=\"text-align: right;\">\n",
       "      <th></th>\n",
       "      <th>Converted</th>\n",
       "      <th>TotalVisits</th>\n",
       "      <th>Total Time Spent on Website</th>\n",
       "      <th>Page Views Per Visit</th>\n",
       "    </tr>\n",
       "  </thead>\n",
       "  <tbody>\n",
       "    <tr>\n",
       "      <th>count</th>\n",
       "      <td>9029.000000</td>\n",
       "      <td>9029.000000</td>\n",
       "      <td>9029.000000</td>\n",
       "      <td>9029.000000</td>\n",
       "    </tr>\n",
       "    <tr>\n",
       "      <th>mean</th>\n",
       "      <td>0.385092</td>\n",
       "      <td>3.087164</td>\n",
       "      <td>483.133016</td>\n",
       "      <td>2.226383</td>\n",
       "    </tr>\n",
       "    <tr>\n",
       "      <th>std</th>\n",
       "      <td>0.486644</td>\n",
       "      <td>2.801244</td>\n",
       "      <td>547.420675</td>\n",
       "      <td>1.823395</td>\n",
       "    </tr>\n",
       "    <tr>\n",
       "      <th>min</th>\n",
       "      <td>0.000000</td>\n",
       "      <td>0.000000</td>\n",
       "      <td>0.000000</td>\n",
       "      <td>0.000000</td>\n",
       "    </tr>\n",
       "    <tr>\n",
       "      <th>25%</th>\n",
       "      <td>0.000000</td>\n",
       "      <td>1.000000</td>\n",
       "      <td>7.000000</td>\n",
       "      <td>1.000000</td>\n",
       "    </tr>\n",
       "    <tr>\n",
       "      <th>50%</th>\n",
       "      <td>0.000000</td>\n",
       "      <td>3.000000</td>\n",
       "      <td>245.000000</td>\n",
       "      <td>2.000000</td>\n",
       "    </tr>\n",
       "    <tr>\n",
       "      <th>75%</th>\n",
       "      <td>1.000000</td>\n",
       "      <td>4.000000</td>\n",
       "      <td>929.000000</td>\n",
       "      <td>3.000000</td>\n",
       "    </tr>\n",
       "    <tr>\n",
       "      <th>90%</th>\n",
       "      <td>1.000000</td>\n",
       "      <td>7.000000</td>\n",
       "      <td>1378.000000</td>\n",
       "      <td>5.000000</td>\n",
       "    </tr>\n",
       "    <tr>\n",
       "      <th>95%</th>\n",
       "      <td>1.000000</td>\n",
       "      <td>8.000000</td>\n",
       "      <td>1558.000000</td>\n",
       "      <td>6.000000</td>\n",
       "    </tr>\n",
       "    <tr>\n",
       "      <th>99%</th>\n",
       "      <td>1.000000</td>\n",
       "      <td>13.000000</td>\n",
       "      <td>1839.720000</td>\n",
       "      <td>7.000000</td>\n",
       "    </tr>\n",
       "    <tr>\n",
       "      <th>max</th>\n",
       "      <td>1.000000</td>\n",
       "      <td>16.000000</td>\n",
       "      <td>2272.000000</td>\n",
       "      <td>8.000000</td>\n",
       "    </tr>\n",
       "  </tbody>\n",
       "</table>\n",
       "</div>"
      ],
      "text/plain": [
       "         Converted  TotalVisits  Total Time Spent on Website  \\\n",
       "count  9029.000000  9029.000000                  9029.000000   \n",
       "mean      0.385092     3.087164                   483.133016   \n",
       "std       0.486644     2.801244                   547.420675   \n",
       "min       0.000000     0.000000                     0.000000   \n",
       "25%       0.000000     1.000000                     7.000000   \n",
       "50%       0.000000     3.000000                   245.000000   \n",
       "75%       1.000000     4.000000                   929.000000   \n",
       "90%       1.000000     7.000000                  1378.000000   \n",
       "95%       1.000000     8.000000                  1558.000000   \n",
       "99%       1.000000    13.000000                  1839.720000   \n",
       "max       1.000000    16.000000                  2272.000000   \n",
       "\n",
       "       Page Views Per Visit  \n",
       "count           9029.000000  \n",
       "mean               2.226383  \n",
       "std                1.823395  \n",
       "min                0.000000  \n",
       "25%                1.000000  \n",
       "50%                2.000000  \n",
       "75%                3.000000  \n",
       "90%                5.000000  \n",
       "95%                6.000000  \n",
       "99%                7.000000  \n",
       "max                8.000000  "
      ]
     },
     "execution_count": 148,
     "metadata": {},
     "output_type": "execute_result"
    }
   ],
   "source": [
    "leads_data.describe(percentiles=[.25,.5,.75,.90,.95,.99])"
   ]
  },
  {
   "cell_type": "code",
   "execution_count": 296,
   "id": "69f2ccc9",
   "metadata": {},
   "outputs": [
    {
     "data": {
      "text/plain": [
       "(9029, 72)"
      ]
     },
     "execution_count": 296,
     "metadata": {},
     "output_type": "execute_result"
    }
   ],
   "source": [
    "leads_data.shape"
   ]
  },
  {
   "cell_type": "markdown",
   "id": "3a992d76",
   "metadata": {},
   "source": [
    "### DATA ANALYSIS"
   ]
  },
  {
   "cell_type": "code",
   "execution_count": 149,
   "id": "f1fd7dcf",
   "metadata": {},
   "outputs": [],
   "source": [
    "# Converted\n",
    "leads_0=leads_data.loc[leads_data[\"Converted\"]==0]\n",
    "leads_1=leads_data.loc[leads_data[\"Converted\"]==1]"
   ]
  },
  {
   "cell_type": "code",
   "execution_count": 150,
   "id": "ac420c09",
   "metadata": {},
   "outputs": [
    {
     "data": {
      "text/plain": [
       "<AxesSubplot:>"
      ]
     },
     "execution_count": 150,
     "metadata": {},
     "output_type": "execute_result"
    },
    {
     "data": {
      "image/png": "[encoded data removed]",
      "text/plain": [
       "<Figure size 432x288 with 1 Axes>"
      ]
     },
     "metadata": {
      "needs_background": "light"
     },
     "output_type": "display_data"
    }
   ],
   "source": [
    "leads_data.Converted.value_counts().plot(kind=\"bar\")"
   ]
  },
  {
   "cell_type": "code",
   "execution_count": 151,
   "id": "f9f5837f",
   "metadata": {},
   "outputs": [
    {
     "name": "stdout",
     "output_type": "stream",
     "text": [
      "<class 'pandas.core.frame.DataFrame'>\n",
      "Int64Index: 9029 entries, 0 to 9239\n",
      "Data columns (total 19 columns):\n",
      " #   Column                                  Non-Null Count  Dtype  \n",
      "---  ------                                  --------------  -----  \n",
      " 0   Lead Origin                             9029 non-null   object \n",
      " 1   Lead Source                             9029 non-null   object \n",
      " 2   Do Not Email                            9029 non-null   object \n",
      " 3   Do Not Call                             9029 non-null   object \n",
      " 4   Converted                               9029 non-null   int64  \n",
      " 5   TotalVisits                             9029 non-null   float64\n",
      " 6   Total Time Spent on Website             9029 non-null   int64  \n",
      " 7   Page Views Per Visit                    9029 non-null   float64\n",
      " 8   Last Activity                           9029 non-null   object \n",
      " 9   Country                                 9029 non-null   object \n",
      " 10  What is your current occupation         9029 non-null   object \n",
      " 11  Search                                  9029 non-null   object \n",
      " 12  Newspaper Article                       9029 non-null   object \n",
      " 13  X Education Forums                      9029 non-null   object \n",
      " 14  Newspaper                               9029 non-null   object \n",
      " 15  Digital Advertisement                   9029 non-null   object \n",
      " 16  Through Recommendations                 9029 non-null   object \n",
      " 17  A free copy of Mastering The Interview  9029 non-null   object \n",
      " 18  Last Notable Activity                   9029 non-null   object \n",
      "dtypes: float64(2), int64(2), object(15)\n",
      "memory usage: 1.4+ MB\n"
     ]
    }
   ],
   "source": [
    "leads_data.info()"
   ]
  },
  {
   "cell_type": "code",
   "execution_count": 152,
   "id": "c6527509",
   "metadata": {},
   "outputs": [
    {
     "data": {
      "text/plain": [
       "Landing Page Submission    4716\n",
       "API                        3540\n",
       "Lead Add Form               717\n",
       "Lead Import                  55\n",
       "Quick Add Form                1\n",
       "Name: Lead Origin, dtype: int64"
      ]
     },
     "execution_count": 152,
     "metadata": {},
     "output_type": "execute_result"
    }
   ],
   "source": [
    "leads_data[\"Lead Origin\"].value_counts()"
   ]
  },
  {
   "cell_type": "code",
   "execution_count": 153,
   "id": "6bbd5534",
   "metadata": {},
   "outputs": [
    {
     "data": {
      "image/png": "[encoded data removed]",
      "text/plain": [
       "<Figure size 432x288 with 1 Axes>"
      ]
     },
     "metadata": {
      "needs_background": "light"
     },
     "output_type": "display_data"
    }
   ],
   "source": [
    "sns.countplot(x=\"Lead Origin\", hue=\"Converted\", data=leads_data)\n",
    "plt.show()"
   ]
  },
  {
   "cell_type": "code",
   "execution_count": 154,
   "id": "c1d40ae9",
   "metadata": {},
   "outputs": [
    {
     "data": {
      "image/png": "[encoded data removed]",
      "text/plain": [
       "<Figure size 2520x1440 with 1 Axes>"
      ]
     },
     "metadata": {
      "needs_background": "light"
     },
     "output_type": "display_data"
    }
   ],
   "source": [
    "plt.figure(figsize=(35,20))\n",
    "sns.countplot(x=\"Lead Source\", hue=\"Converted\", data=leads_data)\n",
    "plt.show()"
   ]
  },
  {
   "cell_type": "code",
   "execution_count": 155,
   "id": "c29cef08",
   "metadata": {},
   "outputs": [
    {
     "data": {
      "image/png": "[encoded data removed]",
      "text/plain": [
       "<Figure size 432x288 with 1 Axes>"
      ]
     },
     "metadata": {
      "needs_background": "light"
     },
     "output_type": "display_data"
    }
   ],
   "source": [
    "sns.countplot(x=\"Do Not Email\", hue=\"Converted\", data=leads_data)\n",
    "plt.show()"
   ]
  },
  {
   "cell_type": "code",
   "execution_count": 156,
   "id": "6b28ae5e",
   "metadata": {},
   "outputs": [
    {
     "data": {
      "image/png": "[encoded data removed]",
      "text/plain": [
       "<Figure size 432x288 with 1 Axes>"
      ]
     },
     "metadata": {
      "needs_background": "light"
     },
     "output_type": "display_data"
    }
   ],
   "source": [
    "sns.countplot(x=\"Do Not Call\", hue=\"Converted\", data=leads_data)\n",
    "plt.show()"
   ]
  },
  {
   "cell_type": "code",
   "execution_count": 157,
   "id": "eb4e1323",
   "metadata": {},
   "outputs": [
    {
     "data": {
      "image/png": "[encoded data removed]",
      "text/plain": [
       "<Figure size 2520x1440 with 1 Axes>"
      ]
     },
     "metadata": {
      "needs_background": "light"
     },
     "output_type": "display_data"
    }
   ],
   "source": [
    "plt.figure(figsize=(35,20))\n",
    "sns.countplot(x=\"Last Activity\", hue=\"Converted\", data=leads_data)\n",
    "plt.show()"
   ]
  },
  {
   "cell_type": "code",
   "execution_count": 158,
   "id": "592c1608",
   "metadata": {},
   "outputs": [
    {
     "data": {
      "image/png": "[encoded data removed]",
      "text/plain": [
       "<Figure size 2520x1440 with 1 Axes>"
      ]
     },
     "metadata": {
      "needs_background": "light"
     },
     "output_type": "display_data"
    }
   ],
   "source": [
    "plt.figure(figsize=(35,20))\n",
    "sns.countplot(x=\"What is your current occupation\", hue=\"Converted\", data=leads_data)\n",
    "plt.show()"
   ]
  },
  {
   "cell_type": "code",
   "execution_count": 159,
   "id": "d5270eba",
   "metadata": {},
   "outputs": [
    {
     "data": {
      "image/png": "[encoded data removed]",
      "text/plain": [
       "<Figure size 720x720 with 1 Axes>"
      ]
     },
     "metadata": {
      "needs_background": "light"
     },
     "output_type": "display_data"
    }
   ],
   "source": [
    "plt.figure(figsize=(10,10))\n",
    "sns.countplot(x=\"Search\", hue=\"Converted\", data=leads_data)\n",
    "plt.show()"
   ]
  },
  {
   "cell_type": "code",
   "execution_count": 160,
   "id": "ea66819e",
   "metadata": {},
   "outputs": [
    {
     "data": {
      "image/png": "[encoded data removed]",
      "text/plain": [
       "<Figure size 576x432 with 1 Axes>"
      ]
     },
     "metadata": {
      "needs_background": "light"
     },
     "output_type": "display_data"
    }
   ],
   "source": [
    "plt.figure(figsize=(8,6))\n",
    "sns.countplot(x=\"Newspaper Article\", hue=\"Converted\", data=leads_data)\n",
    "plt.show()"
   ]
  },
  {
   "cell_type": "code",
   "execution_count": 161,
   "id": "df6daeb9",
   "metadata": {},
   "outputs": [],
   "source": [
    "leads_data = leads_data.drop(['Newspaper Article'], axis=1)"
   ]
  },
  {
   "cell_type": "code",
   "execution_count": 162,
   "id": "fe2e6ff9",
   "metadata": {},
   "outputs": [
    {
     "data": {
      "image/png": "[encoded data removed]",
      "text/plain": [
       "<Figure size 576x432 with 1 Axes>"
      ]
     },
     "metadata": {
      "needs_background": "light"
     },
     "output_type": "display_data"
    }
   ],
   "source": [
    "plt.figure(figsize=(8,6))\n",
    "sns.countplot(x=\"X Education Forums\", hue=\"Converted\", data=leads_data)\n",
    "plt.show()"
   ]
  },
  {
   "cell_type": "code",
   "execution_count": 163,
   "id": "5ef5b8e3",
   "metadata": {},
   "outputs": [],
   "source": [
    "leads_data = leads_data.drop(['X Education Forums'], axis=1)"
   ]
  },
  {
   "cell_type": "code",
   "execution_count": 164,
   "id": "656b16ad",
   "metadata": {},
   "outputs": [
    {
     "data": {
      "image/png": "[encoded data removed]",
      "text/plain": [
       "<Figure size 576x432 with 1 Axes>"
      ]
     },
     "metadata": {
      "needs_background": "light"
     },
     "output_type": "display_data"
    }
   ],
   "source": [
    "plt.figure(figsize=(8,6))\n",
    "sns.countplot(x=\"Newspaper\", hue=\"Converted\", data=leads_data)\n",
    "plt.show()"
   ]
  },
  {
   "cell_type": "code",
   "execution_count": 165,
   "id": "8a002a28",
   "metadata": {},
   "outputs": [],
   "source": [
    "leads_data = leads_data.drop(['Newspaper'], axis=1)"
   ]
  },
  {
   "cell_type": "code",
   "execution_count": 166,
   "id": "de7d6a85",
   "metadata": {},
   "outputs": [
    {
     "data": {
      "image/png": "[encoded data removed]",
      "text/plain": [
       "<Figure size 576x432 with 1 Axes>"
      ]
     },
     "metadata": {
      "needs_background": "light"
     },
     "output_type": "display_data"
    }
   ],
   "source": [
    "plt.figure(figsize=(8,6))\n",
    "sns.countplot(x=\"Digital Advertisement\", hue=\"Converted\", data=leads_data)\n",
    "plt.show()"
   ]
  },
  {
   "cell_type": "code",
   "execution_count": 167,
   "id": "390f1b8f",
   "metadata": {},
   "outputs": [
    {
     "data": {
      "image/png": "[encoded data removed]",
      "text/plain": [
       "<Figure size 576x432 with 1 Axes>"
      ]
     },
     "metadata": {
      "needs_background": "light"
     },
     "output_type": "display_data"
    }
   ],
   "source": [
    "plt.figure(figsize=(8,6))\n",
    "sns.countplot(x=\"Through Recommendations\", hue=\"Converted\", data=leads_data)\n",
    "plt.show()"
   ]
  },
  {
   "cell_type": "code",
   "execution_count": 168,
   "id": "2c8daf49",
   "metadata": {},
   "outputs": [
    {
     "data": {
      "image/png": "[encoded data removed]",
      "text/plain": [
       "<Figure size 576x432 with 1 Axes>"
      ]
     },
     "metadata": {
      "needs_background": "light"
     },
     "output_type": "display_data"
    }
   ],
   "source": [
    "plt.figure(figsize=(8,6))\n",
    "sns.countplot(x=\"A free copy of Mastering The Interview\", hue=\"Converted\", data=leads_data)\n",
    "plt.show()"
   ]
  },
  {
   "cell_type": "code",
   "execution_count": 169,
   "id": "f21b82f8",
   "metadata": {},
   "outputs": [
    {
     "data": {
      "image/png": "[encoded data removed]",
      "text/plain": [
       "<Figure size 2520x1080 with 1 Axes>"
      ]
     },
     "metadata": {
      "needs_background": "light"
     },
     "output_type": "display_data"
    }
   ],
   "source": [
    "plt.figure(figsize=(35,15))\n",
    "sns.countplot(x=\"Last Notable Activity\", hue=\"Converted\", data=leads_data)\n",
    "plt.show()"
   ]
  },
  {
   "cell_type": "code",
   "execution_count": 170,
   "id": "763f78d8",
   "metadata": {},
   "outputs": [
    {
     "data": {
      "image/png": "[encoded data removed]",
      "text/plain": [
       "<Figure size 1440x1440 with 3 Axes>"
      ]
     },
     "metadata": {
      "needs_background": "light"
     },
     "output_type": "display_data"
    }
   ],
   "source": [
    "plt.figure(figsize=(20,20))\n",
    "plt.subplot(4,3,1)\n",
    "sns.barplot(y = 'TotalVisits', x='Converted', data = leads_data)\n",
    "plt.subplot(4,3,2)\n",
    "sns.barplot(y = 'Total Time Spent on Website', x='Converted', data = leads_data)\n",
    "plt.subplot(4,3,3)\n",
    "sns.barplot(y = 'Page Views Per Visit', x='Converted', data = leads_data)\n",
    "plt.show()"
   ]
  },
  {
   "cell_type": "code",
   "execution_count": 171,
   "id": "6925196f",
   "metadata": {},
   "outputs": [],
   "source": [
    "BoolFeatures = [\"Do Not Email\",\"Do Not Call\",\"Search\",\"Digital Advertisement\",\"Through Recommendations\",\"A free copy of Mastering The Interview\"]"
   ]
  },
  {
   "cell_type": "code",
   "execution_count": 172,
   "id": "583f168a",
   "metadata": {},
   "outputs": [],
   "source": [
    "for each in BoolFeatures:\n",
    "    if leads_data[each].value_counts().values.sum() > 0:\n",
    "        leads_data[each]=leads_data[each].map(dict(Yes=1,No=0))  "
   ]
  },
  {
   "cell_type": "markdown",
   "id": "b194a44f",
   "metadata": {},
   "source": [
    "### Creating Dummies"
   ]
  },
  {
   "cell_type": "code",
   "execution_count": 173,
   "id": "a39b7479",
   "metadata": {},
   "outputs": [],
   "source": [
    "ml = pd.get_dummies(leads_data[\"Lead Origin\"],prefix=\"Lead Origin\")\n",
    "ml1=ml.drop([\"Lead Origin_Quick Add Form\"],axis=1)\n",
    "leads_data=pd.concat([leads_data,ml1],axis=1)"
   ]
  },
  {
   "cell_type": "code",
   "execution_count": 174,
   "id": "abb37055",
   "metadata": {},
   "outputs": [],
   "source": [
    "ml = pd.get_dummies(leads_data[\"Lead Source\"],prefix=\"Lead Source\")\n",
    "ml1=ml.drop([\"Lead Source_NC_EDM\"],axis=1)\n",
    "leads_data=pd.concat([leads_data,ml1],axis=1)"
   ]
  },
  {
   "cell_type": "code",
   "execution_count": 175,
   "id": "8b75dbd3",
   "metadata": {},
   "outputs": [],
   "source": [
    "ml = pd.get_dummies(leads_data[\"Last Activity\"],prefix=\"Last Activity\")\n",
    "ml1=ml.drop([\"Last Activity_Resubscribed to emails\"],axis=1)\n",
    "leads_data=pd.concat([leads_data,ml1],axis=1)"
   ]
  },
  {
   "cell_type": "code",
   "execution_count": 176,
   "id": "ea520d46",
   "metadata": {},
   "outputs": [],
   "source": [
    "ml = pd.get_dummies(leads_data[\"What is your current occupation\"],prefix=\"What is your current occupation\")\n",
    "ml1=ml.drop([\"What is your current occupation_Businessman\"],axis=1)\n",
    "leads_data=pd.concat([leads_data,ml1],axis=1)"
   ]
  },
  {
   "cell_type": "code",
   "execution_count": 177,
   "id": "abed8ba2",
   "metadata": {},
   "outputs": [],
   "source": [
    "ml = pd.get_dummies(leads_data[\"Last Notable Activity\"],prefix=\"Last Notable Activity\")\n",
    "ml1=ml.drop([\"Last Notable Activity_Resubscribed to emails\"],axis=1)\n",
    "leads_data=pd.concat([leads_data,ml1],axis=1)"
   ]
  },
  {
   "cell_type": "code",
   "execution_count": 178,
   "id": "986a30bf",
   "metadata": {},
   "outputs": [
    {
     "name": "stdout",
     "output_type": "stream",
     "text": [
      "<class 'pandas.core.frame.DataFrame'>\n",
      "Int64Index: 9029 entries, 0 to 9239\n",
      "Data columns (total 78 columns):\n",
      " #   Column                                                Non-Null Count  Dtype  \n",
      "---  ------                                                --------------  -----  \n",
      " 0   Lead Origin                                           9029 non-null   object \n",
      " 1   Lead Source                                           9029 non-null   object \n",
      " 2   Do Not Email                                          9029 non-null   int64  \n",
      " 3   Do Not Call                                           9029 non-null   int64  \n",
      " 4   Converted                                             9029 non-null   int64  \n",
      " 5   TotalVisits                                           9029 non-null   float64\n",
      " 6   Total Time Spent on Website                           9029 non-null   int64  \n",
      " 7   Page Views Per Visit                                  9029 non-null   float64\n",
      " 8   Last Activity                                         9029 non-null   object \n",
      " 9   Country                                               9029 non-null   object \n",
      " 10  What is your current occupation                       9029 non-null   object \n",
      " 11  Search                                                9029 non-null   int64  \n",
      " 12  Digital Advertisement                                 9029 non-null   int64  \n",
      " 13  Through Recommendations                               9029 non-null   int64  \n",
      " 14  A free copy of Mastering The Interview                9029 non-null   int64  \n",
      " 15  Last Notable Activity                                 9029 non-null   object \n",
      " 16  Lead Origin_API                                       9029 non-null   uint8  \n",
      " 17  Lead Origin_Landing Page Submission                   9029 non-null   uint8  \n",
      " 18  Lead Origin_Lead Add Form                             9029 non-null   uint8  \n",
      " 19  Lead Origin_Lead Import                               9029 non-null   uint8  \n",
      " 20  Lead Source_Click2call                                9029 non-null   uint8  \n",
      " 21  Lead Source_Direct Traffic                            9029 non-null   uint8  \n",
      " 22  Lead Source_Facebook                                  9029 non-null   uint8  \n",
      " 23  Lead Source_Google                                    9029 non-null   uint8  \n",
      " 24  Lead Source_Live Chat                                 9029 non-null   uint8  \n",
      " 25  Lead Source_Olark Chat                                9029 non-null   uint8  \n",
      " 26  Lead Source_Organic Search                            9029 non-null   uint8  \n",
      " 27  Lead Source_Pay per Click Ads                         9029 non-null   uint8  \n",
      " 28  Lead Source_Press_Release                             9029 non-null   uint8  \n",
      " 29  Lead Source_Reference                                 9029 non-null   uint8  \n",
      " 30  Lead Source_Referral Sites                            9029 non-null   uint8  \n",
      " 31  Lead Source_Social Media                              9029 non-null   uint8  \n",
      " 32  Lead Source_WeLearn                                   9029 non-null   uint8  \n",
      " 33  Lead Source_Welingak Website                          9029 non-null   uint8  \n",
      " 34  Lead Source_bing                                      9029 non-null   uint8  \n",
      " 35  Lead Source_blog                                      9029 non-null   uint8  \n",
      " 36  Lead Source_google                                    9029 non-null   uint8  \n",
      " 37  Lead Source_testone                                   9029 non-null   uint8  \n",
      " 38  Lead Source_welearnblog_Home                          9029 non-null   uint8  \n",
      " 39  Lead Source_youtubechannel                            9029 non-null   uint8  \n",
      " 40  Last Activity_Approached upfront                      9029 non-null   uint8  \n",
      " 41  Last Activity_Converted to Lead                       9029 non-null   uint8  \n",
      " 42  Last Activity_Email Bounced                           9029 non-null   uint8  \n",
      " 43  Last Activity_Email Link Clicked                      9029 non-null   uint8  \n",
      " 44  Last Activity_Email Marked Spam                       9029 non-null   uint8  \n",
      " 45  Last Activity_Email Opened                            9029 non-null   uint8  \n",
      " 46  Last Activity_Email Opened                            9029 non-null   uint8  \n",
      " 47  Last Activity_Email Received                          9029 non-null   uint8  \n",
      " 48  Last Activity_Form Submitted on Website               9029 non-null   uint8  \n",
      " 49  Last Activity_Had a Phone Conversation                9029 non-null   uint8  \n",
      " 50  Last Activity_Olark Chat Conversation                 9029 non-null   uint8  \n",
      " 51  Last Activity_Page Visited on Website                 9029 non-null   uint8  \n",
      " 52  Last Activity_SMS Sent                                9029 non-null   uint8  \n",
      " 53  Last Activity_Unreachable                             9029 non-null   uint8  \n",
      " 54  Last Activity_Unsubscribed                            9029 non-null   uint8  \n",
      " 55  Last Activity_View in browser link Clicked            9029 non-null   uint8  \n",
      " 56  Last Activity_Visited Booth in Tradeshow              9029 non-null   uint8  \n",
      " 57  What is your current occupation_Housewife             9029 non-null   uint8  \n",
      " 58  What is your current occupation_Other                 9029 non-null   uint8  \n",
      " 59  What is your current occupation_Student               9029 non-null   uint8  \n",
      " 60  What is your current occupation_Unemployed            9029 non-null   uint8  \n",
      " 61  What is your current occupation_Unknown               9029 non-null   uint8  \n",
      " 62  What is your current occupation_Working Professional  9029 non-null   uint8  \n",
      " 63  Last Notable Activity_Approached upfront              9029 non-null   uint8  \n",
      " 64  Last Notable Activity_Email Bounced                   9029 non-null   uint8  \n",
      " 65  Last Notable Activity_Email Link Clicked              9029 non-null   uint8  \n",
      " 66  Last Notable Activity_Email Marked Spam               9029 non-null   uint8  \n",
      " 67  Last Notable Activity_Email Opened                    9029 non-null   uint8  \n",
      " 68  Last Notable Activity_Email Received                  9029 non-null   uint8  \n",
      " 69  Last Notable Activity_Form Submitted on Website       9029 non-null   uint8  \n",
      " 70  Last Notable Activity_Had a Phone Conversation        9029 non-null   uint8  \n",
      " 71  Last Notable Activity_Modified                        9029 non-null   uint8  \n",
      " 72  Last Notable Activity_Olark Chat Conversation         9029 non-null   uint8  \n",
      " 73  Last Notable Activity_Page Visited on Website         9029 non-null   uint8  \n",
      " 74  Last Notable Activity_SMS Sent                        9029 non-null   uint8  \n",
      " 75  Last Notable Activity_Unreachable                     9029 non-null   uint8  \n",
      " 76  Last Notable Activity_Unsubscribed                    9029 non-null   uint8  \n",
      " 77  Last Notable Activity_View in browser link Clicked    9029 non-null   uint8  \n",
      "dtypes: float64(2), int64(8), object(6), uint8(62)\n",
      "memory usage: 2.0+ MB\n"
     ]
    }
   ],
   "source": [
    "leads_data.info()"
   ]
  },
  {
   "cell_type": "code",
   "execution_count": 179,
   "id": "239f63a6",
   "metadata": {},
   "outputs": [],
   "source": [
    "leads_data = leads_data.drop(['Lead Origin', 'Lead Source', 'Last Activity',\n",
    "                          'What is your current occupation', 'Last Notable Activity'], axis=1)"
   ]
  },
  {
   "cell_type": "code",
   "execution_count": 180,
   "id": "13d339e2",
   "metadata": {},
   "outputs": [
    {
     "name": "stdout",
     "output_type": "stream",
     "text": [
      "<class 'pandas.core.frame.DataFrame'>\n",
      "Int64Index: 9029 entries, 0 to 9239\n",
      "Data columns (total 73 columns):\n",
      " #   Column                                                Non-Null Count  Dtype  \n",
      "---  ------                                                --------------  -----  \n",
      " 0   Do Not Email                                          9029 non-null   int64  \n",
      " 1   Do Not Call                                           9029 non-null   int64  \n",
      " 2   Converted                                             9029 non-null   int64  \n",
      " 3   TotalVisits                                           9029 non-null   float64\n",
      " 4   Total Time Spent on Website                           9029 non-null   int64  \n",
      " 5   Page Views Per Visit                                  9029 non-null   float64\n",
      " 6   Country                                               9029 non-null   object \n",
      " 7   Search                                                9029 non-null   int64  \n",
      " 8   Digital Advertisement                                 9029 non-null   int64  \n",
      " 9   Through Recommendations                               9029 non-null   int64  \n",
      " 10  A free copy of Mastering The Interview                9029 non-null   int64  \n",
      " 11  Lead Origin_API                                       9029 non-null   uint8  \n",
      " 12  Lead Origin_Landing Page Submission                   9029 non-null   uint8  \n",
      " 13  Lead Origin_Lead Add Form                             9029 non-null   uint8  \n",
      " 14  Lead Origin_Lead Import                               9029 non-null   uint8  \n",
      " 15  Lead Source_Click2call                                9029 non-null   uint8  \n",
      " 16  Lead Source_Direct Traffic                            9029 non-null   uint8  \n",
      " 17  Lead Source_Facebook                                  9029 non-null   uint8  \n",
      " 18  Lead Source_Google                                    9029 non-null   uint8  \n",
      " 19  Lead Source_Live Chat                                 9029 non-null   uint8  \n",
      " 20  Lead Source_Olark Chat                                9029 non-null   uint8  \n",
      " 21  Lead Source_Organic Search                            9029 non-null   uint8  \n",
      " 22  Lead Source_Pay per Click Ads                         9029 non-null   uint8  \n",
      " 23  Lead Source_Press_Release                             9029 non-null   uint8  \n",
      " 24  Lead Source_Reference                                 9029 non-null   uint8  \n",
      " 25  Lead Source_Referral Sites                            9029 non-null   uint8  \n",
      " 26  Lead Source_Social Media                              9029 non-null   uint8  \n",
      " 27  Lead Source_WeLearn                                   9029 non-null   uint8  \n",
      " 28  Lead Source_Welingak Website                          9029 non-null   uint8  \n",
      " 29  Lead Source_bing                                      9029 non-null   uint8  \n",
      " 30  Lead Source_blog                                      9029 non-null   uint8  \n",
      " 31  Lead Source_google                                    9029 non-null   uint8  \n",
      " 32  Lead Source_testone                                   9029 non-null   uint8  \n",
      " 33  Lead Source_welearnblog_Home                          9029 non-null   uint8  \n",
      " 34  Lead Source_youtubechannel                            9029 non-null   uint8  \n",
      " 35  Last Activity_Approached upfront                      9029 non-null   uint8  \n",
      " 36  Last Activity_Converted to Lead                       9029 non-null   uint8  \n",
      " 37  Last Activity_Email Bounced                           9029 non-null   uint8  \n",
      " 38  Last Activity_Email Link Clicked                      9029 non-null   uint8  \n",
      " 39  Last Activity_Email Marked Spam                       9029 non-null   uint8  \n",
      " 40  Last Activity_Email Opened                            9029 non-null   uint8  \n",
      " 41  Last Activity_Email Opened                            9029 non-null   uint8  \n",
      " 42  Last Activity_Email Received                          9029 non-null   uint8  \n",
      " 43  Last Activity_Form Submitted on Website               9029 non-null   uint8  \n",
      " 44  Last Activity_Had a Phone Conversation                9029 non-null   uint8  \n",
      " 45  Last Activity_Olark Chat Conversation                 9029 non-null   uint8  \n",
      " 46  Last Activity_Page Visited on Website                 9029 non-null   uint8  \n",
      " 47  Last Activity_SMS Sent                                9029 non-null   uint8  \n",
      " 48  Last Activity_Unreachable                             9029 non-null   uint8  \n",
      " 49  Last Activity_Unsubscribed                            9029 non-null   uint8  \n",
      " 50  Last Activity_View in browser link Clicked            9029 non-null   uint8  \n",
      " 51  Last Activity_Visited Booth in Tradeshow              9029 non-null   uint8  \n",
      " 52  What is your current occupation_Housewife             9029 non-null   uint8  \n",
      " 53  What is your current occupation_Other                 9029 non-null   uint8  \n",
      " 54  What is your current occupation_Student               9029 non-null   uint8  \n",
      " 55  What is your current occupation_Unemployed            9029 non-null   uint8  \n",
      " 56  What is your current occupation_Unknown               9029 non-null   uint8  \n",
      " 57  What is your current occupation_Working Professional  9029 non-null   uint8  \n",
      " 58  Last Notable Activity_Approached upfront              9029 non-null   uint8  \n",
      " 59  Last Notable Activity_Email Bounced                   9029 non-null   uint8  \n",
      " 60  Last Notable Activity_Email Link Clicked              9029 non-null   uint8  \n",
      " 61  Last Notable Activity_Email Marked Spam               9029 non-null   uint8  \n",
      " 62  Last Notable Activity_Email Opened                    9029 non-null   uint8  \n",
      " 63  Last Notable Activity_Email Received                  9029 non-null   uint8  \n",
      " 64  Last Notable Activity_Form Submitted on Website       9029 non-null   uint8  \n",
      " 65  Last Notable Activity_Had a Phone Conversation        9029 non-null   uint8  \n",
      " 66  Last Notable Activity_Modified                        9029 non-null   uint8  \n",
      " 67  Last Notable Activity_Olark Chat Conversation         9029 non-null   uint8  \n",
      " 68  Last Notable Activity_Page Visited on Website         9029 non-null   uint8  \n",
      " 69  Last Notable Activity_SMS Sent                        9029 non-null   uint8  \n",
      " 70  Last Notable Activity_Unreachable                     9029 non-null   uint8  \n",
      " 71  Last Notable Activity_Unsubscribed                    9029 non-null   uint8  \n",
      " 72  Last Notable Activity_View in browser link Clicked    9029 non-null   uint8  \n",
      "dtypes: float64(2), int64(8), object(1), uint8(62)\n",
      "memory usage: 1.6+ MB\n"
     ]
    }
   ],
   "source": [
    "leads_data.info()"
   ]
  },
  {
   "cell_type": "code",
   "execution_count": 181,
   "id": "48fc405e",
   "metadata": {},
   "outputs": [],
   "source": [
    "leads_data = leads_data.drop(['Country'], axis=1)"
   ]
  },
  {
   "cell_type": "code",
   "execution_count": 196,
   "id": "5dd35f6d",
   "metadata": {},
   "outputs": [
    {
     "data": {
      "text/plain": [
       "(9029, 72)"
      ]
     },
     "execution_count": 196,
     "metadata": {},
     "output_type": "execute_result"
    }
   ],
   "source": [
    "leads_data.shape"
   ]
  },
  {
   "cell_type": "markdown",
   "id": "7cab5625",
   "metadata": {},
   "source": [
    "### Train-Test Split"
   ]
  },
  {
   "cell_type": "code",
   "execution_count": 183,
   "id": "f2627f90",
   "metadata": {},
   "outputs": [],
   "source": [
    "from sklearn.model_selection import train_test_split"
   ]
  },
  {
   "cell_type": "code",
   "execution_count": 184,
   "id": "afdc9a90",
   "metadata": {},
   "outputs": [
    {
     "data": {
      "text/html": [
       "<div>\n",
       "<style scoped>\n",
       "    .dataframe tbody tr th:only-of-type {\n",
       "        vertical-align: middle;\n",
       "    }\n",
       "\n",
       "    .dataframe tbody tr th {\n",
       "        vertical-align: top;\n",
       "    }\n",
       "\n",
       "    .dataframe thead th {\n",
       "        text-align: right;\n",
       "    }\n",
       "</style>\n",
       "<table border=\"1\" class=\"dataframe\">\n",
       "  <thead>\n",
       "    <tr style=\"text-align: right;\">\n",
       "      <th></th>\n",
       "      <th>Do Not Email</th>\n",
       "      <th>Do Not Call</th>\n",
       "      <th>TotalVisits</th>\n",
       "      <th>Total Time Spent on Website</th>\n",
       "      <th>Page Views Per Visit</th>\n",
       "      <th>Search</th>\n",
       "      <th>Digital Advertisement</th>\n",
       "      <th>Through Recommendations</th>\n",
       "      <th>A free copy of Mastering The Interview</th>\n",
       "      <th>Lead Origin_API</th>\n",
       "      <th>...</th>\n",
       "      <th>Last Notable Activity_Email Received</th>\n",
       "      <th>Last Notable Activity_Form Submitted on Website</th>\n",
       "      <th>Last Notable Activity_Had a Phone Conversation</th>\n",
       "      <th>Last Notable Activity_Modified</th>\n",
       "      <th>Last Notable Activity_Olark Chat Conversation</th>\n",
       "      <th>Last Notable Activity_Page Visited on Website</th>\n",
       "      <th>Last Notable Activity_SMS Sent</th>\n",
       "      <th>Last Notable Activity_Unreachable</th>\n",
       "      <th>Last Notable Activity_Unsubscribed</th>\n",
       "      <th>Last Notable Activity_View in browser link Clicked</th>\n",
       "    </tr>\n",
       "  </thead>\n",
       "  <tbody>\n",
       "    <tr>\n",
       "      <th>0</th>\n",
       "      <td>0</td>\n",
       "      <td>0</td>\n",
       "      <td>0.0</td>\n",
       "      <td>0</td>\n",
       "      <td>0.0</td>\n",
       "      <td>0</td>\n",
       "      <td>0</td>\n",
       "      <td>0</td>\n",
       "      <td>0</td>\n",
       "      <td>1</td>\n",
       "      <td>...</td>\n",
       "      <td>0</td>\n",
       "      <td>0</td>\n",
       "      <td>0</td>\n",
       "      <td>1</td>\n",
       "      <td>0</td>\n",
       "      <td>0</td>\n",
       "      <td>0</td>\n",
       "      <td>0</td>\n",
       "      <td>0</td>\n",
       "      <td>0</td>\n",
       "    </tr>\n",
       "    <tr>\n",
       "      <th>1</th>\n",
       "      <td>0</td>\n",
       "      <td>0</td>\n",
       "      <td>5.0</td>\n",
       "      <td>674</td>\n",
       "      <td>2.5</td>\n",
       "      <td>0</td>\n",
       "      <td>0</td>\n",
       "      <td>0</td>\n",
       "      <td>0</td>\n",
       "      <td>1</td>\n",
       "      <td>...</td>\n",
       "      <td>0</td>\n",
       "      <td>0</td>\n",
       "      <td>0</td>\n",
       "      <td>0</td>\n",
       "      <td>0</td>\n",
       "      <td>0</td>\n",
       "      <td>0</td>\n",
       "      <td>0</td>\n",
       "      <td>0</td>\n",
       "      <td>0</td>\n",
       "    </tr>\n",
       "    <tr>\n",
       "      <th>2</th>\n",
       "      <td>0</td>\n",
       "      <td>0</td>\n",
       "      <td>2.0</td>\n",
       "      <td>1532</td>\n",
       "      <td>2.0</td>\n",
       "      <td>0</td>\n",
       "      <td>0</td>\n",
       "      <td>0</td>\n",
       "      <td>1</td>\n",
       "      <td>0</td>\n",
       "      <td>...</td>\n",
       "      <td>0</td>\n",
       "      <td>0</td>\n",
       "      <td>0</td>\n",
       "      <td>0</td>\n",
       "      <td>0</td>\n",
       "      <td>0</td>\n",
       "      <td>0</td>\n",
       "      <td>0</td>\n",
       "      <td>0</td>\n",
       "      <td>0</td>\n",
       "    </tr>\n",
       "    <tr>\n",
       "      <th>3</th>\n",
       "      <td>0</td>\n",
       "      <td>0</td>\n",
       "      <td>1.0</td>\n",
       "      <td>305</td>\n",
       "      <td>1.0</td>\n",
       "      <td>0</td>\n",
       "      <td>0</td>\n",
       "      <td>0</td>\n",
       "      <td>0</td>\n",
       "      <td>0</td>\n",
       "      <td>...</td>\n",
       "      <td>0</td>\n",
       "      <td>0</td>\n",
       "      <td>0</td>\n",
       "      <td>1</td>\n",
       "      <td>0</td>\n",
       "      <td>0</td>\n",
       "      <td>0</td>\n",
       "      <td>0</td>\n",
       "      <td>0</td>\n",
       "      <td>0</td>\n",
       "    </tr>\n",
       "    <tr>\n",
       "      <th>4</th>\n",
       "      <td>0</td>\n",
       "      <td>0</td>\n",
       "      <td>2.0</td>\n",
       "      <td>1428</td>\n",
       "      <td>1.0</td>\n",
       "      <td>0</td>\n",
       "      <td>0</td>\n",
       "      <td>0</td>\n",
       "      <td>0</td>\n",
       "      <td>0</td>\n",
       "      <td>...</td>\n",
       "      <td>0</td>\n",
       "      <td>0</td>\n",
       "      <td>0</td>\n",
       "      <td>1</td>\n",
       "      <td>0</td>\n",
       "      <td>0</td>\n",
       "      <td>0</td>\n",
       "      <td>0</td>\n",
       "      <td>0</td>\n",
       "      <td>0</td>\n",
       "    </tr>\n",
       "  </tbody>\n",
       "</table>\n",
       "<p>5 rows × 71 columns</p>\n",
       "</div>"
      ],
      "text/plain": [
       "   Do Not Email  Do Not Call  TotalVisits  Total Time Spent on Website  \\\n",
       "0             0            0          0.0                            0   \n",
       "1             0            0          5.0                          674   \n",
       "2             0            0          2.0                         1532   \n",
       "3             0            0          1.0                          305   \n",
       "4             0            0          2.0                         1428   \n",
       "\n",
       "   Page Views Per Visit  Search  Digital Advertisement  \\\n",
       "0                   0.0       0                      0   \n",
       "1                   2.5       0                      0   \n",
       "2                   2.0       0                      0   \n",
       "3                   1.0       0                      0   \n",
       "4                   1.0       0                      0   \n",
       "\n",
       "   Through Recommendations  A free copy of Mastering The Interview  \\\n",
       "0                        0                                       0   \n",
       "1                        0                                       0   \n",
       "2                        0                                       1   \n",
       "3                        0                                       0   \n",
       "4                        0                                       0   \n",
       "\n",
       "   Lead Origin_API  ...  Last Notable Activity_Email Received  \\\n",
       "0                1  ...                                     0   \n",
       "1                1  ...                                     0   \n",
       "2                0  ...                                     0   \n",
       "3                0  ...                                     0   \n",
       "4                0  ...                                     0   \n",
       "\n",
       "   Last Notable Activity_Form Submitted on Website  \\\n",
       "0                                                0   \n",
       "1                                                0   \n",
       "2                                                0   \n",
       "3                                                0   \n",
       "4                                                0   \n",
       "\n",
       "   Last Notable Activity_Had a Phone Conversation  \\\n",
       "0                                               0   \n",
       "1                                               0   \n",
       "2                                               0   \n",
       "3                                               0   \n",
       "4                                               0   \n",
       "\n",
       "   Last Notable Activity_Modified  \\\n",
       "0                               1   \n",
       "1                               0   \n",
       "2                               0   \n",
       "3                               1   \n",
       "4                               1   \n",
       "\n",
       "   Last Notable Activity_Olark Chat Conversation  \\\n",
       "0                                              0   \n",
       "1                                              0   \n",
       "2                                              0   \n",
       "3                                              0   \n",
       "4                                              0   \n",
       "\n",
       "   Last Notable Activity_Page Visited on Website  \\\n",
       "0                                              0   \n",
       "1                                              0   \n",
       "2                                              0   \n",
       "3                                              0   \n",
       "4                                              0   \n",
       "\n",
       "   Last Notable Activity_SMS Sent  Last Notable Activity_Unreachable  \\\n",
       "0                               0                                  0   \n",
       "1                               0                                  0   \n",
       "2                               0                                  0   \n",
       "3                               0                                  0   \n",
       "4                               0                                  0   \n",
       "\n",
       "   Last Notable Activity_Unsubscribed  \\\n",
       "0                                   0   \n",
       "1                                   0   \n",
       "2                                   0   \n",
       "3                                   0   \n",
       "4                                   0   \n",
       "\n",
       "   Last Notable Activity_View in browser link Clicked  \n",
       "0                                                  0   \n",
       "1                                                  0   \n",
       "2                                                  0   \n",
       "3                                                  0   \n",
       "4                                                  0   \n",
       "\n",
       "[5 rows x 71 columns]"
      ]
     },
     "execution_count": 184,
     "metadata": {},
     "output_type": "execute_result"
    }
   ],
   "source": [
    "X = leads_data.drop(['Converted'], axis=1)\n",
    "X.head()"
   ]
  },
  {
   "cell_type": "code",
   "execution_count": 185,
   "id": "1f92634f",
   "metadata": {},
   "outputs": [
    {
     "data": {
      "text/plain": [
       "0    0\n",
       "1    0\n",
       "2    1\n",
       "3    0\n",
       "4    1\n",
       "Name: Converted, dtype: int64"
      ]
     },
     "execution_count": 185,
     "metadata": {},
     "output_type": "execute_result"
    }
   ],
   "source": [
    "y = leads_data['Converted']\n",
    "y.head()"
   ]
  },
  {
   "cell_type": "code",
   "execution_count": 186,
   "id": "2a79d4ae",
   "metadata": {},
   "outputs": [],
   "source": [
    "X_train, X_test, y_train, y_test = train_test_split(X, y, train_size=0.7, test_size=0.3, random_state=42)"
   ]
  },
  {
   "cell_type": "code",
   "execution_count": 187,
   "id": "15caf287",
   "metadata": {},
   "outputs": [
    {
     "data": {
      "text/html": [
       "<div>\n",
       "<style scoped>\n",
       "    .dataframe tbody tr th:only-of-type {\n",
       "        vertical-align: middle;\n",
       "    }\n",
       "\n",
       "    .dataframe tbody tr th {\n",
       "        vertical-align: top;\n",
       "    }\n",
       "\n",
       "    .dataframe thead th {\n",
       "        text-align: right;\n",
       "    }\n",
       "</style>\n",
       "<table border=\"1\" class=\"dataframe\">\n",
       "  <thead>\n",
       "    <tr style=\"text-align: right;\">\n",
       "      <th></th>\n",
       "      <th>Do Not Email</th>\n",
       "      <th>Do Not Call</th>\n",
       "      <th>TotalVisits</th>\n",
       "      <th>Total Time Spent on Website</th>\n",
       "      <th>Page Views Per Visit</th>\n",
       "      <th>Search</th>\n",
       "      <th>Digital Advertisement</th>\n",
       "      <th>Through Recommendations</th>\n",
       "      <th>A free copy of Mastering The Interview</th>\n",
       "      <th>Lead Origin_API</th>\n",
       "      <th>...</th>\n",
       "      <th>Last Notable Activity_Email Received</th>\n",
       "      <th>Last Notable Activity_Form Submitted on Website</th>\n",
       "      <th>Last Notable Activity_Had a Phone Conversation</th>\n",
       "      <th>Last Notable Activity_Modified</th>\n",
       "      <th>Last Notable Activity_Olark Chat Conversation</th>\n",
       "      <th>Last Notable Activity_Page Visited on Website</th>\n",
       "      <th>Last Notable Activity_SMS Sent</th>\n",
       "      <th>Last Notable Activity_Unreachable</th>\n",
       "      <th>Last Notable Activity_Unsubscribed</th>\n",
       "      <th>Last Notable Activity_View in browser link Clicked</th>\n",
       "    </tr>\n",
       "  </thead>\n",
       "  <tbody>\n",
       "    <tr>\n",
       "      <th>2240</th>\n",
       "      <td>0</td>\n",
       "      <td>0</td>\n",
       "      <td>0.1875</td>\n",
       "      <td>0.898963</td>\n",
       "      <td>0.375</td>\n",
       "      <td>0</td>\n",
       "      <td>0</td>\n",
       "      <td>0</td>\n",
       "      <td>0</td>\n",
       "      <td>0</td>\n",
       "      <td>...</td>\n",
       "      <td>0</td>\n",
       "      <td>0</td>\n",
       "      <td>0</td>\n",
       "      <td>0</td>\n",
       "      <td>0</td>\n",
       "      <td>0</td>\n",
       "      <td>0</td>\n",
       "      <td>0</td>\n",
       "      <td>0</td>\n",
       "      <td>0</td>\n",
       "    </tr>\n",
       "    <tr>\n",
       "      <th>113</th>\n",
       "      <td>0</td>\n",
       "      <td>0</td>\n",
       "      <td>0.3125</td>\n",
       "      <td>0.706360</td>\n",
       "      <td>0.625</td>\n",
       "      <td>0</td>\n",
       "      <td>0</td>\n",
       "      <td>0</td>\n",
       "      <td>0</td>\n",
       "      <td>1</td>\n",
       "      <td>...</td>\n",
       "      <td>0</td>\n",
       "      <td>0</td>\n",
       "      <td>0</td>\n",
       "      <td>1</td>\n",
       "      <td>0</td>\n",
       "      <td>0</td>\n",
       "      <td>0</td>\n",
       "      <td>0</td>\n",
       "      <td>0</td>\n",
       "      <td>0</td>\n",
       "    </tr>\n",
       "    <tr>\n",
       "      <th>4132</th>\n",
       "      <td>0</td>\n",
       "      <td>0</td>\n",
       "      <td>0.3750</td>\n",
       "      <td>0.768155</td>\n",
       "      <td>0.750</td>\n",
       "      <td>0</td>\n",
       "      <td>0</td>\n",
       "      <td>0</td>\n",
       "      <td>1</td>\n",
       "      <td>0</td>\n",
       "      <td>...</td>\n",
       "      <td>0</td>\n",
       "      <td>0</td>\n",
       "      <td>0</td>\n",
       "      <td>1</td>\n",
       "      <td>0</td>\n",
       "      <td>0</td>\n",
       "      <td>0</td>\n",
       "      <td>0</td>\n",
       "      <td>0</td>\n",
       "      <td>0</td>\n",
       "    </tr>\n",
       "    <tr>\n",
       "      <th>5573</th>\n",
       "      <td>0</td>\n",
       "      <td>0</td>\n",
       "      <td>0.1250</td>\n",
       "      <td>0.028868</td>\n",
       "      <td>0.250</td>\n",
       "      <td>0</td>\n",
       "      <td>0</td>\n",
       "      <td>0</td>\n",
       "      <td>1</td>\n",
       "      <td>0</td>\n",
       "      <td>...</td>\n",
       "      <td>0</td>\n",
       "      <td>0</td>\n",
       "      <td>0</td>\n",
       "      <td>0</td>\n",
       "      <td>0</td>\n",
       "      <td>0</td>\n",
       "      <td>0</td>\n",
       "      <td>0</td>\n",
       "      <td>0</td>\n",
       "      <td>0</td>\n",
       "    </tr>\n",
       "    <tr>\n",
       "      <th>1109</th>\n",
       "      <td>0</td>\n",
       "      <td>0</td>\n",
       "      <td>0.0625</td>\n",
       "      <td>0.009021</td>\n",
       "      <td>0.125</td>\n",
       "      <td>0</td>\n",
       "      <td>0</td>\n",
       "      <td>0</td>\n",
       "      <td>0</td>\n",
       "      <td>1</td>\n",
       "      <td>...</td>\n",
       "      <td>0</td>\n",
       "      <td>0</td>\n",
       "      <td>0</td>\n",
       "      <td>1</td>\n",
       "      <td>0</td>\n",
       "      <td>0</td>\n",
       "      <td>0</td>\n",
       "      <td>0</td>\n",
       "      <td>0</td>\n",
       "      <td>0</td>\n",
       "    </tr>\n",
       "  </tbody>\n",
       "</table>\n",
       "<p>5 rows × 71 columns</p>\n",
       "</div>"
      ],
      "text/plain": [
       "      Do Not Email  Do Not Call  TotalVisits  Total Time Spent on Website  \\\n",
       "2240             0            0       0.1875                     0.898963   \n",
       "113              0            0       0.3125                     0.706360   \n",
       "4132             0            0       0.3750                     0.768155   \n",
       "5573             0            0       0.1250                     0.028868   \n",
       "1109             0            0       0.0625                     0.009021   \n",
       "\n",
       "      Page Views Per Visit  Search  Digital Advertisement  \\\n",
       "2240                 0.375       0                      0   \n",
       "113                  0.625       0                      0   \n",
       "4132                 0.750       0                      0   \n",
       "5573                 0.250       0                      0   \n",
       "1109                 0.125       0                      0   \n",
       "\n",
       "      Through Recommendations  A free copy of Mastering The Interview  \\\n",
       "2240                        0                                       0   \n",
       "113                         0                                       0   \n",
       "4132                        0                                       1   \n",
       "5573                        0                                       1   \n",
       "1109                        0                                       0   \n",
       "\n",
       "      Lead Origin_API  ...  Last Notable Activity_Email Received  \\\n",
       "2240                0  ...                                     0   \n",
       "113                 1  ...                                     0   \n",
       "4132                0  ...                                     0   \n",
       "5573                0  ...                                     0   \n",
       "1109                1  ...                                     0   \n",
       "\n",
       "      Last Notable Activity_Form Submitted on Website  \\\n",
       "2240                                                0   \n",
       "113                                                 0   \n",
       "4132                                                0   \n",
       "5573                                                0   \n",
       "1109                                                0   \n",
       "\n",
       "      Last Notable Activity_Had a Phone Conversation  \\\n",
       "2240                                               0   \n",
       "113                                                0   \n",
       "4132                                               0   \n",
       "5573                                               0   \n",
       "1109                                               0   \n",
       "\n",
       "      Last Notable Activity_Modified  \\\n",
       "2240                               0   \n",
       "113                                1   \n",
       "4132                               1   \n",
       "5573                               0   \n",
       "1109                               1   \n",
       "\n",
       "      Last Notable Activity_Olark Chat Conversation  \\\n",
       "2240                                              0   \n",
       "113                                               0   \n",
       "4132                                              0   \n",
       "5573                                              0   \n",
       "1109                                              0   \n",
       "\n",
       "      Last Notable Activity_Page Visited on Website  \\\n",
       "2240                                              0   \n",
       "113                                               0   \n",
       "4132                                              0   \n",
       "5573                                              0   \n",
       "1109                                              0   \n",
       "\n",
       "      Last Notable Activity_SMS Sent  Last Notable Activity_Unreachable  \\\n",
       "2240                               0                                  0   \n",
       "113                                0                                  0   \n",
       "4132                               0                                  0   \n",
       "5573                               0                                  0   \n",
       "1109                               0                                  0   \n",
       "\n",
       "      Last Notable Activity_Unsubscribed  \\\n",
       "2240                                   0   \n",
       "113                                    0   \n",
       "4132                                   0   \n",
       "5573                                   0   \n",
       "1109                                   0   \n",
       "\n",
       "      Last Notable Activity_View in browser link Clicked  \n",
       "2240                                                  0   \n",
       "113                                                   0   \n",
       "4132                                                  0   \n",
       "5573                                                  0   \n",
       "1109                                                  0   \n",
       "\n",
       "[5 rows x 71 columns]"
      ]
     },
     "execution_count": 187,
     "metadata": {},
     "output_type": "execute_result"
    }
   ],
   "source": [
    "from sklearn.preprocessing import MinMaxScaler\n",
    "\n",
    "scaler = MinMaxScaler()\n",
    "\n",
    "X_train[['TotalVisits','Total Time Spent on Website','Page Views Per Visit']] = scaler.fit_transform(X_train[['TotalVisits',\n",
    "                                                                        'Total Time Spent on Website','Page Views Per Visit']])\n",
    "\n",
    "X_train.head()"
   ]
  },
  {
   "cell_type": "code",
   "execution_count": 188,
   "id": "eba39de4",
   "metadata": {},
   "outputs": [
    {
     "data": {
      "text/plain": [
       "38.50924797873519"
      ]
     },
     "execution_count": 188,
     "metadata": {},
     "output_type": "execute_result"
    }
   ],
   "source": [
    "converted = (sum(leads_data['Converted'])/len(leads_data['Converted'].index))*100\n",
    "converted"
   ]
  },
  {
   "cell_type": "markdown",
   "id": "8aaa4673",
   "metadata": {},
   "source": [
    "### Model Building"
   ]
  },
  {
   "cell_type": "code",
   "execution_count": 189,
   "id": "66fc7b5d",
   "metadata": {},
   "outputs": [],
   "source": [
    "import statsmodels.api as sm"
   ]
  },
  {
   "cell_type": "code",
   "execution_count": 190,
   "id": "28ab39ae",
   "metadata": {},
   "outputs": [
    {
     "data": {
      "text/html": [
       "<table class=\"simpletable\">\n",
       "<caption>Generalized Linear Model Regression Results</caption>\n",
       "<tr>\n",
       "  <th>Dep. Variable:</th>       <td>Converted</td>    <th>  No. Observations:  </th>   <td>  6320</td>  \n",
       "</tr>\n",
       "<tr>\n",
       "  <th>Model:</th>                  <td>GLM</td>       <th>  Df Residuals:      </th>   <td>  6258</td>  \n",
       "</tr>\n",
       "<tr>\n",
       "  <th>Model Family:</th>        <td>Binomial</td>     <th>  Df Model:          </th>   <td>    61</td>  \n",
       "</tr>\n",
       "<tr>\n",
       "  <th>Link Function:</th>         <td>logit</td>      <th>  Scale:             </th>  <td>  1.0000</td> \n",
       "</tr>\n",
       "<tr>\n",
       "  <th>Method:</th>                <td>IRLS</td>       <th>  Log-Likelihood:    </th>  <td>     nan</td> \n",
       "</tr>\n",
       "<tr>\n",
       "  <th>Date:</th>            <td>Tue, 18 Oct 2022</td> <th>  Deviance:          </th> <td>1.3705e+05</td>\n",
       "</tr>\n",
       "<tr>\n",
       "  <th>Time:</th>                <td>10:16:13</td>     <th>  Pearson chi2:      </th>  <td>6.70e+18</td> \n",
       "</tr>\n",
       "<tr>\n",
       "  <th>No. Iterations:</th>         <td>100</td>       <th>                     </th>      <td> </td>    \n",
       "</tr>\n",
       "<tr>\n",
       "  <th>Covariance Type:</th>     <td>nonrobust</td>    <th>                     </th>      <td> </td>    \n",
       "</tr>\n",
       "</table>\n",
       "<table class=\"simpletable\">\n",
       "<tr>\n",
       "                            <td></td>                              <th>coef</th>     <th>std err</th>      <th>z</th>      <th>P>|z|</th>  <th>[0.025</th>    <th>0.975]</th>  \n",
       "</tr>\n",
       "<tr>\n",
       "  <th>const</th>                                                <td> 4.335e+15</td> <td> 6.41e+07</td> <td> 6.76e+07</td> <td> 0.000</td> <td> 4.34e+15</td> <td> 4.34e+15</td>\n",
       "</tr>\n",
       "<tr>\n",
       "  <th>Do Not Email</th>                                         <td>-6.326e+14</td> <td> 4.48e+06</td> <td>-1.41e+08</td> <td> 0.000</td> <td>-6.33e+14</td> <td>-6.33e+14</td>\n",
       "</tr>\n",
       "<tr>\n",
       "  <th>Do Not Call</th>                                          <td> 5.252e+15</td> <td> 4.76e+07</td> <td>  1.1e+08</td> <td> 0.000</td> <td> 5.25e+15</td> <td> 5.25e+15</td>\n",
       "</tr>\n",
       "<tr>\n",
       "  <th>TotalVisits</th>                                          <td> 2.345e+14</td> <td> 7.66e+06</td> <td> 3.06e+07</td> <td> 0.000</td> <td> 2.35e+14</td> <td> 2.35e+14</td>\n",
       "</tr>\n",
       "<tr>\n",
       "  <th>Total Time Spent on Website</th>                          <td> 4.701e+14</td> <td> 4.01e+06</td> <td> 1.17e+08</td> <td> 0.000</td> <td>  4.7e+14</td> <td>  4.7e+14</td>\n",
       "</tr>\n",
       "<tr>\n",
       "  <th>Page Views Per Visit</th>                                 <td> 1.965e+14</td> <td> 6.52e+06</td> <td> 3.02e+07</td> <td> 0.000</td> <td> 1.97e+14</td> <td> 1.97e+14</td>\n",
       "</tr>\n",
       "<tr>\n",
       "  <th>Search</th>                                               <td>-2.246e+14</td> <td> 2.44e+07</td> <td> -9.2e+06</td> <td> 0.000</td> <td>-2.25e+14</td> <td>-2.25e+14</td>\n",
       "</tr>\n",
       "<tr>\n",
       "  <th>Digital Advertisement</th>                                <td> 4.389e+14</td> <td> 4.76e+07</td> <td> 9.23e+06</td> <td> 0.000</td> <td> 4.39e+14</td> <td> 4.39e+14</td>\n",
       "</tr>\n",
       "<tr>\n",
       "  <th>Through Recommendations</th>                              <td> 5.267e+14</td> <td>  4.2e+07</td> <td> 1.25e+07</td> <td> 0.000</td> <td> 5.27e+14</td> <td> 5.27e+14</td>\n",
       "</tr>\n",
       "<tr>\n",
       "  <th>A free copy of Mastering The Interview</th>               <td> 1.532e+14</td> <td>  2.5e+06</td> <td> 6.13e+07</td> <td> 0.000</td> <td> 1.53e+14</td> <td> 1.53e+14</td>\n",
       "</tr>\n",
       "<tr>\n",
       "  <th>Lead Origin_API</th>                                      <td>-6.028e+15</td> <td> 6.74e+07</td> <td>-8.94e+07</td> <td> 0.000</td> <td>-6.03e+15</td> <td>-6.03e+15</td>\n",
       "</tr>\n",
       "<tr>\n",
       "  <th>Lead Origin_Landing Page Submission</th>                  <td>-6.045e+15</td> <td> 6.74e+07</td> <td>-8.97e+07</td> <td> 0.000</td> <td>-6.05e+15</td> <td>-6.05e+15</td>\n",
       "</tr>\n",
       "<tr>\n",
       "  <th>Lead Origin_Lead Add Form</th>                            <td>-5.873e+15</td> <td> 6.86e+07</td> <td>-8.56e+07</td> <td> 0.000</td> <td>-5.87e+15</td> <td>-5.87e+15</td>\n",
       "</tr>\n",
       "<tr>\n",
       "  <th>Lead Origin_Lead Import</th>                              <td>-5.356e+15</td> <td> 8.27e+07</td> <td>-6.48e+07</td> <td> 0.000</td> <td>-5.36e+15</td> <td>-5.36e+15</td>\n",
       "</tr>\n",
       "<tr>\n",
       "  <th>Lead Source_Click2call</th>                               <td> 3.601e+15</td> <td>  4.7e+07</td> <td> 7.67e+07</td> <td> 0.000</td> <td>  3.6e+15</td> <td>  3.6e+15</td>\n",
       "</tr>\n",
       "<tr>\n",
       "  <th>Lead Source_Direct Traffic</th>                           <td> 9.945e+14</td> <td> 1.12e+07</td> <td> 8.92e+07</td> <td> 0.000</td> <td> 9.94e+14</td> <td> 9.94e+14</td>\n",
       "</tr>\n",
       "<tr>\n",
       "  <th>Lead Source_Facebook</th>                                 <td> 4.733e+14</td> <td> 4.62e+07</td> <td> 1.02e+07</td> <td> 0.000</td> <td> 4.73e+14</td> <td> 4.73e+14</td>\n",
       "</tr>\n",
       "<tr>\n",
       "  <th>Lead Source_Google</th>                                   <td> 1.188e+15</td> <td>  1.1e+07</td> <td> 1.08e+08</td> <td> 0.000</td> <td> 1.19e+15</td> <td> 1.19e+15</td>\n",
       "</tr>\n",
       "<tr>\n",
       "  <th>Lead Source_Live Chat</th>                                <td> 4.667e+15</td> <td> 4.68e+07</td> <td> 9.96e+07</td> <td> 0.000</td> <td> 4.67e+15</td> <td> 4.67e+15</td>\n",
       "</tr>\n",
       "<tr>\n",
       "  <th>Lead Source_Olark Chat</th>                               <td> 1.565e+15</td> <td> 1.13e+07</td> <td> 1.38e+08</td> <td> 0.000</td> <td> 1.57e+15</td> <td> 1.57e+15</td>\n",
       "</tr>\n",
       "<tr>\n",
       "  <th>Lead Source_Organic Search</th>                           <td>  1.19e+15</td> <td> 1.13e+07</td> <td> 1.06e+08</td> <td> 0.000</td> <td> 1.19e+15</td> <td> 1.19e+15</td>\n",
       "</tr>\n",
       "<tr>\n",
       "  <th>Lead Source_Pay per Click Ads</th>                        <td>    8.0560</td> <td> 2.01e-07</td> <td> 4.01e+07</td> <td> 0.000</td> <td>    8.056</td> <td>    8.056</td>\n",
       "</tr>\n",
       "<tr>\n",
       "  <th>Lead Source_Press_Release</th>                            <td>  -12.9061</td> <td> 1.61e-07</td> <td>-8.03e+07</td> <td> 0.000</td> <td>  -12.906</td> <td>  -12.906</td>\n",
       "</tr>\n",
       "<tr>\n",
       "  <th>Lead Source_Reference</th>                                <td> 1.641e+15</td> <td> 1.48e+07</td> <td> 1.11e+08</td> <td> 0.000</td> <td> 1.64e+15</td> <td> 1.64e+15</td>\n",
       "</tr>\n",
       "<tr>\n",
       "  <th>Lead Source_Referral Sites</th>                           <td> 9.064e+14</td> <td> 1.31e+07</td> <td> 6.92e+07</td> <td> 0.000</td> <td> 9.06e+14</td> <td> 9.06e+14</td>\n",
       "</tr>\n",
       "<tr>\n",
       "  <th>Lead Source_Social Media</th>                             <td>-2.342e+15</td> <td> 6.41e+07</td> <td>-3.65e+07</td> <td> 0.000</td> <td>-2.34e+15</td> <td>-2.34e+15</td>\n",
       "</tr>\n",
       "<tr>\n",
       "  <th>Lead Source_WeLearn</th>                                  <td>   26.2304</td> <td> 2.38e-07</td> <td>  1.1e+08</td> <td> 0.000</td> <td>   26.230</td> <td>   26.230</td>\n",
       "</tr>\n",
       "<tr>\n",
       "  <th>Lead Source_Welingak Website</th>                         <td> 2.214e+15</td> <td> 1.56e+07</td> <td> 1.42e+08</td> <td> 0.000</td> <td> 2.21e+15</td> <td> 2.21e+15</td>\n",
       "</tr>\n",
       "<tr>\n",
       "  <th>Lead Source_bing</th>                                     <td>-2.427e+15</td> <td> 3.03e+07</td> <td>-8.01e+07</td> <td> 0.000</td> <td>-2.43e+15</td> <td>-2.43e+15</td>\n",
       "</tr>\n",
       "<tr>\n",
       "  <th>Lead Source_blog</th>                                     <td>-2.309e+15</td> <td>  6.4e+07</td> <td>-3.61e+07</td> <td> 0.000</td> <td>-2.31e+15</td> <td>-2.31e+15</td>\n",
       "</tr>\n",
       "<tr>\n",
       "  <th>Lead Source_google</th>                                   <td>-1.199e+15</td> <td> 3.04e+07</td> <td>-3.94e+07</td> <td> 0.000</td> <td> -1.2e+15</td> <td> -1.2e+15</td>\n",
       "</tr>\n",
       "<tr>\n",
       "  <th>Lead Source_testone</th>                                  <td>-3.206e+15</td> <td> 6.41e+07</td> <td>   -5e+07</td> <td> 0.000</td> <td>-3.21e+15</td> <td>-3.21e+15</td>\n",
       "</tr>\n",
       "<tr>\n",
       "  <th>Lead Source_welearnblog_Home</th>                         <td>-2.623e+15</td> <td>  6.4e+07</td> <td> -4.1e+07</td> <td> 0.000</td> <td>-2.62e+15</td> <td>-2.62e+15</td>\n",
       "</tr>\n",
       "<tr>\n",
       "  <th>Lead Source_youtubechannel</th>                           <td>   -9.5818</td> <td> 1.66e-07</td> <td>-5.78e+07</td> <td> 0.000</td> <td>   -9.582</td> <td>   -9.582</td>\n",
       "</tr>\n",
       "<tr>\n",
       "  <th>Last Activity_Approached upfront</th>                     <td> 3.336e+15</td> <td> 2.72e+07</td> <td> 1.23e+08</td> <td> 0.000</td> <td> 3.34e+15</td> <td> 3.34e+15</td>\n",
       "</tr>\n",
       "<tr>\n",
       "  <th>Last Activity_Converted to Lead</th>                      <td>-1.564e+14</td> <td> 9.39e+06</td> <td>-1.67e+07</td> <td> 0.000</td> <td>-1.56e+14</td> <td>-1.56e+14</td>\n",
       "</tr>\n",
       "<tr>\n",
       "  <th>Last Activity_Email Bounced</th>                          <td>-1.467e+14</td> <td> 1.02e+07</td> <td>-1.43e+07</td> <td> 0.000</td> <td>-1.47e+14</td> <td>-1.47e+14</td>\n",
       "</tr>\n",
       "<tr>\n",
       "  <th>Last Activity_Email Link Clicked</th>                     <td>-8.206e+13</td> <td> 1.14e+07</td> <td>-7.18e+06</td> <td> 0.000</td> <td>-8.21e+13</td> <td>-8.21e+13</td>\n",
       "</tr>\n",
       "<tr>\n",
       "  <th>Last Activity_Email Marked Spam</th>                      <td> 2.946e+15</td> <td> 2.32e+07</td> <td> 1.27e+08</td> <td> 0.000</td> <td> 2.95e+15</td> <td> 2.95e+15</td>\n",
       "</tr>\n",
       "<tr>\n",
       "  <th>Last Activity_Email Opened</th>                           <td>-2.258e+13</td> <td>  9.1e+06</td> <td>-2.48e+06</td> <td> 0.000</td> <td>-2.26e+13</td> <td>-2.26e+13</td>\n",
       "</tr>\n",
       "<tr>\n",
       "  <th>Last Activity_Email Opened </th>                          <td> 3.784e+14</td> <td> 1.19e+07</td> <td> 3.17e+07</td> <td> 0.000</td> <td> 3.78e+14</td> <td> 3.78e+14</td>\n",
       "</tr>\n",
       "<tr>\n",
       "  <th>Last Activity_Email Received</th>                         <td> 3.904e+15</td> <td> 6.38e+07</td> <td> 6.12e+07</td> <td> 0.000</td> <td>  3.9e+15</td> <td>  3.9e+15</td>\n",
       "</tr>\n",
       "<tr>\n",
       "  <th>Last Activity_Form Submitted on Website</th>              <td> 4.118e+13</td> <td> 1.13e+07</td> <td> 3.64e+06</td> <td> 0.000</td> <td> 4.12e+13</td> <td> 4.12e+13</td>\n",
       "</tr>\n",
       "<tr>\n",
       "  <th>Last Activity_Had a Phone Conversation</th>               <td> 8.482e+14</td> <td> 2.26e+07</td> <td> 3.75e+07</td> <td> 0.000</td> <td> 8.48e+14</td> <td> 8.48e+14</td>\n",
       "</tr>\n",
       "<tr>\n",
       "  <th>Last Activity_Olark Chat Conversation</th>                <td>  1.67e+14</td> <td> 9.09e+06</td> <td> 1.84e+07</td> <td> 0.000</td> <td> 1.67e+14</td> <td> 1.67e+14</td>\n",
       "</tr>\n",
       "<tr>\n",
       "  <th>Last Activity_Page Visited on Website</th>                <td>-1.654e+14</td> <td> 9.55e+06</td> <td>-1.73e+07</td> <td> 0.000</td> <td>-1.65e+14</td> <td>-1.65e+14</td>\n",
       "</tr>\n",
       "<tr>\n",
       "  <th>Last Activity_SMS Sent</th>                               <td> 2.218e+14</td> <td> 9.11e+06</td> <td> 2.43e+07</td> <td> 0.000</td> <td> 2.22e+14</td> <td> 2.22e+14</td>\n",
       "</tr>\n",
       "<tr>\n",
       "  <th>Last Activity_Unreachable</th>                            <td>-2.252e+13</td> <td> 1.29e+07</td> <td>-1.74e+06</td> <td> 0.000</td> <td>-2.25e+13</td> <td>-2.25e+13</td>\n",
       "</tr>\n",
       "<tr>\n",
       "  <th>Last Activity_Unsubscribed</th>                           <td> 2.948e+14</td> <td> 2.39e+07</td> <td> 1.24e+07</td> <td> 0.000</td> <td> 2.95e+14</td> <td> 2.95e+14</td>\n",
       "</tr>\n",
       "<tr>\n",
       "  <th>Last Activity_View in browser link Clicked</th>           <td>-3.591e+15</td> <td> 6.33e+07</td> <td>-5.67e+07</td> <td> 0.000</td> <td>-3.59e+15</td> <td>-3.59e+15</td>\n",
       "</tr>\n",
       "<tr>\n",
       "  <th>Last Activity_Visited Booth in Tradeshow</th>             <td>-3.616e+15</td> <td> 6.37e+07</td> <td>-5.67e+07</td> <td> 0.000</td> <td>-3.62e+15</td> <td>-3.62e+15</td>\n",
       "</tr>\n",
       "<tr>\n",
       "  <th>What is your current occupation_Housewife</th>            <td> 4.268e+15</td> <td> 4.12e+07</td> <td> 1.04e+08</td> <td> 0.000</td> <td> 4.27e+15</td> <td> 4.27e+15</td>\n",
       "</tr>\n",
       "<tr>\n",
       "  <th>What is your current occupation_Other</th>                <td> 1.591e+15</td> <td> 3.89e+07</td> <td> 4.09e+07</td> <td> 0.000</td> <td> 1.59e+15</td> <td> 1.59e+15</td>\n",
       "</tr>\n",
       "<tr>\n",
       "  <th>What is your current occupation_Student</th>              <td>-5.446e+14</td> <td> 3.41e+07</td> <td> -1.6e+07</td> <td> 0.000</td> <td>-5.45e+14</td> <td>-5.45e+14</td>\n",
       "</tr>\n",
       "<tr>\n",
       "  <th>What is your current occupation_Unemployed</th>           <td>-4.497e+14</td> <td> 3.37e+07</td> <td>-1.33e+07</td> <td> 0.000</td> <td> -4.5e+14</td> <td> -4.5e+14</td>\n",
       "</tr>\n",
       "<tr>\n",
       "  <th>What is your current occupation_Unknown</th>              <td>-5.985e+14</td> <td> 3.37e+07</td> <td>-1.78e+07</td> <td> 0.000</td> <td>-5.99e+14</td> <td>-5.99e+14</td>\n",
       "</tr>\n",
       "<tr>\n",
       "  <th>What is your current occupation_Working Professional</th> <td> 6.495e+14</td> <td> 3.38e+07</td> <td> 1.92e+07</td> <td> 0.000</td> <td> 6.49e+14</td> <td> 6.49e+14</td>\n",
       "</tr>\n",
       "<tr>\n",
       "  <th>Last Notable Activity_Approached upfront</th>             <td>   -0.0791</td> <td>  1.3e-08</td> <td>-6.11e+06</td> <td> 0.000</td> <td>   -0.079</td> <td>   -0.079</td>\n",
       "</tr>\n",
       "<tr>\n",
       "  <th>Last Notable Activity_Email Bounced</th>                  <td> 5.579e+14</td> <td> 1.54e+07</td> <td> 3.61e+07</td> <td> 0.000</td> <td> 5.58e+14</td> <td> 5.58e+14</td>\n",
       "</tr>\n",
       "<tr>\n",
       "  <th>Last Notable Activity_Email Link Clicked</th>             <td>-2.302e+14</td> <td> 1.45e+07</td> <td>-1.58e+07</td> <td> 0.000</td> <td> -2.3e+14</td> <td> -2.3e+14</td>\n",
       "</tr>\n",
       "<tr>\n",
       "  <th>Last Notable Activity_Email Marked Spam</th>              <td> 2.946e+15</td> <td> 2.32e+07</td> <td> 1.27e+08</td> <td> 0.000</td> <td> 2.95e+15</td> <td> 2.95e+15</td>\n",
       "</tr>\n",
       "<tr>\n",
       "  <th>Last Notable Activity_Email Opened</th>                   <td> 1.251e+14</td> <td> 1.16e+07</td> <td> 1.08e+07</td> <td> 0.000</td> <td> 1.25e+14</td> <td> 1.25e+14</td>\n",
       "</tr>\n",
       "<tr>\n",
       "  <th>Last Notable Activity_Email Received</th>                 <td>    0.8061</td> <td> 1.67e-08</td> <td> 4.82e+07</td> <td> 0.000</td> <td>    0.806</td> <td>    0.806</td>\n",
       "</tr>\n",
       "<tr>\n",
       "  <th>Last Notable Activity_Form Submitted on Website</th>      <td> -3.88e+15</td> <td> 6.33e+07</td> <td>-6.13e+07</td> <td> 0.000</td> <td>-3.88e+15</td> <td>-3.88e+15</td>\n",
       "</tr>\n",
       "<tr>\n",
       "  <th>Last Notable Activity_Had a Phone Conversation</th>       <td> 9.519e+14</td> <td> 3.12e+07</td> <td> 3.06e+07</td> <td> 0.000</td> <td> 9.52e+14</td> <td> 9.52e+14</td>\n",
       "</tr>\n",
       "<tr>\n",
       "  <th>Last Notable Activity_Modified</th>                       <td>  2.72e+13</td> <td> 1.11e+07</td> <td> 2.46e+06</td> <td> 0.000</td> <td> 2.72e+13</td> <td> 2.72e+13</td>\n",
       "</tr>\n",
       "<tr>\n",
       "  <th>Last Notable Activity_Olark Chat Conversation</th>        <td> 1.611e+14</td> <td> 1.17e+07</td> <td> 1.38e+07</td> <td> 0.000</td> <td> 1.61e+14</td> <td> 1.61e+14</td>\n",
       "</tr>\n",
       "<tr>\n",
       "  <th>Last Notable Activity_Page Visited on Website</th>        <td> 3.535e+14</td> <td> 1.26e+07</td> <td>  2.8e+07</td> <td> 0.000</td> <td> 3.53e+14</td> <td> 3.53e+14</td>\n",
       "</tr>\n",
       "<tr>\n",
       "  <th>Last Notable Activity_SMS Sent</th>                       <td> 1.224e+15</td> <td> 1.16e+07</td> <td> 1.05e+08</td> <td> 0.000</td> <td> 1.22e+15</td> <td> 1.22e+15</td>\n",
       "</tr>\n",
       "<tr>\n",
       "  <th>Last Notable Activity_Unreachable</th>                    <td> 1.579e+15</td> <td> 1.97e+07</td> <td> 8.01e+07</td> <td> 0.000</td> <td> 1.58e+15</td> <td> 1.58e+15</td>\n",
       "</tr>\n",
       "<tr>\n",
       "  <th>Last Notable Activity_Unsubscribed</th>                   <td> 3.909e+14</td> <td> 2.72e+07</td> <td> 1.44e+07</td> <td> 0.000</td> <td> 3.91e+14</td> <td> 3.91e+14</td>\n",
       "</tr>\n",
       "<tr>\n",
       "  <th>Last Notable Activity_View in browser link Clicked</th>   <td> 1.288e+14</td> <td> 8.79e+07</td> <td> 1.47e+06</td> <td> 0.000</td> <td> 1.29e+14</td> <td> 1.29e+14</td>\n",
       "</tr>\n",
       "</table>"
      ],
      "text/plain": [
       "<class 'statsmodels.iolib.summary.Summary'>\n",
       "\"\"\"\n",
       "                 Generalized Linear Model Regression Results                  \n",
       "==============================================================================\n",
       "Dep. Variable:              Converted   No. Observations:                 6320\n",
       "Model:                            GLM   Df Residuals:                     6258\n",
       "Model Family:                Binomial   Df Model:                           61\n",
       "Link Function:                  logit   Scale:                          1.0000\n",
       "Method:                          IRLS   Log-Likelihood:                    nan\n",
       "Date:                Tue, 18 Oct 2022   Deviance:                   1.3705e+05\n",
       "Time:                        10:16:13   Pearson chi2:                 6.70e+18\n",
       "No. Iterations:                   100                                         \n",
       "Covariance Type:            nonrobust                                         \n",
       "========================================================================================================================\n",
       "                                                           coef    std err          z      P>|z|      [0.025      0.975]\n",
       "------------------------------------------------------------------------------------------------------------------------\n",
       "const                                                 4.335e+15   6.41e+07   6.76e+07      0.000    4.34e+15    4.34e+15\n",
       "Do Not Email                                         -6.326e+14   4.48e+06  -1.41e+08      0.000   -6.33e+14   -6.33e+14\n",
       "Do Not Call                                           5.252e+15   4.76e+07    1.1e+08      0.000    5.25e+15    5.25e+15\n",
       "TotalVisits                                           2.345e+14   7.66e+06   3.06e+07      0.000    2.35e+14    2.35e+14\n",
       "Total Time Spent on Website                           4.701e+14   4.01e+06   1.17e+08      0.000     4.7e+14     4.7e+14\n",
       "Page Views Per Visit                                  1.965e+14   6.52e+06   3.02e+07      0.000    1.97e+14    1.97e+14\n",
       "Search                                               -2.246e+14   2.44e+07   -9.2e+06      0.000   -2.25e+14   -2.25e+14\n",
       "Digital Advertisement                                 4.389e+14   4.76e+07   9.23e+06      0.000    4.39e+14    4.39e+14\n",
       "Through Recommendations                               5.267e+14    4.2e+07   1.25e+07      0.000    5.27e+14    5.27e+14\n",
       "A free copy of Mastering The Interview                1.532e+14    2.5e+06   6.13e+07      0.000    1.53e+14    1.53e+14\n",
       "Lead Origin_API                                      -6.028e+15   6.74e+07  -8.94e+07      0.000   -6.03e+15   -6.03e+15\n",
       "Lead Origin_Landing Page Submission                  -6.045e+15   6.74e+07  -8.97e+07      0.000   -6.05e+15   -6.05e+15\n",
       "Lead Origin_Lead Add Form                            -5.873e+15   6.86e+07  -8.56e+07      0.000   -5.87e+15   -5.87e+15\n",
       "Lead Origin_Lead Import                              -5.356e+15   8.27e+07  -6.48e+07      0.000   -5.36e+15   -5.36e+15\n",
       "Lead Source_Click2call                                3.601e+15    4.7e+07   7.67e+07      0.000     3.6e+15     3.6e+15\n",
       "Lead Source_Direct Traffic                            9.945e+14   1.12e+07   8.92e+07      0.000    9.94e+14    9.94e+14\n",
       "Lead Source_Facebook                                  4.733e+14   4.62e+07   1.02e+07      0.000    4.73e+14    4.73e+14\n",
       "Lead Source_Google                                    1.188e+15    1.1e+07   1.08e+08      0.000    1.19e+15    1.19e+15\n",
       "Lead Source_Live Chat                                 4.667e+15   4.68e+07   9.96e+07      0.000    4.67e+15    4.67e+15\n",
       "Lead Source_Olark Chat                                1.565e+15   1.13e+07   1.38e+08      0.000    1.57e+15    1.57e+15\n",
       "Lead Source_Organic Search                             1.19e+15   1.13e+07   1.06e+08      0.000    1.19e+15    1.19e+15\n",
       "Lead Source_Pay per Click Ads                            8.0560   2.01e-07   4.01e+07      0.000       8.056       8.056\n",
       "Lead Source_Press_Release                              -12.9061   1.61e-07  -8.03e+07      0.000     -12.906     -12.906\n",
       "Lead Source_Reference                                 1.641e+15   1.48e+07   1.11e+08      0.000    1.64e+15    1.64e+15\n",
       "Lead Source_Referral Sites                            9.064e+14   1.31e+07   6.92e+07      0.000    9.06e+14    9.06e+14\n",
       "Lead Source_Social Media                             -2.342e+15   6.41e+07  -3.65e+07      0.000   -2.34e+15   -2.34e+15\n",
       "Lead Source_WeLearn                                     26.2304   2.38e-07    1.1e+08      0.000      26.230      26.230\n",
       "Lead Source_Welingak Website                          2.214e+15   1.56e+07   1.42e+08      0.000    2.21e+15    2.21e+15\n",
       "Lead Source_bing                                     -2.427e+15   3.03e+07  -8.01e+07      0.000   -2.43e+15   -2.43e+15\n",
       "Lead Source_blog                                     -2.309e+15    6.4e+07  -3.61e+07      0.000   -2.31e+15   -2.31e+15\n",
       "Lead Source_google                                   -1.199e+15   3.04e+07  -3.94e+07      0.000    -1.2e+15    -1.2e+15\n",
       "Lead Source_testone                                  -3.206e+15   6.41e+07     -5e+07      0.000   -3.21e+15   -3.21e+15\n",
       "Lead Source_welearnblog_Home                         -2.623e+15    6.4e+07   -4.1e+07      0.000   -2.62e+15   -2.62e+15\n",
       "Lead Source_youtubechannel                              -9.5818   1.66e-07  -5.78e+07      0.000      -9.582      -9.582\n",
       "Last Activity_Approached upfront                      3.336e+15   2.72e+07   1.23e+08      0.000    3.34e+15    3.34e+15\n",
       "Last Activity_Converted to Lead                      -1.564e+14   9.39e+06  -1.67e+07      0.000   -1.56e+14   -1.56e+14\n",
       "Last Activity_Email Bounced                          -1.467e+14   1.02e+07  -1.43e+07      0.000   -1.47e+14   -1.47e+14\n",
       "Last Activity_Email Link Clicked                     -8.206e+13   1.14e+07  -7.18e+06      0.000   -8.21e+13   -8.21e+13\n",
       "Last Activity_Email Marked Spam                       2.946e+15   2.32e+07   1.27e+08      0.000    2.95e+15    2.95e+15\n",
       "Last Activity_Email Opened                           -2.258e+13    9.1e+06  -2.48e+06      0.000   -2.26e+13   -2.26e+13\n",
       "Last Activity_Email Opened                            3.784e+14   1.19e+07   3.17e+07      0.000    3.78e+14    3.78e+14\n",
       "Last Activity_Email Received                          3.904e+15   6.38e+07   6.12e+07      0.000     3.9e+15     3.9e+15\n",
       "Last Activity_Form Submitted on Website               4.118e+13   1.13e+07   3.64e+06      0.000    4.12e+13    4.12e+13\n",
       "Last Activity_Had a Phone Conversation                8.482e+14   2.26e+07   3.75e+07      0.000    8.48e+14    8.48e+14\n",
       "Last Activity_Olark Chat Conversation                  1.67e+14   9.09e+06   1.84e+07      0.000    1.67e+14    1.67e+14\n",
       "Last Activity_Page Visited on Website                -1.654e+14   9.55e+06  -1.73e+07      0.000   -1.65e+14   -1.65e+14\n",
       "Last Activity_SMS Sent                                2.218e+14   9.11e+06   2.43e+07      0.000    2.22e+14    2.22e+14\n",
       "Last Activity_Unreachable                            -2.252e+13   1.29e+07  -1.74e+06      0.000   -2.25e+13   -2.25e+13\n",
       "Last Activity_Unsubscribed                            2.948e+14   2.39e+07   1.24e+07      0.000    2.95e+14    2.95e+14\n",
       "Last Activity_View in browser link Clicked           -3.591e+15   6.33e+07  -5.67e+07      0.000   -3.59e+15   -3.59e+15\n",
       "Last Activity_Visited Booth in Tradeshow             -3.616e+15   6.37e+07  -5.67e+07      0.000   -3.62e+15   -3.62e+15\n",
       "What is your current occupation_Housewife             4.268e+15   4.12e+07   1.04e+08      0.000    4.27e+15    4.27e+15\n",
       "What is your current occupation_Other                 1.591e+15   3.89e+07   4.09e+07      0.000    1.59e+15    1.59e+15\n",
       "What is your current occupation_Student              -5.446e+14   3.41e+07   -1.6e+07      0.000   -5.45e+14   -5.45e+14\n",
       "What is your current occupation_Unemployed           -4.497e+14   3.37e+07  -1.33e+07      0.000    -4.5e+14    -4.5e+14\n",
       "What is your current occupation_Unknown              -5.985e+14   3.37e+07  -1.78e+07      0.000   -5.99e+14   -5.99e+14\n",
       "What is your current occupation_Working Professional  6.495e+14   3.38e+07   1.92e+07      0.000    6.49e+14    6.49e+14\n",
       "Last Notable Activity_Approached upfront                -0.0791    1.3e-08  -6.11e+06      0.000      -0.079      -0.079\n",
       "Last Notable Activity_Email Bounced                   5.579e+14   1.54e+07   3.61e+07      0.000    5.58e+14    5.58e+14\n",
       "Last Notable Activity_Email Link Clicked             -2.302e+14   1.45e+07  -1.58e+07      0.000    -2.3e+14    -2.3e+14\n",
       "Last Notable Activity_Email Marked Spam               2.946e+15   2.32e+07   1.27e+08      0.000    2.95e+15    2.95e+15\n",
       "Last Notable Activity_Email Opened                    1.251e+14   1.16e+07   1.08e+07      0.000    1.25e+14    1.25e+14\n",
       "Last Notable Activity_Email Received                     0.8061   1.67e-08   4.82e+07      0.000       0.806       0.806\n",
       "Last Notable Activity_Form Submitted on Website       -3.88e+15   6.33e+07  -6.13e+07      0.000   -3.88e+15   -3.88e+15\n",
       "Last Notable Activity_Had a Phone Conversation        9.519e+14   3.12e+07   3.06e+07      0.000    9.52e+14    9.52e+14\n",
       "Last Notable Activity_Modified                         2.72e+13   1.11e+07   2.46e+06      0.000    2.72e+13    2.72e+13\n",
       "Last Notable Activity_Olark Chat Conversation         1.611e+14   1.17e+07   1.38e+07      0.000    1.61e+14    1.61e+14\n",
       "Last Notable Activity_Page Visited on Website         3.535e+14   1.26e+07    2.8e+07      0.000    3.53e+14    3.53e+14\n",
       "Last Notable Activity_SMS Sent                        1.224e+15   1.16e+07   1.05e+08      0.000    1.22e+15    1.22e+15\n",
       "Last Notable Activity_Unreachable                     1.579e+15   1.97e+07   8.01e+07      0.000    1.58e+15    1.58e+15\n",
       "Last Notable Activity_Unsubscribed                    3.909e+14   2.72e+07   1.44e+07      0.000    3.91e+14    3.91e+14\n",
       "Last Notable Activity_View in browser link Clicked    1.288e+14   8.79e+07   1.47e+06      0.000    1.29e+14    1.29e+14\n",
       "========================================================================================================================\n",
       "\"\"\""
      ]
     },
     "execution_count": 190,
     "metadata": {},
     "output_type": "execute_result"
    }
   ],
   "source": [
    "logml = sm.GLM(y_train,(sm.add_constant(X_train)),family=sm.families.Binomial())\n",
    "logml.fit().summary()"
   ]
  },
  {
   "cell_type": "code",
   "execution_count": 191,
   "id": "0e8b7d8b",
   "metadata": {},
   "outputs": [],
   "source": [
    "from sklearn.linear_model import LogisticRegression\n",
    "logreg = LogisticRegression()"
   ]
  },
  {
   "cell_type": "code",
   "execution_count": 192,
   "id": "f780289f",
   "metadata": {},
   "outputs": [],
   "source": [
    "from sklearn.feature_selection import RFE"
   ]
  },
  {
   "cell_type": "code",
   "execution_count": 193,
   "id": "3ae73a37",
   "metadata": {},
   "outputs": [],
   "source": [
    "rfe = RFE(logreg, 20)            \n",
    "rfe = rfe.fit(X_train, y_train)"
   ]
  },
  {
   "cell_type": "code",
   "execution_count": 194,
   "id": "c990a29f",
   "metadata": {},
   "outputs": [
    {
     "data": {
      "text/plain": [
       "array([ True, False,  True,  True,  True,  True, False, False, False,\n",
       "       False, False,  True, False, False, False, False, False, False,\n",
       "        True, False, False, False,  True, False, False, False,  True,\n",
       "       False, False, False, False, False, False,  True, False, False,\n",
       "       False, False,  True, False, False, False,  True,  True, False,\n",
       "        True, False, False, False, False,  True, False, False, False,\n",
       "        True,  True, False, False, False, False, False, False, False,\n",
       "        True,  True, False, False, False,  True, False, False])"
      ]
     },
     "execution_count": 194,
     "metadata": {},
     "output_type": "execute_result"
    }
   ],
   "source": [
    "rfe.support_"
   ]
  },
  {
   "cell_type": "code",
   "execution_count": 195,
   "id": "31010257",
   "metadata": {},
   "outputs": [
    {
     "data": {
      "text/plain": [
       "[('Do Not Email', True, 1),\n",
       " ('Do Not Call', False, 13),\n",
       " ('TotalVisits', True, 1),\n",
       " ('Total Time Spent on Website', True, 1),\n",
       " ('Page Views Per Visit', True, 1),\n",
       " ('Search', True, 1),\n",
       " ('Digital Advertisement', False, 46),\n",
       " ('Through Recommendations', False, 29),\n",
       " ('A free copy of Mastering The Interview', False, 38),\n",
       " ('Lead Origin_API', False, 9),\n",
       " ('Lead Origin_Landing Page Submission', False, 8),\n",
       " ('Lead Origin_Lead Add Form', True, 1),\n",
       " ('Lead Origin_Lead Import', False, 21),\n",
       " ('Lead Source_Click2call', False, 27),\n",
       " ('Lead Source_Direct Traffic', False, 16),\n",
       " ('Lead Source_Facebook', False, 10),\n",
       " ('Lead Source_Google', False, 35),\n",
       " ('Lead Source_Live Chat', False, 39),\n",
       " ('Lead Source_Olark Chat', True, 1),\n",
       " ('Lead Source_Organic Search', False, 31),\n",
       " ('Lead Source_Pay per Click Ads', False, 47),\n",
       " ('Lead Source_Press_Release', False, 48),\n",
       " ('Lead Source_Reference', True, 1),\n",
       " ('Lead Source_Referral Sites', False, 26),\n",
       " ('Lead Source_Social Media', False, 42),\n",
       " ('Lead Source_WeLearn', False, 49),\n",
       " ('Lead Source_Welingak Website', True, 1),\n",
       " ('Lead Source_bing', False, 18),\n",
       " ('Lead Source_blog', False, 36),\n",
       " ('Lead Source_google', False, 19),\n",
       " ('Lead Source_testone', False, 34),\n",
       " ('Lead Source_welearnblog_Home', False, 40),\n",
       " ('Lead Source_youtubechannel', False, 51),\n",
       " ('Last Activity_Approached upfront', True, 1),\n",
       " ('Last Activity_Converted to Lead', False, 20),\n",
       " ('Last Activity_Email Bounced', False, 6),\n",
       " ('Last Activity_Email Link Clicked', False, 14),\n",
       " ('Last Activity_Email Marked Spam', False, 17),\n",
       " ('Last Activity_Email Opened', True, 1),\n",
       " ('Last Activity_Email Opened ', False, 7),\n",
       " ('Last Activity_Email Received', False, 44),\n",
       " ('Last Activity_Form Submitted on Website', False, 33),\n",
       " ('Last Activity_Had a Phone Conversation', True, 1),\n",
       " ('Last Activity_Olark Chat Conversation', True, 1),\n",
       " ('Last Activity_Page Visited on Website', False, 32),\n",
       " ('Last Activity_SMS Sent', True, 1),\n",
       " ('Last Activity_Unreachable', False, 28),\n",
       " ('Last Activity_Unsubscribed', False, 23),\n",
       " ('Last Activity_View in browser link Clicked', False, 25),\n",
       " ('Last Activity_Visited Booth in Tradeshow', False, 41),\n",
       " ('What is your current occupation_Housewife', True, 1),\n",
       " ('What is your current occupation_Other', False, 37),\n",
       " ('What is your current occupation_Student', False, 11),\n",
       " ('What is your current occupation_Unemployed', False, 12),\n",
       " ('What is your current occupation_Unknown', True, 1),\n",
       " ('What is your current occupation_Working Professional', True, 1),\n",
       " ('Last Notable Activity_Approached upfront', False, 52),\n",
       " ('Last Notable Activity_Email Bounced', False, 22),\n",
       " ('Last Notable Activity_Email Link Clicked', False, 4),\n",
       " ('Last Notable Activity_Email Marked Spam', False, 15),\n",
       " ('Last Notable Activity_Email Opened', False, 2),\n",
       " ('Last Notable Activity_Email Received', False, 50),\n",
       " ('Last Notable Activity_Form Submitted on Website', False, 45),\n",
       " ('Last Notable Activity_Had a Phone Conversation', True, 1),\n",
       " ('Last Notable Activity_Modified', True, 1),\n",
       " ('Last Notable Activity_Olark Chat Conversation', False, 3),\n",
       " ('Last Notable Activity_Page Visited on Website', False, 5),\n",
       " ('Last Notable Activity_SMS Sent', False, 24),\n",
       " ('Last Notable Activity_Unreachable', True, 1),\n",
       " ('Last Notable Activity_Unsubscribed', False, 43),\n",
       " ('Last Notable Activity_View in browser link Clicked', False, 30)]"
      ]
     },
     "execution_count": 195,
     "metadata": {},
     "output_type": "execute_result"
    }
   ],
   "source": [
    "list(zip(X_train.columns, rfe.support_, rfe.ranking_))"
   ]
  },
  {
   "cell_type": "code",
   "execution_count": 198,
   "id": "8196eb80",
   "metadata": {},
   "outputs": [
    {
     "data": {
      "text/plain": [
       "Index(['Do Not Email', 'TotalVisits', 'Total Time Spent on Website',\n",
       "       'Page Views Per Visit', 'Search', 'Lead Origin_Lead Add Form',\n",
       "       'Lead Source_Olark Chat', 'Lead Source_Reference',\n",
       "       'Lead Source_Welingak Website', 'Last Activity_Approached upfront',\n",
       "       'Last Activity_Email Opened', 'Last Activity_Had a Phone Conversation',\n",
       "       'Last Activity_Olark Chat Conversation', 'Last Activity_SMS Sent',\n",
       "       'What is your current occupation_Housewife',\n",
       "       'What is your current occupation_Unknown',\n",
       "       'What is your current occupation_Working Professional',\n",
       "       'Last Notable Activity_Had a Phone Conversation',\n",
       "       'Last Notable Activity_Modified', 'Last Notable Activity_Unreachable'],\n",
       "      dtype='object')"
      ]
     },
     "execution_count": 198,
     "metadata": {},
     "output_type": "execute_result"
    }
   ],
   "source": [
    "rfe_col = X_train.columns[rfe.support_]\n",
    "rfe_col"
   ]
  },
  {
   "cell_type": "markdown",
   "id": "6c7262bb",
   "metadata": {},
   "source": [
    "## RFE MODEL - 1"
   ]
  },
  {
   "cell_type": "code",
   "execution_count": 199,
   "id": "ca1f3e67",
   "metadata": {},
   "outputs": [
    {
     "data": {
      "text/html": [
       "<table class=\"simpletable\">\n",
       "<caption>Generalized Linear Model Regression Results</caption>\n",
       "<tr>\n",
       "  <th>Dep. Variable:</th>       <td>Converted</td>    <th>  No. Observations:  </th>  <td>  6320</td> \n",
       "</tr>\n",
       "<tr>\n",
       "  <th>Model:</th>                  <td>GLM</td>       <th>  Df Residuals:      </th>  <td>  6299</td> \n",
       "</tr>\n",
       "<tr>\n",
       "  <th>Model Family:</th>        <td>Binomial</td>     <th>  Df Model:          </th>  <td>    20</td> \n",
       "</tr>\n",
       "<tr>\n",
       "  <th>Link Function:</th>         <td>logit</td>      <th>  Scale:             </th> <td>  1.0000</td>\n",
       "</tr>\n",
       "<tr>\n",
       "  <th>Method:</th>                <td>IRLS</td>       <th>  Log-Likelihood:    </th> <td> -2501.1</td>\n",
       "</tr>\n",
       "<tr>\n",
       "  <th>Date:</th>            <td>Tue, 18 Oct 2022</td> <th>  Deviance:          </th> <td>  5002.3</td>\n",
       "</tr>\n",
       "<tr>\n",
       "  <th>Time:</th>                <td>10:23:27</td>     <th>  Pearson chi2:      </th> <td>6.53e+03</td>\n",
       "</tr>\n",
       "<tr>\n",
       "  <th>No. Iterations:</th>         <td>22</td>        <th>                     </th>     <td> </td>   \n",
       "</tr>\n",
       "<tr>\n",
       "  <th>Covariance Type:</th>     <td>nonrobust</td>    <th>                     </th>     <td> </td>   \n",
       "</tr>\n",
       "</table>\n",
       "<table class=\"simpletable\">\n",
       "<tr>\n",
       "                            <td></td>                              <th>coef</th>     <th>std err</th>      <th>z</th>      <th>P>|z|</th>  <th>[0.025</th>    <th>0.975]</th>  \n",
       "</tr>\n",
       "<tr>\n",
       "  <th>const</th>                                                <td>   -2.5570</td> <td>    0.153</td> <td>  -16.659</td> <td> 0.000</td> <td>   -2.858</td> <td>   -2.256</td>\n",
       "</tr>\n",
       "<tr>\n",
       "  <th>Do Not Email</th>                                         <td>   -1.1023</td> <td>    0.176</td> <td>   -6.276</td> <td> 0.000</td> <td>   -1.447</td> <td>   -0.758</td>\n",
       "</tr>\n",
       "<tr>\n",
       "  <th>TotalVisits</th>                                          <td>    1.7989</td> <td>    0.290</td> <td>    6.206</td> <td> 0.000</td> <td>    1.231</td> <td>    2.367</td>\n",
       "</tr>\n",
       "<tr>\n",
       "  <th>Total Time Spent on Website</th>                          <td>    4.5119</td> <td>    0.169</td> <td>   26.717</td> <td> 0.000</td> <td>    4.181</td> <td>    4.843</td>\n",
       "</tr>\n",
       "<tr>\n",
       "  <th>Page Views Per Visit</th>                                 <td>   -0.8642</td> <td>    0.250</td> <td>   -3.453</td> <td> 0.001</td> <td>   -1.355</td> <td>   -0.374</td>\n",
       "</tr>\n",
       "<tr>\n",
       "  <th>Search</th>                                               <td>   -1.6356</td> <td>    1.011</td> <td>   -1.618</td> <td> 0.106</td> <td>   -3.617</td> <td>    0.346</td>\n",
       "</tr>\n",
       "<tr>\n",
       "  <th>Lead Origin_Lead Add Form</th>                            <td>    3.0358</td> <td>    0.512</td> <td>    5.932</td> <td> 0.000</td> <td>    2.033</td> <td>    4.039</td>\n",
       "</tr>\n",
       "<tr>\n",
       "  <th>Lead Source_Olark Chat</th>                               <td>    1.4699</td> <td>    0.134</td> <td>   10.947</td> <td> 0.000</td> <td>    1.207</td> <td>    1.733</td>\n",
       "</tr>\n",
       "<tr>\n",
       "  <th>Lead Source_Reference</th>                                <td>    0.6403</td> <td>    0.540</td> <td>    1.185</td> <td> 0.236</td> <td>   -0.418</td> <td>    1.699</td>\n",
       "</tr>\n",
       "<tr>\n",
       "  <th>Lead Source_Welingak Website</th>                         <td>    2.6586</td> <td>    0.876</td> <td>    3.036</td> <td> 0.002</td> <td>    0.942</td> <td>    4.375</td>\n",
       "</tr>\n",
       "<tr>\n",
       "  <th>Last Activity_Approached upfront</th>                     <td>   23.9469</td> <td> 2.63e+04</td> <td>    0.001</td> <td> 0.999</td> <td>-5.16e+04</td> <td> 5.17e+04</td>\n",
       "</tr>\n",
       "<tr>\n",
       "  <th>Last Activity_Email Opened</th>                           <td>    0.5394</td> <td>    0.117</td> <td>    4.599</td> <td> 0.000</td> <td>    0.310</td> <td>    0.769</td>\n",
       "</tr>\n",
       "<tr>\n",
       "  <th>Last Activity_Had a Phone Conversation</th>               <td>    1.1718</td> <td>    0.939</td> <td>    1.248</td> <td> 0.212</td> <td>   -0.668</td> <td>    3.011</td>\n",
       "</tr>\n",
       "<tr>\n",
       "  <th>Last Activity_Olark Chat Conversation</th>                <td>   -0.5893</td> <td>    0.190</td> <td>   -3.101</td> <td> 0.002</td> <td>   -0.962</td> <td>   -0.217</td>\n",
       "</tr>\n",
       "<tr>\n",
       "  <th>Last Activity_SMS Sent</th>                               <td>    1.7403</td> <td>    0.118</td> <td>   14.697</td> <td> 0.000</td> <td>    1.508</td> <td>    1.972</td>\n",
       "</tr>\n",
       "<tr>\n",
       "  <th>What is your current occupation_Housewife</th>            <td>   23.9667</td> <td> 2.43e+04</td> <td>    0.001</td> <td> 0.999</td> <td>-4.76e+04</td> <td> 4.76e+04</td>\n",
       "</tr>\n",
       "<tr>\n",
       "  <th>What is your current occupation_Unknown</th>              <td>   -1.2346</td> <td>    0.090</td> <td>  -13.681</td> <td> 0.000</td> <td>   -1.411</td> <td>   -1.058</td>\n",
       "</tr>\n",
       "<tr>\n",
       "  <th>What is your current occupation_Working Professional</th> <td>    2.6225</td> <td>    0.203</td> <td>   12.889</td> <td> 0.000</td> <td>    2.224</td> <td>    3.021</td>\n",
       "</tr>\n",
       "<tr>\n",
       "  <th>Last Notable Activity_Had a Phone Conversation</th>       <td>    2.3799</td> <td>    1.501</td> <td>    1.585</td> <td> 0.113</td> <td>   -0.562</td> <td>    5.322</td>\n",
       "</tr>\n",
       "<tr>\n",
       "  <th>Last Notable Activity_Modified</th>                       <td>   -0.5521</td> <td>    0.090</td> <td>   -6.131</td> <td> 0.000</td> <td>   -0.729</td> <td>   -0.376</td>\n",
       "</tr>\n",
       "<tr>\n",
       "  <th>Last Notable Activity_Unreachable</th>                    <td>    2.0387</td> <td>    0.556</td> <td>    3.665</td> <td> 0.000</td> <td>    0.948</td> <td>    3.129</td>\n",
       "</tr>\n",
       "</table>"
      ],
      "text/plain": [
       "<class 'statsmodels.iolib.summary.Summary'>\n",
       "\"\"\"\n",
       "                 Generalized Linear Model Regression Results                  \n",
       "==============================================================================\n",
       "Dep. Variable:              Converted   No. Observations:                 6320\n",
       "Model:                            GLM   Df Residuals:                     6299\n",
       "Model Family:                Binomial   Df Model:                           20\n",
       "Link Function:                  logit   Scale:                          1.0000\n",
       "Method:                          IRLS   Log-Likelihood:                -2501.1\n",
       "Date:                Tue, 18 Oct 2022   Deviance:                       5002.3\n",
       "Time:                        10:23:27   Pearson chi2:                 6.53e+03\n",
       "No. Iterations:                    22                                         \n",
       "Covariance Type:            nonrobust                                         \n",
       "========================================================================================================================\n",
       "                                                           coef    std err          z      P>|z|      [0.025      0.975]\n",
       "------------------------------------------------------------------------------------------------------------------------\n",
       "const                                                   -2.5570      0.153    -16.659      0.000      -2.858      -2.256\n",
       "Do Not Email                                            -1.1023      0.176     -6.276      0.000      -1.447      -0.758\n",
       "TotalVisits                                              1.7989      0.290      6.206      0.000       1.231       2.367\n",
       "Total Time Spent on Website                              4.5119      0.169     26.717      0.000       4.181       4.843\n",
       "Page Views Per Visit                                    -0.8642      0.250     -3.453      0.001      -1.355      -0.374\n",
       "Search                                                  -1.6356      1.011     -1.618      0.106      -3.617       0.346\n",
       "Lead Origin_Lead Add Form                                3.0358      0.512      5.932      0.000       2.033       4.039\n",
       "Lead Source_Olark Chat                                   1.4699      0.134     10.947      0.000       1.207       1.733\n",
       "Lead Source_Reference                                    0.6403      0.540      1.185      0.236      -0.418       1.699\n",
       "Lead Source_Welingak Website                             2.6586      0.876      3.036      0.002       0.942       4.375\n",
       "Last Activity_Approached upfront                        23.9469   2.63e+04      0.001      0.999   -5.16e+04    5.17e+04\n",
       "Last Activity_Email Opened                               0.5394      0.117      4.599      0.000       0.310       0.769\n",
       "Last Activity_Had a Phone Conversation                   1.1718      0.939      1.248      0.212      -0.668       3.011\n",
       "Last Activity_Olark Chat Conversation                   -0.5893      0.190     -3.101      0.002      -0.962      -0.217\n",
       "Last Activity_SMS Sent                                   1.7403      0.118     14.697      0.000       1.508       1.972\n",
       "What is your current occupation_Housewife               23.9667   2.43e+04      0.001      0.999   -4.76e+04    4.76e+04\n",
       "What is your current occupation_Unknown                 -1.2346      0.090    -13.681      0.000      -1.411      -1.058\n",
       "What is your current occupation_Working Professional     2.6225      0.203     12.889      0.000       2.224       3.021\n",
       "Last Notable Activity_Had a Phone Conversation           2.3799      1.501      1.585      0.113      -0.562       5.322\n",
       "Last Notable Activity_Modified                          -0.5521      0.090     -6.131      0.000      -0.729      -0.376\n",
       "Last Notable Activity_Unreachable                        2.0387      0.556      3.665      0.000       0.948       3.129\n",
       "========================================================================================================================\n",
       "\"\"\""
      ]
     },
     "execution_count": 199,
     "metadata": {},
     "output_type": "execute_result"
    }
   ],
   "source": [
    "X_train_sm = sm.add_constant(X_train[rfe_col])\n",
    "logm2 = sm.GLM(y_train,X_train_sm, family = sm.families.Binomial())\n",
    "res = logm2.fit()\n",
    "res.summary()"
   ]
  },
  {
   "cell_type": "code",
   "execution_count": 202,
   "id": "7562a180",
   "metadata": {},
   "outputs": [],
   "source": [
    "rfe_col = rfe_col.drop('Last Activity_Approached upfront',0)"
   ]
  },
  {
   "cell_type": "markdown",
   "id": "ee245275",
   "metadata": {},
   "source": [
    "## RFE MODEL -2 "
   ]
  },
  {
   "cell_type": "code",
   "execution_count": 203,
   "id": "c407ed69",
   "metadata": {},
   "outputs": [
    {
     "data": {
      "text/html": [
       "<table class=\"simpletable\">\n",
       "<caption>Generalized Linear Model Regression Results</caption>\n",
       "<tr>\n",
       "  <th>Dep. Variable:</th>       <td>Converted</td>    <th>  No. Observations:  </th>  <td>  6320</td> \n",
       "</tr>\n",
       "<tr>\n",
       "  <th>Model:</th>                  <td>GLM</td>       <th>  Df Residuals:      </th>  <td>  6300</td> \n",
       "</tr>\n",
       "<tr>\n",
       "  <th>Model Family:</th>        <td>Binomial</td>     <th>  Df Model:          </th>  <td>    19</td> \n",
       "</tr>\n",
       "<tr>\n",
       "  <th>Link Function:</th>         <td>logit</td>      <th>  Scale:             </th> <td>  1.0000</td>\n",
       "</tr>\n",
       "<tr>\n",
       "  <th>Method:</th>                <td>IRLS</td>       <th>  Log-Likelihood:    </th> <td> -2506.6</td>\n",
       "</tr>\n",
       "<tr>\n",
       "  <th>Date:</th>            <td>Tue, 18 Oct 2022</td> <th>  Deviance:          </th> <td>  5013.2</td>\n",
       "</tr>\n",
       "<tr>\n",
       "  <th>Time:</th>                <td>10:31:23</td>     <th>  Pearson chi2:      </th> <td>6.53e+03</td>\n",
       "</tr>\n",
       "<tr>\n",
       "  <th>No. Iterations:</th>         <td>21</td>        <th>                     </th>     <td> </td>   \n",
       "</tr>\n",
       "<tr>\n",
       "  <th>Covariance Type:</th>     <td>nonrobust</td>    <th>                     </th>     <td> </td>   \n",
       "</tr>\n",
       "</table>\n",
       "<table class=\"simpletable\">\n",
       "<tr>\n",
       "                            <td></td>                              <th>coef</th>     <th>std err</th>      <th>z</th>      <th>P>|z|</th>  <th>[0.025</th>    <th>0.975]</th>  \n",
       "</tr>\n",
       "<tr>\n",
       "  <th>const</th>                                                <td>   -2.5414</td> <td>    0.153</td> <td>  -16.608</td> <td> 0.000</td> <td>   -2.841</td> <td>   -2.241</td>\n",
       "</tr>\n",
       "<tr>\n",
       "  <th>Do Not Email</th>                                         <td>   -1.1140</td> <td>    0.175</td> <td>   -6.350</td> <td> 0.000</td> <td>   -1.458</td> <td>   -0.770</td>\n",
       "</tr>\n",
       "<tr>\n",
       "  <th>TotalVisits</th>                                          <td>    1.7878</td> <td>    0.290</td> <td>    6.171</td> <td> 0.000</td> <td>    1.220</td> <td>    2.356</td>\n",
       "</tr>\n",
       "<tr>\n",
       "  <th>Total Time Spent on Website</th>                          <td>    4.5173</td> <td>    0.169</td> <td>   26.768</td> <td> 0.000</td> <td>    4.187</td> <td>    4.848</td>\n",
       "</tr>\n",
       "<tr>\n",
       "  <th>Page Views Per Visit</th>                                 <td>   -0.8483</td> <td>    0.250</td> <td>   -3.393</td> <td> 0.001</td> <td>   -1.338</td> <td>   -0.358</td>\n",
       "</tr>\n",
       "<tr>\n",
       "  <th>Search</th>                                               <td>   -1.6363</td> <td>    1.012</td> <td>   -1.617</td> <td> 0.106</td> <td>   -3.620</td> <td>    0.347</td>\n",
       "</tr>\n",
       "<tr>\n",
       "  <th>Lead Origin_Lead Add Form</th>                            <td>    3.0402</td> <td>    0.511</td> <td>    5.946</td> <td> 0.000</td> <td>    2.038</td> <td>    4.042</td>\n",
       "</tr>\n",
       "<tr>\n",
       "  <th>Lead Source_Olark Chat</th>                               <td>    1.4873</td> <td>    0.134</td> <td>   11.087</td> <td> 0.000</td> <td>    1.224</td> <td>    1.750</td>\n",
       "</tr>\n",
       "<tr>\n",
       "  <th>Lead Source_Reference</th>                                <td>    0.6399</td> <td>    0.540</td> <td>    1.186</td> <td> 0.236</td> <td>   -0.418</td> <td>    1.698</td>\n",
       "</tr>\n",
       "<tr>\n",
       "  <th>Lead Source_Welingak Website</th>                         <td>    2.6555</td> <td>    0.875</td> <td>    3.034</td> <td> 0.002</td> <td>    0.940</td> <td>    4.371</td>\n",
       "</tr>\n",
       "<tr>\n",
       "  <th>Last Activity_Email Opened</th>                           <td>    0.5164</td> <td>    0.117</td> <td>    4.424</td> <td> 0.000</td> <td>    0.288</td> <td>    0.745</td>\n",
       "</tr>\n",
       "<tr>\n",
       "  <th>Last Activity_Had a Phone Conversation</th>               <td>    1.1429</td> <td>    0.939</td> <td>    1.218</td> <td> 0.223</td> <td>   -0.697</td> <td>    2.982</td>\n",
       "</tr>\n",
       "<tr>\n",
       "  <th>Last Activity_Olark Chat Conversation</th>                <td>   -0.6220</td> <td>    0.190</td> <td>   -3.282</td> <td> 0.001</td> <td>   -0.994</td> <td>   -0.250</td>\n",
       "</tr>\n",
       "<tr>\n",
       "  <th>Last Activity_SMS Sent</th>                               <td>    1.7182</td> <td>    0.118</td> <td>   14.579</td> <td> 0.000</td> <td>    1.487</td> <td>    1.949</td>\n",
       "</tr>\n",
       "<tr>\n",
       "  <th>What is your current occupation_Housewife</th>            <td>   22.9568</td> <td> 1.47e+04</td> <td>    0.002</td> <td> 0.999</td> <td>-2.88e+04</td> <td> 2.89e+04</td>\n",
       "</tr>\n",
       "<tr>\n",
       "  <th>What is your current occupation_Unknown</th>              <td>   -1.2409</td> <td>    0.090</td> <td>  -13.758</td> <td> 0.000</td> <td>   -1.418</td> <td>   -1.064</td>\n",
       "</tr>\n",
       "<tr>\n",
       "  <th>What is your current occupation_Working Professional</th> <td>    2.6161</td> <td>    0.203</td> <td>   12.868</td> <td> 0.000</td> <td>    2.218</td> <td>    3.015</td>\n",
       "</tr>\n",
       "<tr>\n",
       "  <th>Last Notable Activity_Had a Phone Conversation</th>       <td>    2.3908</td> <td>    1.501</td> <td>    1.592</td> <td> 0.111</td> <td>   -0.552</td> <td>    5.333</td>\n",
       "</tr>\n",
       "<tr>\n",
       "  <th>Last Notable Activity_Modified</th>                       <td>   -0.5431</td> <td>    0.090</td> <td>   -6.041</td> <td> 0.000</td> <td>   -0.719</td> <td>   -0.367</td>\n",
       "</tr>\n",
       "<tr>\n",
       "  <th>Last Notable Activity_Unreachable</th>                    <td>    2.0197</td> <td>    0.556</td> <td>    3.630</td> <td> 0.000</td> <td>    0.929</td> <td>    3.110</td>\n",
       "</tr>\n",
       "</table>"
      ],
      "text/plain": [
       "<class 'statsmodels.iolib.summary.Summary'>\n",
       "\"\"\"\n",
       "                 Generalized Linear Model Regression Results                  \n",
       "==============================================================================\n",
       "Dep. Variable:              Converted   No. Observations:                 6320\n",
       "Model:                            GLM   Df Residuals:                     6300\n",
       "Model Family:                Binomial   Df Model:                           19\n",
       "Link Function:                  logit   Scale:                          1.0000\n",
       "Method:                          IRLS   Log-Likelihood:                -2506.6\n",
       "Date:                Tue, 18 Oct 2022   Deviance:                       5013.2\n",
       "Time:                        10:31:23   Pearson chi2:                 6.53e+03\n",
       "No. Iterations:                    21                                         \n",
       "Covariance Type:            nonrobust                                         \n",
       "========================================================================================================================\n",
       "                                                           coef    std err          z      P>|z|      [0.025      0.975]\n",
       "------------------------------------------------------------------------------------------------------------------------\n",
       "const                                                   -2.5414      0.153    -16.608      0.000      -2.841      -2.241\n",
       "Do Not Email                                            -1.1140      0.175     -6.350      0.000      -1.458      -0.770\n",
       "TotalVisits                                              1.7878      0.290      6.171      0.000       1.220       2.356\n",
       "Total Time Spent on Website                              4.5173      0.169     26.768      0.000       4.187       4.848\n",
       "Page Views Per Visit                                    -0.8483      0.250     -3.393      0.001      -1.338      -0.358\n",
       "Search                                                  -1.6363      1.012     -1.617      0.106      -3.620       0.347\n",
       "Lead Origin_Lead Add Form                                3.0402      0.511      5.946      0.000       2.038       4.042\n",
       "Lead Source_Olark Chat                                   1.4873      0.134     11.087      0.000       1.224       1.750\n",
       "Lead Source_Reference                                    0.6399      0.540      1.186      0.236      -0.418       1.698\n",
       "Lead Source_Welingak Website                             2.6555      0.875      3.034      0.002       0.940       4.371\n",
       "Last Activity_Email Opened                               0.5164      0.117      4.424      0.000       0.288       0.745\n",
       "Last Activity_Had a Phone Conversation                   1.1429      0.939      1.218      0.223      -0.697       2.982\n",
       "Last Activity_Olark Chat Conversation                   -0.6220      0.190     -3.282      0.001      -0.994      -0.250\n",
       "Last Activity_SMS Sent                                   1.7182      0.118     14.579      0.000       1.487       1.949\n",
       "What is your current occupation_Housewife               22.9568   1.47e+04      0.002      0.999   -2.88e+04    2.89e+04\n",
       "What is your current occupation_Unknown                 -1.2409      0.090    -13.758      0.000      -1.418      -1.064\n",
       "What is your current occupation_Working Professional     2.6161      0.203     12.868      0.000       2.218       3.015\n",
       "Last Notable Activity_Had a Phone Conversation           2.3908      1.501      1.592      0.111      -0.552       5.333\n",
       "Last Notable Activity_Modified                          -0.5431      0.090     -6.041      0.000      -0.719      -0.367\n",
       "Last Notable Activity_Unreachable                        2.0197      0.556      3.630      0.000       0.929       3.110\n",
       "========================================================================================================================\n",
       "\"\"\""
      ]
     },
     "execution_count": 203,
     "metadata": {},
     "output_type": "execute_result"
    }
   ],
   "source": [
    "X_train_sm = sm.add_constant(X_train[rfe_col])\n",
    "logm3 = sm.GLM(y_train,X_train_sm, family = sm.families.Binomial())\n",
    "res = logm3.fit()\n",
    "res.summary()"
   ]
  },
  {
   "cell_type": "code",
   "execution_count": 206,
   "id": "ccd4210e",
   "metadata": {},
   "outputs": [],
   "source": [
    "rfe_col = rfe_col.drop('What is your current occupation_Housewife',1)"
   ]
  },
  {
   "cell_type": "markdown",
   "id": "c6b4c7c7",
   "metadata": {},
   "source": [
    "### Model - 4"
   ]
  },
  {
   "cell_type": "code",
   "execution_count": 207,
   "id": "4b0eca5a",
   "metadata": {},
   "outputs": [
    {
     "data": {
      "text/html": [
       "<table class=\"simpletable\">\n",
       "<caption>Generalized Linear Model Regression Results</caption>\n",
       "<tr>\n",
       "  <th>Dep. Variable:</th>       <td>Converted</td>    <th>  No. Observations:  </th>  <td>  6320</td> \n",
       "</tr>\n",
       "<tr>\n",
       "  <th>Model:</th>                  <td>GLM</td>       <th>  Df Residuals:      </th>  <td>  6301</td> \n",
       "</tr>\n",
       "<tr>\n",
       "  <th>Model Family:</th>        <td>Binomial</td>     <th>  Df Model:          </th>  <td>    18</td> \n",
       "</tr>\n",
       "<tr>\n",
       "  <th>Link Function:</th>         <td>logit</td>      <th>  Scale:             </th> <td>  1.0000</td>\n",
       "</tr>\n",
       "<tr>\n",
       "  <th>Method:</th>                <td>IRLS</td>       <th>  Log-Likelihood:    </th> <td> -2513.3</td>\n",
       "</tr>\n",
       "<tr>\n",
       "  <th>Date:</th>            <td>Tue, 18 Oct 2022</td> <th>  Deviance:          </th> <td>  5026.7</td>\n",
       "</tr>\n",
       "<tr>\n",
       "  <th>Time:</th>                <td>11:41:37</td>     <th>  Pearson chi2:      </th> <td>6.54e+03</td>\n",
       "</tr>\n",
       "<tr>\n",
       "  <th>No. Iterations:</th>          <td>7</td>        <th>                     </th>     <td> </td>   \n",
       "</tr>\n",
       "<tr>\n",
       "  <th>Covariance Type:</th>     <td>nonrobust</td>    <th>                     </th>     <td> </td>   \n",
       "</tr>\n",
       "</table>\n",
       "<table class=\"simpletable\">\n",
       "<tr>\n",
       "                            <td></td>                              <th>coef</th>     <th>std err</th>      <th>z</th>      <th>P>|z|</th>  <th>[0.025</th>    <th>0.975]</th>  \n",
       "</tr>\n",
       "<tr>\n",
       "  <th>const</th>                                                <td>   -2.5270</td> <td>    0.153</td> <td>  -16.565</td> <td> 0.000</td> <td>   -2.826</td> <td>   -2.228</td>\n",
       "</tr>\n",
       "<tr>\n",
       "  <th>Do Not Email</th>                                         <td>   -1.1188</td> <td>    0.175</td> <td>   -6.380</td> <td> 0.000</td> <td>   -1.463</td> <td>   -0.775</td>\n",
       "</tr>\n",
       "<tr>\n",
       "  <th>TotalVisits</th>                                          <td>    1.7768</td> <td>    0.289</td> <td>    6.139</td> <td> 0.000</td> <td>    1.210</td> <td>    2.344</td>\n",
       "</tr>\n",
       "<tr>\n",
       "  <th>Total Time Spent on Website</th>                          <td>    4.5123</td> <td>    0.169</td> <td>   26.772</td> <td> 0.000</td> <td>    4.182</td> <td>    4.843</td>\n",
       "</tr>\n",
       "<tr>\n",
       "  <th>Page Views Per Visit</th>                                 <td>   -0.8528</td> <td>    0.250</td> <td>   -3.414</td> <td> 0.001</td> <td>   -1.342</td> <td>   -0.363</td>\n",
       "</tr>\n",
       "<tr>\n",
       "  <th>Search</th>                                               <td>   -1.6358</td> <td>    1.011</td> <td>   -1.619</td> <td> 0.106</td> <td>   -3.617</td> <td>    0.345</td>\n",
       "</tr>\n",
       "<tr>\n",
       "  <th>Lead Origin_Lead Add Form</th>                            <td>    3.0313</td> <td>    0.511</td> <td>    5.930</td> <td> 0.000</td> <td>    2.029</td> <td>    4.033</td>\n",
       "</tr>\n",
       "<tr>\n",
       "  <th>Lead Source_Olark Chat</th>                               <td>    1.4768</td> <td>    0.134</td> <td>   11.028</td> <td> 0.000</td> <td>    1.214</td> <td>    1.739</td>\n",
       "</tr>\n",
       "<tr>\n",
       "  <th>Lead Source_Reference</th>                                <td>    0.6579</td> <td>    0.539</td> <td>    1.220</td> <td> 0.223</td> <td>   -0.399</td> <td>    1.715</td>\n",
       "</tr>\n",
       "<tr>\n",
       "  <th>Lead Source_Welingak Website</th>                         <td>    2.6524</td> <td>    0.875</td> <td>    3.030</td> <td> 0.002</td> <td>    0.937</td> <td>    4.368</td>\n",
       "</tr>\n",
       "<tr>\n",
       "  <th>Last Activity_Email Opened</th>                           <td>    0.5166</td> <td>    0.116</td> <td>    4.440</td> <td> 0.000</td> <td>    0.289</td> <td>    0.745</td>\n",
       "</tr>\n",
       "<tr>\n",
       "  <th>Last Activity_Had a Phone Conversation</th>               <td>    1.1276</td> <td>    0.939</td> <td>    1.201</td> <td> 0.230</td> <td>   -0.712</td> <td>    2.967</td>\n",
       "</tr>\n",
       "<tr>\n",
       "  <th>Last Activity_Olark Chat Conversation</th>                <td>   -0.6290</td> <td>    0.189</td> <td>   -3.322</td> <td> 0.001</td> <td>   -1.000</td> <td>   -0.258</td>\n",
       "</tr>\n",
       "<tr>\n",
       "  <th>Last Activity_SMS Sent</th>                               <td>    1.7107</td> <td>    0.118</td> <td>   14.551</td> <td> 0.000</td> <td>    1.480</td> <td>    1.941</td>\n",
       "</tr>\n",
       "<tr>\n",
       "  <th>What is your current occupation_Unknown</th>              <td>   -1.2457</td> <td>    0.090</td> <td>  -13.822</td> <td> 0.000</td> <td>   -1.422</td> <td>   -1.069</td>\n",
       "</tr>\n",
       "<tr>\n",
       "  <th>What is your current occupation_Working Professional</th> <td>    2.6078</td> <td>    0.203</td> <td>   12.834</td> <td> 0.000</td> <td>    2.210</td> <td>    3.006</td>\n",
       "</tr>\n",
       "<tr>\n",
       "  <th>Last Notable Activity_Had a Phone Conversation</th>       <td>    2.3999</td> <td>    1.501</td> <td>    1.598</td> <td> 0.110</td> <td>   -0.543</td> <td>    5.343</td>\n",
       "</tr>\n",
       "<tr>\n",
       "  <th>Last Notable Activity_Modified</th>                       <td>   -0.5378</td> <td>    0.090</td> <td>   -5.995</td> <td> 0.000</td> <td>   -0.714</td> <td>   -0.362</td>\n",
       "</tr>\n",
       "<tr>\n",
       "  <th>Last Notable Activity_Unreachable</th>                    <td>    2.0149</td> <td>    0.556</td> <td>    3.621</td> <td> 0.000</td> <td>    0.924</td> <td>    3.105</td>\n",
       "</tr>\n",
       "</table>"
      ],
      "text/plain": [
       "<class 'statsmodels.iolib.summary.Summary'>\n",
       "\"\"\"\n",
       "                 Generalized Linear Model Regression Results                  \n",
       "==============================================================================\n",
       "Dep. Variable:              Converted   No. Observations:                 6320\n",
       "Model:                            GLM   Df Residuals:                     6301\n",
       "Model Family:                Binomial   Df Model:                           18\n",
       "Link Function:                  logit   Scale:                          1.0000\n",
       "Method:                          IRLS   Log-Likelihood:                -2513.3\n",
       "Date:                Tue, 18 Oct 2022   Deviance:                       5026.7\n",
       "Time:                        11:41:37   Pearson chi2:                 6.54e+03\n",
       "No. Iterations:                     7                                         \n",
       "Covariance Type:            nonrobust                                         \n",
       "========================================================================================================================\n",
       "                                                           coef    std err          z      P>|z|      [0.025      0.975]\n",
       "------------------------------------------------------------------------------------------------------------------------\n",
       "const                                                   -2.5270      0.153    -16.565      0.000      -2.826      -2.228\n",
       "Do Not Email                                            -1.1188      0.175     -6.380      0.000      -1.463      -0.775\n",
       "TotalVisits                                              1.7768      0.289      6.139      0.000       1.210       2.344\n",
       "Total Time Spent on Website                              4.5123      0.169     26.772      0.000       4.182       4.843\n",
       "Page Views Per Visit                                    -0.8528      0.250     -3.414      0.001      -1.342      -0.363\n",
       "Search                                                  -1.6358      1.011     -1.619      0.106      -3.617       0.345\n",
       "Lead Origin_Lead Add Form                                3.0313      0.511      5.930      0.000       2.029       4.033\n",
       "Lead Source_Olark Chat                                   1.4768      0.134     11.028      0.000       1.214       1.739\n",
       "Lead Source_Reference                                    0.6579      0.539      1.220      0.223      -0.399       1.715\n",
       "Lead Source_Welingak Website                             2.6524      0.875      3.030      0.002       0.937       4.368\n",
       "Last Activity_Email Opened                               0.5166      0.116      4.440      0.000       0.289       0.745\n",
       "Last Activity_Had a Phone Conversation                   1.1276      0.939      1.201      0.230      -0.712       2.967\n",
       "Last Activity_Olark Chat Conversation                   -0.6290      0.189     -3.322      0.001      -1.000      -0.258\n",
       "Last Activity_SMS Sent                                   1.7107      0.118     14.551      0.000       1.480       1.941\n",
       "What is your current occupation_Unknown                 -1.2457      0.090    -13.822      0.000      -1.422      -1.069\n",
       "What is your current occupation_Working Professional     2.6078      0.203     12.834      0.000       2.210       3.006\n",
       "Last Notable Activity_Had a Phone Conversation           2.3999      1.501      1.598      0.110      -0.543       5.343\n",
       "Last Notable Activity_Modified                          -0.5378      0.090     -5.995      0.000      -0.714      -0.362\n",
       "Last Notable Activity_Unreachable                        2.0149      0.556      3.621      0.000       0.924       3.105\n",
       "========================================================================================================================\n",
       "\"\"\""
      ]
     },
     "execution_count": 207,
     "metadata": {},
     "output_type": "execute_result"
    }
   ],
   "source": [
    "X_train_sm = sm.add_constant(X_train[rfe_col])\n",
    "logm4 = sm.GLM(y_train,X_train_sm, family = sm.families.Binomial())\n",
    "res = logm4.fit()\n",
    "res.summary()"
   ]
  },
  {
   "cell_type": "code",
   "execution_count": 209,
   "id": "5c395e6e",
   "metadata": {},
   "outputs": [],
   "source": [
    "rfe_col = rfe_col.drop('Last Activity_Had a Phone Conversation',1)"
   ]
  },
  {
   "cell_type": "markdown",
   "id": "bfa4f4af",
   "metadata": {},
   "source": [
    "## Model -5 "
   ]
  },
  {
   "cell_type": "code",
   "execution_count": 210,
   "id": "844e33bc",
   "metadata": {},
   "outputs": [
    {
     "data": {
      "text/html": [
       "<table class=\"simpletable\">\n",
       "<caption>Generalized Linear Model Regression Results</caption>\n",
       "<tr>\n",
       "  <th>Dep. Variable:</th>       <td>Converted</td>    <th>  No. Observations:  </th>  <td>  6320</td> \n",
       "</tr>\n",
       "<tr>\n",
       "  <th>Model:</th>                  <td>GLM</td>       <th>  Df Residuals:      </th>  <td>  6302</td> \n",
       "</tr>\n",
       "<tr>\n",
       "  <th>Model Family:</th>        <td>Binomial</td>     <th>  Df Model:          </th>  <td>    17</td> \n",
       "</tr>\n",
       "<tr>\n",
       "  <th>Link Function:</th>         <td>logit</td>      <th>  Scale:             </th> <td>  1.0000</td>\n",
       "</tr>\n",
       "<tr>\n",
       "  <th>Method:</th>                <td>IRLS</td>       <th>  Log-Likelihood:    </th> <td> -2514.1</td>\n",
       "</tr>\n",
       "<tr>\n",
       "  <th>Date:</th>            <td>Tue, 18 Oct 2022</td> <th>  Deviance:          </th> <td>  5028.2</td>\n",
       "</tr>\n",
       "<tr>\n",
       "  <th>Time:</th>                <td>11:52:16</td>     <th>  Pearson chi2:      </th> <td>6.30e+03</td>\n",
       "</tr>\n",
       "<tr>\n",
       "  <th>No. Iterations:</th>          <td>7</td>        <th>                     </th>     <td> </td>   \n",
       "</tr>\n",
       "<tr>\n",
       "  <th>Covariance Type:</th>     <td>nonrobust</td>    <th>                     </th>     <td> </td>   \n",
       "</tr>\n",
       "</table>\n",
       "<table class=\"simpletable\">\n",
       "<tr>\n",
       "                            <td></td>                              <th>coef</th>     <th>std err</th>      <th>z</th>      <th>P>|z|</th>  <th>[0.025</th>    <th>0.975]</th>  \n",
       "</tr>\n",
       "<tr>\n",
       "  <th>const</th>                                                <td>   -2.5174</td> <td>    0.152</td> <td>  -16.541</td> <td> 0.000</td> <td>   -2.816</td> <td>   -2.219</td>\n",
       "</tr>\n",
       "<tr>\n",
       "  <th>Do Not Email</th>                                         <td>   -1.1242</td> <td>    0.175</td> <td>   -6.414</td> <td> 0.000</td> <td>   -1.468</td> <td>   -0.781</td>\n",
       "</tr>\n",
       "<tr>\n",
       "  <th>TotalVisits</th>                                          <td>    1.7711</td> <td>    0.289</td> <td>    6.122</td> <td> 0.000</td> <td>    1.204</td> <td>    2.338</td>\n",
       "</tr>\n",
       "<tr>\n",
       "  <th>Total Time Spent on Website</th>                          <td>    4.5135</td> <td>    0.169</td> <td>   26.784</td> <td> 0.000</td> <td>    4.183</td> <td>    4.844</td>\n",
       "</tr>\n",
       "<tr>\n",
       "  <th>Page Views Per Visit</th>                                 <td>   -0.8513</td> <td>    0.250</td> <td>   -3.409</td> <td> 0.001</td> <td>   -1.341</td> <td>   -0.362</td>\n",
       "</tr>\n",
       "<tr>\n",
       "  <th>Search</th>                                               <td>   -1.6344</td> <td>    1.011</td> <td>   -1.617</td> <td> 0.106</td> <td>   -3.615</td> <td>    0.346</td>\n",
       "</tr>\n",
       "<tr>\n",
       "  <th>Lead Origin_Lead Add Form</th>                            <td>    3.0307</td> <td>    0.511</td> <td>    5.931</td> <td> 0.000</td> <td>    2.029</td> <td>    4.032</td>\n",
       "</tr>\n",
       "<tr>\n",
       "  <th>Lead Source_Olark Chat</th>                               <td>    1.4756</td> <td>    0.134</td> <td>   11.022</td> <td> 0.000</td> <td>    1.213</td> <td>    1.738</td>\n",
       "</tr>\n",
       "<tr>\n",
       "  <th>Lead Source_Reference</th>                                <td>    0.6636</td> <td>    0.539</td> <td>    1.231</td> <td> 0.219</td> <td>   -0.393</td> <td>    1.721</td>\n",
       "</tr>\n",
       "<tr>\n",
       "  <th>Lead Source_Welingak Website</th>                         <td>    2.6507</td> <td>    0.875</td> <td>    3.029</td> <td> 0.002</td> <td>    0.935</td> <td>    4.366</td>\n",
       "</tr>\n",
       "<tr>\n",
       "  <th>Last Activity_Email Opened</th>                           <td>    0.5072</td> <td>    0.116</td> <td>    4.373</td> <td> 0.000</td> <td>    0.280</td> <td>    0.735</td>\n",
       "</tr>\n",
       "<tr>\n",
       "  <th>Last Activity_Olark Chat Conversation</th>                <td>   -0.6397</td> <td>    0.189</td> <td>   -3.383</td> <td> 0.001</td> <td>   -1.010</td> <td>   -0.269</td>\n",
       "</tr>\n",
       "<tr>\n",
       "  <th>Last Activity_SMS Sent</th>                               <td>    1.7015</td> <td>    0.117</td> <td>   14.517</td> <td> 0.000</td> <td>    1.472</td> <td>    1.931</td>\n",
       "</tr>\n",
       "<tr>\n",
       "  <th>What is your current occupation_Unknown</th>              <td>   -1.2474</td> <td>    0.090</td> <td>  -13.845</td> <td> 0.000</td> <td>   -1.424</td> <td>   -1.071</td>\n",
       "</tr>\n",
       "<tr>\n",
       "  <th>What is your current occupation_Working Professional</th> <td>    2.6117</td> <td>    0.203</td> <td>   12.860</td> <td> 0.000</td> <td>    2.214</td> <td>    3.010</td>\n",
       "</tr>\n",
       "<tr>\n",
       "  <th>Last Notable Activity_Had a Phone Conversation</th>       <td>    3.5194</td> <td>    1.177</td> <td>    2.989</td> <td> 0.003</td> <td>    1.212</td> <td>    5.827</td>\n",
       "</tr>\n",
       "<tr>\n",
       "  <th>Last Notable Activity_Modified</th>                       <td>   -0.5343</td> <td>    0.090</td> <td>   -5.961</td> <td> 0.000</td> <td>   -0.710</td> <td>   -0.359</td>\n",
       "</tr>\n",
       "<tr>\n",
       "  <th>Last Notable Activity_Unreachable</th>                    <td>    2.0066</td> <td>    0.556</td> <td>    3.606</td> <td> 0.000</td> <td>    0.916</td> <td>    3.097</td>\n",
       "</tr>\n",
       "</table>"
      ],
      "text/plain": [
       "<class 'statsmodels.iolib.summary.Summary'>\n",
       "\"\"\"\n",
       "                 Generalized Linear Model Regression Results                  \n",
       "==============================================================================\n",
       "Dep. Variable:              Converted   No. Observations:                 6320\n",
       "Model:                            GLM   Df Residuals:                     6302\n",
       "Model Family:                Binomial   Df Model:                           17\n",
       "Link Function:                  logit   Scale:                          1.0000\n",
       "Method:                          IRLS   Log-Likelihood:                -2514.1\n",
       "Date:                Tue, 18 Oct 2022   Deviance:                       5028.2\n",
       "Time:                        11:52:16   Pearson chi2:                 6.30e+03\n",
       "No. Iterations:                     7                                         \n",
       "Covariance Type:            nonrobust                                         \n",
       "========================================================================================================================\n",
       "                                                           coef    std err          z      P>|z|      [0.025      0.975]\n",
       "------------------------------------------------------------------------------------------------------------------------\n",
       "const                                                   -2.5174      0.152    -16.541      0.000      -2.816      -2.219\n",
       "Do Not Email                                            -1.1242      0.175     -6.414      0.000      -1.468      -0.781\n",
       "TotalVisits                                              1.7711      0.289      6.122      0.000       1.204       2.338\n",
       "Total Time Spent on Website                              4.5135      0.169     26.784      0.000       4.183       4.844\n",
       "Page Views Per Visit                                    -0.8513      0.250     -3.409      0.001      -1.341      -0.362\n",
       "Search                                                  -1.6344      1.011     -1.617      0.106      -3.615       0.346\n",
       "Lead Origin_Lead Add Form                                3.0307      0.511      5.931      0.000       2.029       4.032\n",
       "Lead Source_Olark Chat                                   1.4756      0.134     11.022      0.000       1.213       1.738\n",
       "Lead Source_Reference                                    0.6636      0.539      1.231      0.219      -0.393       1.721\n",
       "Lead Source_Welingak Website                             2.6507      0.875      3.029      0.002       0.935       4.366\n",
       "Last Activity_Email Opened                               0.5072      0.116      4.373      0.000       0.280       0.735\n",
       "Last Activity_Olark Chat Conversation                   -0.6397      0.189     -3.383      0.001      -1.010      -0.269\n",
       "Last Activity_SMS Sent                                   1.7015      0.117     14.517      0.000       1.472       1.931\n",
       "What is your current occupation_Unknown                 -1.2474      0.090    -13.845      0.000      -1.424      -1.071\n",
       "What is your current occupation_Working Professional     2.6117      0.203     12.860      0.000       2.214       3.010\n",
       "Last Notable Activity_Had a Phone Conversation           3.5194      1.177      2.989      0.003       1.212       5.827\n",
       "Last Notable Activity_Modified                          -0.5343      0.090     -5.961      0.000      -0.710      -0.359\n",
       "Last Notable Activity_Unreachable                        2.0066      0.556      3.606      0.000       0.916       3.097\n",
       "========================================================================================================================\n",
       "\"\"\""
      ]
     },
     "execution_count": 210,
     "metadata": {},
     "output_type": "execute_result"
    }
   ],
   "source": [
    "X_train_sm = sm.add_constant(X_train[rfe_col])\n",
    "logm5 = sm.GLM(y_train,X_train_sm, family = sm.families.Binomial())\n",
    "res = logm5.fit()\n",
    "res.summary()"
   ]
  },
  {
   "cell_type": "code",
   "execution_count": 211,
   "id": "042a4fb2",
   "metadata": {},
   "outputs": [],
   "source": [
    "rfe_col = rfe_col.drop('Lead Source_Reference',1)"
   ]
  },
  {
   "cell_type": "markdown",
   "id": "932376c3",
   "metadata": {},
   "source": [
    "## Model -6 "
   ]
  },
  {
   "cell_type": "code",
   "execution_count": 212,
   "id": "1139ba5c",
   "metadata": {},
   "outputs": [
    {
     "data": {
      "text/html": [
       "<table class=\"simpletable\">\n",
       "<caption>Generalized Linear Model Regression Results</caption>\n",
       "<tr>\n",
       "  <th>Dep. Variable:</th>       <td>Converted</td>    <th>  No. Observations:  </th>  <td>  6320</td> \n",
       "</tr>\n",
       "<tr>\n",
       "  <th>Model:</th>                  <td>GLM</td>       <th>  Df Residuals:      </th>  <td>  6303</td> \n",
       "</tr>\n",
       "<tr>\n",
       "  <th>Model Family:</th>        <td>Binomial</td>     <th>  Df Model:          </th>  <td>    16</td> \n",
       "</tr>\n",
       "<tr>\n",
       "  <th>Link Function:</th>         <td>logit</td>      <th>  Scale:             </th> <td>  1.0000</td>\n",
       "</tr>\n",
       "<tr>\n",
       "  <th>Method:</th>                <td>IRLS</td>       <th>  Log-Likelihood:    </th> <td> -2514.8</td>\n",
       "</tr>\n",
       "<tr>\n",
       "  <th>Date:</th>            <td>Tue, 18 Oct 2022</td> <th>  Deviance:          </th> <td>  5029.6</td>\n",
       "</tr>\n",
       "<tr>\n",
       "  <th>Time:</th>                <td>11:56:06</td>     <th>  Pearson chi2:      </th> <td>6.28e+03</td>\n",
       "</tr>\n",
       "<tr>\n",
       "  <th>No. Iterations:</th>          <td>7</td>        <th>                     </th>     <td> </td>   \n",
       "</tr>\n",
       "<tr>\n",
       "  <th>Covariance Type:</th>     <td>nonrobust</td>    <th>                     </th>     <td> </td>   \n",
       "</tr>\n",
       "</table>\n",
       "<table class=\"simpletable\">\n",
       "<tr>\n",
       "                            <td></td>                              <th>coef</th>     <th>std err</th>      <th>z</th>      <th>P>|z|</th>  <th>[0.025</th>    <th>0.975]</th>  \n",
       "</tr>\n",
       "<tr>\n",
       "  <th>const</th>                                                <td>   -2.5134</td> <td>    0.152</td> <td>  -16.526</td> <td> 0.000</td> <td>   -2.811</td> <td>   -2.215</td>\n",
       "</tr>\n",
       "<tr>\n",
       "  <th>Do Not Email</th>                                         <td>   -1.1458</td> <td>    0.175</td> <td>   -6.537</td> <td> 0.000</td> <td>   -1.489</td> <td>   -0.802</td>\n",
       "</tr>\n",
       "<tr>\n",
       "  <th>TotalVisits</th>                                          <td>    1.7681</td> <td>    0.289</td> <td>    6.111</td> <td> 0.000</td> <td>    1.201</td> <td>    2.335</td>\n",
       "</tr>\n",
       "<tr>\n",
       "  <th>Total Time Spent on Website</th>                          <td>    4.5139</td> <td>    0.168</td> <td>   26.791</td> <td> 0.000</td> <td>    4.184</td> <td>    4.844</td>\n",
       "</tr>\n",
       "<tr>\n",
       "  <th>Page Views Per Visit</th>                                 <td>   -0.8508</td> <td>    0.250</td> <td>   -3.407</td> <td> 0.001</td> <td>   -1.340</td> <td>   -0.361</td>\n",
       "</tr>\n",
       "<tr>\n",
       "  <th>Search</th>                                               <td>   -1.6345</td> <td>    1.011</td> <td>   -1.617</td> <td> 0.106</td> <td>   -3.615</td> <td>    0.346</td>\n",
       "</tr>\n",
       "<tr>\n",
       "  <th>Lead Origin_Lead Add Form</th>                            <td>    3.6170</td> <td>    0.208</td> <td>   17.383</td> <td> 0.000</td> <td>    3.209</td> <td>    4.025</td>\n",
       "</tr>\n",
       "<tr>\n",
       "  <th>Lead Source_Olark Chat</th>                               <td>    1.4744</td> <td>    0.134</td> <td>   11.013</td> <td> 0.000</td> <td>    1.212</td> <td>    1.737</td>\n",
       "</tr>\n",
       "<tr>\n",
       "  <th>Lead Source_Welingak Website</th>                         <td>    2.0666</td> <td>    0.742</td> <td>    2.786</td> <td> 0.005</td> <td>    0.613</td> <td>    3.520</td>\n",
       "</tr>\n",
       "<tr>\n",
       "  <th>Last Activity_Email Opened</th>                           <td>    0.5049</td> <td>    0.116</td> <td>    4.358</td> <td> 0.000</td> <td>    0.278</td> <td>    0.732</td>\n",
       "</tr>\n",
       "<tr>\n",
       "  <th>Last Activity_Olark Chat Conversation</th>                <td>   -0.6424</td> <td>    0.189</td> <td>   -3.399</td> <td> 0.001</td> <td>   -1.013</td> <td>   -0.272</td>\n",
       "</tr>\n",
       "<tr>\n",
       "  <th>Last Activity_SMS Sent</th>                               <td>    1.6972</td> <td>    0.117</td> <td>   14.497</td> <td> 0.000</td> <td>    1.468</td> <td>    1.927</td>\n",
       "</tr>\n",
       "<tr>\n",
       "  <th>What is your current occupation_Unknown</th>              <td>   -1.2473</td> <td>    0.090</td> <td>  -13.844</td> <td> 0.000</td> <td>   -1.424</td> <td>   -1.071</td>\n",
       "</tr>\n",
       "<tr>\n",
       "  <th>What is your current occupation_Working Professional</th> <td>    2.6144</td> <td>    0.203</td> <td>   12.880</td> <td> 0.000</td> <td>    2.217</td> <td>    3.012</td>\n",
       "</tr>\n",
       "<tr>\n",
       "  <th>Last Notable Activity_Had a Phone Conversation</th>       <td>    3.5160</td> <td>    1.177</td> <td>    2.986</td> <td> 0.003</td> <td>    1.208</td> <td>    5.824</td>\n",
       "</tr>\n",
       "<tr>\n",
       "  <th>Last Notable Activity_Modified</th>                       <td>   -0.5339</td> <td>    0.090</td> <td>   -5.958</td> <td> 0.000</td> <td>   -0.710</td> <td>   -0.358</td>\n",
       "</tr>\n",
       "<tr>\n",
       "  <th>Last Notable Activity_Unreachable</th>                    <td>    2.0050</td> <td>    0.556</td> <td>    3.606</td> <td> 0.000</td> <td>    0.915</td> <td>    3.095</td>\n",
       "</tr>\n",
       "</table>"
      ],
      "text/plain": [
       "<class 'statsmodels.iolib.summary.Summary'>\n",
       "\"\"\"\n",
       "                 Generalized Linear Model Regression Results                  \n",
       "==============================================================================\n",
       "Dep. Variable:              Converted   No. Observations:                 6320\n",
       "Model:                            GLM   Df Residuals:                     6303\n",
       "Model Family:                Binomial   Df Model:                           16\n",
       "Link Function:                  logit   Scale:                          1.0000\n",
       "Method:                          IRLS   Log-Likelihood:                -2514.8\n",
       "Date:                Tue, 18 Oct 2022   Deviance:                       5029.6\n",
       "Time:                        11:56:06   Pearson chi2:                 6.28e+03\n",
       "No. Iterations:                     7                                         \n",
       "Covariance Type:            nonrobust                                         \n",
       "========================================================================================================================\n",
       "                                                           coef    std err          z      P>|z|      [0.025      0.975]\n",
       "------------------------------------------------------------------------------------------------------------------------\n",
       "const                                                   -2.5134      0.152    -16.526      0.000      -2.811      -2.215\n",
       "Do Not Email                                            -1.1458      0.175     -6.537      0.000      -1.489      -0.802\n",
       "TotalVisits                                              1.7681      0.289      6.111      0.000       1.201       2.335\n",
       "Total Time Spent on Website                              4.5139      0.168     26.791      0.000       4.184       4.844\n",
       "Page Views Per Visit                                    -0.8508      0.250     -3.407      0.001      -1.340      -0.361\n",
       "Search                                                  -1.6345      1.011     -1.617      0.106      -3.615       0.346\n",
       "Lead Origin_Lead Add Form                                3.6170      0.208     17.383      0.000       3.209       4.025\n",
       "Lead Source_Olark Chat                                   1.4744      0.134     11.013      0.000       1.212       1.737\n",
       "Lead Source_Welingak Website                             2.0666      0.742      2.786      0.005       0.613       3.520\n",
       "Last Activity_Email Opened                               0.5049      0.116      4.358      0.000       0.278       0.732\n",
       "Last Activity_Olark Chat Conversation                   -0.6424      0.189     -3.399      0.001      -1.013      -0.272\n",
       "Last Activity_SMS Sent                                   1.6972      0.117     14.497      0.000       1.468       1.927\n",
       "What is your current occupation_Unknown                 -1.2473      0.090    -13.844      0.000      -1.424      -1.071\n",
       "What is your current occupation_Working Professional     2.6144      0.203     12.880      0.000       2.217       3.012\n",
       "Last Notable Activity_Had a Phone Conversation           3.5160      1.177      2.986      0.003       1.208       5.824\n",
       "Last Notable Activity_Modified                          -0.5339      0.090     -5.958      0.000      -0.710      -0.358\n",
       "Last Notable Activity_Unreachable                        2.0050      0.556      3.606      0.000       0.915       3.095\n",
       "========================================================================================================================\n",
       "\"\"\""
      ]
     },
     "execution_count": 212,
     "metadata": {},
     "output_type": "execute_result"
    }
   ],
   "source": [
    "X_train_sm = sm.add_constant(X_train[rfe_col])\n",
    "logm6 = sm.GLM(y_train,X_train_sm, family = sm.families.Binomial())\n",
    "res = logm6.fit()\n",
    "res.summary()"
   ]
  },
  {
   "cell_type": "code",
   "execution_count": 213,
   "id": "32a74233",
   "metadata": {},
   "outputs": [],
   "source": [
    "rfe_col = rfe_col.drop('Search',1)"
   ]
  },
  {
   "cell_type": "markdown",
   "id": "9584a1b1",
   "metadata": {},
   "source": [
    "## Model - 7"
   ]
  },
  {
   "cell_type": "code",
   "execution_count": 214,
   "id": "ab9eeb95",
   "metadata": {},
   "outputs": [
    {
     "data": {
      "text/html": [
       "<table class=\"simpletable\">\n",
       "<caption>Generalized Linear Model Regression Results</caption>\n",
       "<tr>\n",
       "  <th>Dep. Variable:</th>       <td>Converted</td>    <th>  No. Observations:  </th>  <td>  6320</td> \n",
       "</tr>\n",
       "<tr>\n",
       "  <th>Model:</th>                  <td>GLM</td>       <th>  Df Residuals:      </th>  <td>  6304</td> \n",
       "</tr>\n",
       "<tr>\n",
       "  <th>Model Family:</th>        <td>Binomial</td>     <th>  Df Model:          </th>  <td>    15</td> \n",
       "</tr>\n",
       "<tr>\n",
       "  <th>Link Function:</th>         <td>logit</td>      <th>  Scale:             </th> <td>  1.0000</td>\n",
       "</tr>\n",
       "<tr>\n",
       "  <th>Method:</th>                <td>IRLS</td>       <th>  Log-Likelihood:    </th> <td> -2516.2</td>\n",
       "</tr>\n",
       "<tr>\n",
       "  <th>Date:</th>            <td>Tue, 18 Oct 2022</td> <th>  Deviance:          </th> <td>  5032.5</td>\n",
       "</tr>\n",
       "<tr>\n",
       "  <th>Time:</th>                <td>11:57:59</td>     <th>  Pearson chi2:      </th> <td>6.28e+03</td>\n",
       "</tr>\n",
       "<tr>\n",
       "  <th>No. Iterations:</th>          <td>7</td>        <th>                     </th>     <td> </td>   \n",
       "</tr>\n",
       "<tr>\n",
       "  <th>Covariance Type:</th>     <td>nonrobust</td>    <th>                     </th>     <td> </td>   \n",
       "</tr>\n",
       "</table>\n",
       "<table class=\"simpletable\">\n",
       "<tr>\n",
       "                            <td></td>                              <th>coef</th>     <th>std err</th>      <th>z</th>      <th>P>|z|</th>  <th>[0.025</th>    <th>0.975]</th>  \n",
       "</tr>\n",
       "<tr>\n",
       "  <th>const</th>                                                <td>   -2.5028</td> <td>    0.152</td> <td>  -16.475</td> <td> 0.000</td> <td>   -2.801</td> <td>   -2.205</td>\n",
       "</tr>\n",
       "<tr>\n",
       "  <th>Do Not Email</th>                                         <td>   -1.1452</td> <td>    0.175</td> <td>   -6.536</td> <td> 0.000</td> <td>   -1.489</td> <td>   -0.802</td>\n",
       "</tr>\n",
       "<tr>\n",
       "  <th>TotalVisits</th>                                          <td>    1.7397</td> <td>    0.289</td> <td>    6.023</td> <td> 0.000</td> <td>    1.174</td> <td>    2.306</td>\n",
       "</tr>\n",
       "<tr>\n",
       "  <th>Total Time Spent on Website</th>                          <td>    4.5109</td> <td>    0.168</td> <td>   26.784</td> <td> 0.000</td> <td>    4.181</td> <td>    4.841</td>\n",
       "</tr>\n",
       "<tr>\n",
       "  <th>Page Views Per Visit</th>                                 <td>   -0.8591</td> <td>    0.250</td> <td>   -3.442</td> <td> 0.001</td> <td>   -1.348</td> <td>   -0.370</td>\n",
       "</tr>\n",
       "<tr>\n",
       "  <th>Lead Origin_Lead Add Form</th>                            <td>    3.6099</td> <td>    0.208</td> <td>   17.356</td> <td> 0.000</td> <td>    3.202</td> <td>    4.018</td>\n",
       "</tr>\n",
       "<tr>\n",
       "  <th>Lead Source_Olark Chat</th>                               <td>    1.4653</td> <td>    0.134</td> <td>   10.951</td> <td> 0.000</td> <td>    1.203</td> <td>    1.728</td>\n",
       "</tr>\n",
       "<tr>\n",
       "  <th>Lead Source_Welingak Website</th>                         <td>    2.0660</td> <td>    0.742</td> <td>    2.786</td> <td> 0.005</td> <td>    0.612</td> <td>    3.520</td>\n",
       "</tr>\n",
       "<tr>\n",
       "  <th>Last Activity_Email Opened</th>                           <td>    0.5006</td> <td>    0.116</td> <td>    4.323</td> <td> 0.000</td> <td>    0.274</td> <td>    0.728</td>\n",
       "</tr>\n",
       "<tr>\n",
       "  <th>Last Activity_Olark Chat Conversation</th>                <td>   -0.6438</td> <td>    0.189</td> <td>   -3.408</td> <td> 0.001</td> <td>   -1.014</td> <td>   -0.273</td>\n",
       "</tr>\n",
       "<tr>\n",
       "  <th>Last Activity_SMS Sent</th>                               <td>    1.6955</td> <td>    0.117</td> <td>   14.489</td> <td> 0.000</td> <td>    1.466</td> <td>    1.925</td>\n",
       "</tr>\n",
       "<tr>\n",
       "  <th>What is your current occupation_Unknown</th>              <td>   -1.2447</td> <td>    0.090</td> <td>  -13.822</td> <td> 0.000</td> <td>   -1.421</td> <td>   -1.068</td>\n",
       "</tr>\n",
       "<tr>\n",
       "  <th>What is your current occupation_Working Professional</th> <td>    2.6123</td> <td>    0.203</td> <td>   12.869</td> <td> 0.000</td> <td>    2.214</td> <td>    3.010</td>\n",
       "</tr>\n",
       "<tr>\n",
       "  <th>Last Notable Activity_Had a Phone Conversation</th>       <td>    3.5184</td> <td>    1.176</td> <td>    2.991</td> <td> 0.003</td> <td>    1.213</td> <td>    5.824</td>\n",
       "</tr>\n",
       "<tr>\n",
       "  <th>Last Notable Activity_Modified</th>                       <td>   -0.5330</td> <td>    0.090</td> <td>   -5.949</td> <td> 0.000</td> <td>   -0.709</td> <td>   -0.357</td>\n",
       "</tr>\n",
       "<tr>\n",
       "  <th>Last Notable Activity_Unreachable</th>                    <td>    2.0055</td> <td>    0.556</td> <td>    3.607</td> <td> 0.000</td> <td>    0.916</td> <td>    3.095</td>\n",
       "</tr>\n",
       "</table>"
      ],
      "text/plain": [
       "<class 'statsmodels.iolib.summary.Summary'>\n",
       "\"\"\"\n",
       "                 Generalized Linear Model Regression Results                  \n",
       "==============================================================================\n",
       "Dep. Variable:              Converted   No. Observations:                 6320\n",
       "Model:                            GLM   Df Residuals:                     6304\n",
       "Model Family:                Binomial   Df Model:                           15\n",
       "Link Function:                  logit   Scale:                          1.0000\n",
       "Method:                          IRLS   Log-Likelihood:                -2516.2\n",
       "Date:                Tue, 18 Oct 2022   Deviance:                       5032.5\n",
       "Time:                        11:57:59   Pearson chi2:                 6.28e+03\n",
       "No. Iterations:                     7                                         \n",
       "Covariance Type:            nonrobust                                         \n",
       "========================================================================================================================\n",
       "                                                           coef    std err          z      P>|z|      [0.025      0.975]\n",
       "------------------------------------------------------------------------------------------------------------------------\n",
       "const                                                   -2.5028      0.152    -16.475      0.000      -2.801      -2.205\n",
       "Do Not Email                                            -1.1452      0.175     -6.536      0.000      -1.489      -0.802\n",
       "TotalVisits                                              1.7397      0.289      6.023      0.000       1.174       2.306\n",
       "Total Time Spent on Website                              4.5109      0.168     26.784      0.000       4.181       4.841\n",
       "Page Views Per Visit                                    -0.8591      0.250     -3.442      0.001      -1.348      -0.370\n",
       "Lead Origin_Lead Add Form                                3.6099      0.208     17.356      0.000       3.202       4.018\n",
       "Lead Source_Olark Chat                                   1.4653      0.134     10.951      0.000       1.203       1.728\n",
       "Lead Source_Welingak Website                             2.0660      0.742      2.786      0.005       0.612       3.520\n",
       "Last Activity_Email Opened                               0.5006      0.116      4.323      0.000       0.274       0.728\n",
       "Last Activity_Olark Chat Conversation                   -0.6438      0.189     -3.408      0.001      -1.014      -0.273\n",
       "Last Activity_SMS Sent                                   1.6955      0.117     14.489      0.000       1.466       1.925\n",
       "What is your current occupation_Unknown                 -1.2447      0.090    -13.822      0.000      -1.421      -1.068\n",
       "What is your current occupation_Working Professional     2.6123      0.203     12.869      0.000       2.214       3.010\n",
       "Last Notable Activity_Had a Phone Conversation           3.5184      1.176      2.991      0.003       1.213       5.824\n",
       "Last Notable Activity_Modified                          -0.5330      0.090     -5.949      0.000      -0.709      -0.357\n",
       "Last Notable Activity_Unreachable                        2.0055      0.556      3.607      0.000       0.916       3.095\n",
       "========================================================================================================================\n",
       "\"\"\""
      ]
     },
     "execution_count": 214,
     "metadata": {},
     "output_type": "execute_result"
    }
   ],
   "source": [
    "X_train_sm = sm.add_constant(X_train[rfe_col])\n",
    "logm6 = sm.GLM(y_train,X_train_sm, family = sm.families.Binomial())\n",
    "res = logm6.fit()\n",
    "res.summary()"
   ]
  },
  {
   "cell_type": "code",
   "execution_count": 215,
   "id": "84cdd7f2",
   "metadata": {},
   "outputs": [
    {
     "data": {
      "text/plain": [
       "2240    0.692600\n",
       "113     0.539248\n",
       "4132    0.718698\n",
       "5573    0.133628\n",
       "1109    0.014225\n",
       "2282    0.031692\n",
       "2976    0.854208\n",
       "8431    0.399257\n",
       "2770    0.745493\n",
       "5790    0.995570\n",
       "dtype: float64"
      ]
     },
     "execution_count": 215,
     "metadata": {},
     "output_type": "execute_result"
    }
   ],
   "source": [
    "y_train_pred = res.predict(X_train_sm)\n",
    "y_train_pred[:10]"
   ]
  },
  {
   "cell_type": "code",
   "execution_count": 216,
   "id": "ee6356a9",
   "metadata": {},
   "outputs": [
    {
     "data": {
      "text/plain": [
       "array([0.69260021, 0.53924773, 0.71869827, 0.13362844, 0.01422486,\n",
       "       0.03169166, 0.85420845, 0.39925732, 0.74549262, 0.99556994])"
      ]
     },
     "execution_count": 216,
     "metadata": {},
     "output_type": "execute_result"
    }
   ],
   "source": [
    "y_train_pred = y_train_pred.values.reshape(-1)\n",
    "y_train_pred[:10]"
   ]
  },
  {
   "cell_type": "code",
   "execution_count": 217,
   "id": "7cac4027",
   "metadata": {},
   "outputs": [
    {
     "data": {
      "text/html": [
       "<div>\n",
       "<style scoped>\n",
       "    .dataframe tbody tr th:only-of-type {\n",
       "        vertical-align: middle;\n",
       "    }\n",
       "\n",
       "    .dataframe tbody tr th {\n",
       "        vertical-align: top;\n",
       "    }\n",
       "\n",
       "    .dataframe thead th {\n",
       "        text-align: right;\n",
       "    }\n",
       "</style>\n",
       "<table border=\"1\" class=\"dataframe\">\n",
       "  <thead>\n",
       "    <tr style=\"text-align: right;\">\n",
       "      <th></th>\n",
       "      <th>Converted</th>\n",
       "      <th>Converted_Prob</th>\n",
       "      <th>LeadId</th>\n",
       "    </tr>\n",
       "  </thead>\n",
       "  <tbody>\n",
       "    <tr>\n",
       "      <th>0</th>\n",
       "      <td>0</td>\n",
       "      <td>0.692600</td>\n",
       "      <td>2240</td>\n",
       "    </tr>\n",
       "    <tr>\n",
       "      <th>1</th>\n",
       "      <td>0</td>\n",
       "      <td>0.539248</td>\n",
       "      <td>113</td>\n",
       "    </tr>\n",
       "    <tr>\n",
       "      <th>2</th>\n",
       "      <td>1</td>\n",
       "      <td>0.718698</td>\n",
       "      <td>4132</td>\n",
       "    </tr>\n",
       "    <tr>\n",
       "      <th>3</th>\n",
       "      <td>0</td>\n",
       "      <td>0.133628</td>\n",
       "      <td>5573</td>\n",
       "    </tr>\n",
       "    <tr>\n",
       "      <th>4</th>\n",
       "      <td>0</td>\n",
       "      <td>0.014225</td>\n",
       "      <td>1109</td>\n",
       "    </tr>\n",
       "  </tbody>\n",
       "</table>\n",
       "</div>"
      ],
      "text/plain": [
       "   Converted  Converted_Prob  LeadId\n",
       "0          0        0.692600    2240\n",
       "1          0        0.539248     113\n",
       "2          1        0.718698    4132\n",
       "3          0        0.133628    5573\n",
       "4          0        0.014225    1109"
      ]
     },
     "execution_count": 217,
     "metadata": {},
     "output_type": "execute_result"
    }
   ],
   "source": [
    "y_train_pred_final = pd.DataFrame({'Converted':y_train.values, 'Converted_Prob':y_train_pred})\n",
    "y_train_pred_final['LeadId'] = y_train.index\n",
    "y_train_pred_final.head()"
   ]
  },
  {
   "cell_type": "markdown",
   "id": "c291addc",
   "metadata": {},
   "source": [
    "#### converting probability > 0.5 to 1."
   ]
  },
  {
   "cell_type": "code",
   "execution_count": 218,
   "id": "42e48fc7",
   "metadata": {},
   "outputs": [
    {
     "data": {
      "text/html": [
       "<div>\n",
       "<style scoped>\n",
       "    .dataframe tbody tr th:only-of-type {\n",
       "        vertical-align: middle;\n",
       "    }\n",
       "\n",
       "    .dataframe tbody tr th {\n",
       "        vertical-align: top;\n",
       "    }\n",
       "\n",
       "    .dataframe thead th {\n",
       "        text-align: right;\n",
       "    }\n",
       "</style>\n",
       "<table border=\"1\" class=\"dataframe\">\n",
       "  <thead>\n",
       "    <tr style=\"text-align: right;\">\n",
       "      <th></th>\n",
       "      <th>Converted</th>\n",
       "      <th>Converted_Prob</th>\n",
       "      <th>LeadId</th>\n",
       "      <th>predicted</th>\n",
       "    </tr>\n",
       "  </thead>\n",
       "  <tbody>\n",
       "    <tr>\n",
       "      <th>0</th>\n",
       "      <td>0</td>\n",
       "      <td>0.692600</td>\n",
       "      <td>2240</td>\n",
       "      <td>1</td>\n",
       "    </tr>\n",
       "    <tr>\n",
       "      <th>1</th>\n",
       "      <td>0</td>\n",
       "      <td>0.539248</td>\n",
       "      <td>113</td>\n",
       "      <td>1</td>\n",
       "    </tr>\n",
       "    <tr>\n",
       "      <th>2</th>\n",
       "      <td>1</td>\n",
       "      <td>0.718698</td>\n",
       "      <td>4132</td>\n",
       "      <td>1</td>\n",
       "    </tr>\n",
       "    <tr>\n",
       "      <th>3</th>\n",
       "      <td>0</td>\n",
       "      <td>0.133628</td>\n",
       "      <td>5573</td>\n",
       "      <td>0</td>\n",
       "    </tr>\n",
       "    <tr>\n",
       "      <th>4</th>\n",
       "      <td>0</td>\n",
       "      <td>0.014225</td>\n",
       "      <td>1109</td>\n",
       "      <td>0</td>\n",
       "    </tr>\n",
       "  </tbody>\n",
       "</table>\n",
       "</div>"
      ],
      "text/plain": [
       "   Converted  Converted_Prob  LeadId  predicted\n",
       "0          0        0.692600    2240          1\n",
       "1          0        0.539248     113          1\n",
       "2          1        0.718698    4132          1\n",
       "3          0        0.133628    5573          0\n",
       "4          0        0.014225    1109          0"
      ]
     },
     "execution_count": 218,
     "metadata": {},
     "output_type": "execute_result"
    }
   ],
   "source": [
    "y_train_pred_final['predicted'] = y_train_pred_final.Converted_Prob.map(lambda x: 1 if x > 0.5 else 0)\n",
    "y_train_pred_final.head()"
   ]
  },
  {
   "cell_type": "code",
   "execution_count": 219,
   "id": "636bddd8",
   "metadata": {},
   "outputs": [],
   "source": [
    "from sklearn import metrics"
   ]
  },
  {
   "cell_type": "code",
   "execution_count": 220,
   "id": "dd6b27f6",
   "metadata": {},
   "outputs": [
    {
     "name": "stdout",
     "output_type": "stream",
     "text": [
      "[[3412  446]\n",
      " [ 712 1750]]\n"
     ]
    }
   ],
   "source": [
    "# Confusion matrix \n",
    "\n",
    "confusion = metrics.confusion_matrix(y_train_pred_final.Converted, y_train_pred_final.predicted )\n",
    "print(confusion)"
   ]
  },
  {
   "cell_type": "code",
   "execution_count": 221,
   "id": "721f8bf2",
   "metadata": {},
   "outputs": [
    {
     "name": "stdout",
     "output_type": "stream",
     "text": [
      "0.8167721518987342\n"
     ]
    }
   ],
   "source": [
    "print(metrics.accuracy_score(y_train_pred_final.Converted, y_train_pred_final.predicted))"
   ]
  },
  {
   "cell_type": "code",
   "execution_count": 222,
   "id": "8f58a1c3",
   "metadata": {},
   "outputs": [],
   "source": [
    "from statsmodels.stats.outliers_influence import variance_inflation_factor"
   ]
  },
  {
   "cell_type": "code",
   "execution_count": 223,
   "id": "ccece99a",
   "metadata": {},
   "outputs": [
    {
     "data": {
      "text/html": [
       "<div>\n",
       "<style scoped>\n",
       "    .dataframe tbody tr th:only-of-type {\n",
       "        vertical-align: middle;\n",
       "    }\n",
       "\n",
       "    .dataframe tbody tr th {\n",
       "        vertical-align: top;\n",
       "    }\n",
       "\n",
       "    .dataframe thead th {\n",
       "        text-align: right;\n",
       "    }\n",
       "</style>\n",
       "<table border=\"1\" class=\"dataframe\">\n",
       "  <thead>\n",
       "    <tr style=\"text-align: right;\">\n",
       "      <th></th>\n",
       "      <th>Features</th>\n",
       "      <th>VIF</th>\n",
       "    </tr>\n",
       "  </thead>\n",
       "  <tbody>\n",
       "    <tr>\n",
       "      <th>5</th>\n",
       "      <td>Lead Origin_Lead Add Form</td>\n",
       "      <td>17.27</td>\n",
       "    </tr>\n",
       "    <tr>\n",
       "      <th>7</th>\n",
       "      <td>Lead Source_Reference</td>\n",
       "      <td>13.38</td>\n",
       "    </tr>\n",
       "    <tr>\n",
       "      <th>3</th>\n",
       "      <td>Page Views Per Visit</td>\n",
       "      <td>6.12</td>\n",
       "    </tr>\n",
       "    <tr>\n",
       "      <th>1</th>\n",
       "      <td>TotalVisits</td>\n",
       "      <td>4.71</td>\n",
       "    </tr>\n",
       "    <tr>\n",
       "      <th>8</th>\n",
       "      <td>Lead Source_Welingak Website</td>\n",
       "      <td>4.66</td>\n",
       "    </tr>\n",
       "    <tr>\n",
       "      <th>10</th>\n",
       "      <td>Last Activity_Email Opened</td>\n",
       "      <td>2.39</td>\n",
       "    </tr>\n",
       "    <tr>\n",
       "      <th>2</th>\n",
       "      <td>Total Time Spent on Website</td>\n",
       "      <td>2.14</td>\n",
       "    </tr>\n",
       "    <tr>\n",
       "      <th>13</th>\n",
       "      <td>Last Activity_SMS Sent</td>\n",
       "      <td>2.13</td>\n",
       "    </tr>\n",
       "    <tr>\n",
       "      <th>6</th>\n",
       "      <td>Lead Source_Olark Chat</td>\n",
       "      <td>2.11</td>\n",
       "    </tr>\n",
       "    <tr>\n",
       "      <th>11</th>\n",
       "      <td>Last Activity_Had a Phone Conversation</td>\n",
       "      <td>2.02</td>\n",
       "    </tr>\n",
       "    <tr>\n",
       "      <th>17</th>\n",
       "      <td>Last Notable Activity_Had a Phone Conversation</td>\n",
       "      <td>2.01</td>\n",
       "    </tr>\n",
       "    <tr>\n",
       "      <th>18</th>\n",
       "      <td>Last Notable Activity_Modified</td>\n",
       "      <td>1.78</td>\n",
       "    </tr>\n",
       "    <tr>\n",
       "      <th>12</th>\n",
       "      <td>Last Activity_Olark Chat Conversation</td>\n",
       "      <td>1.77</td>\n",
       "    </tr>\n",
       "    <tr>\n",
       "      <th>15</th>\n",
       "      <td>What is your current occupation_Unknown</td>\n",
       "      <td>1.57</td>\n",
       "    </tr>\n",
       "    <tr>\n",
       "      <th>16</th>\n",
       "      <td>What is your current occupation_Working Profes...</td>\n",
       "      <td>1.19</td>\n",
       "    </tr>\n",
       "    <tr>\n",
       "      <th>0</th>\n",
       "      <td>Do Not Email</td>\n",
       "      <td>1.15</td>\n",
       "    </tr>\n",
       "    <tr>\n",
       "      <th>19</th>\n",
       "      <td>Last Notable Activity_Unreachable</td>\n",
       "      <td>1.02</td>\n",
       "    </tr>\n",
       "    <tr>\n",
       "      <th>14</th>\n",
       "      <td>What is your current occupation_Housewife</td>\n",
       "      <td>1.01</td>\n",
       "    </tr>\n",
       "    <tr>\n",
       "      <th>9</th>\n",
       "      <td>Last Activity_Approached upfront</td>\n",
       "      <td>1.01</td>\n",
       "    </tr>\n",
       "    <tr>\n",
       "      <th>4</th>\n",
       "      <td>Search</td>\n",
       "      <td>1.01</td>\n",
       "    </tr>\n",
       "  </tbody>\n",
       "</table>\n",
       "</div>"
      ],
      "text/plain": [
       "                                             Features    VIF\n",
       "5                           Lead Origin_Lead Add Form  17.27\n",
       "7                               Lead Source_Reference  13.38\n",
       "3                                Page Views Per Visit   6.12\n",
       "1                                         TotalVisits   4.71\n",
       "8                        Lead Source_Welingak Website   4.66\n",
       "10                         Last Activity_Email Opened   2.39\n",
       "2                         Total Time Spent on Website   2.14\n",
       "13                             Last Activity_SMS Sent   2.13\n",
       "6                              Lead Source_Olark Chat   2.11\n",
       "11             Last Activity_Had a Phone Conversation   2.02\n",
       "17     Last Notable Activity_Had a Phone Conversation   2.01\n",
       "18                     Last Notable Activity_Modified   1.78\n",
       "12              Last Activity_Olark Chat Conversation   1.77\n",
       "15            What is your current occupation_Unknown   1.57\n",
       "16  What is your current occupation_Working Profes...   1.19\n",
       "0                                        Do Not Email   1.15\n",
       "19                  Last Notable Activity_Unreachable   1.02\n",
       "14          What is your current occupation_Housewife   1.01\n",
       "9                    Last Activity_Approached upfront   1.01\n",
       "4                                              Search   1.01"
      ]
     },
     "execution_count": 223,
     "metadata": {},
     "output_type": "execute_result"
    }
   ],
   "source": [
    "vif = pd.DataFrame()\n",
    "vif['Features'] = X_train[col].columns\n",
    "vif['VIF'] = [variance_inflation_factor(X_train[col].values, i) for i in range(X_train[col].shape[1])]\n",
    "vif['VIF'] = round(vif['VIF'], 2)\n",
    "vif = vif.sort_values(by = \"VIF\", ascending = False)\n",
    "vif"
   ]
  },
  {
   "cell_type": "markdown",
   "id": "3d6c768a",
   "metadata": {},
   "source": [
    "### Checking the metrics "
   ]
  },
  {
   "cell_type": "code",
   "execution_count": 224,
   "id": "c507ceeb",
   "metadata": {},
   "outputs": [],
   "source": [
    "TP = confusion[1,1] # true positive \n",
    "TN = confusion[0,0] # true negatives\n",
    "FP = confusion[0,1] # false positives\n",
    "FN = confusion[1,0] # false negatives"
   ]
  },
  {
   "cell_type": "markdown",
   "id": "62eb87d6",
   "metadata": {},
   "source": [
    "#### Sensitivity"
   ]
  },
  {
   "cell_type": "code",
   "execution_count": 225,
   "id": "00fce43c",
   "metadata": {},
   "outputs": [
    {
     "data": {
      "text/plain": [
       "0.710804224207961"
      ]
     },
     "execution_count": 225,
     "metadata": {},
     "output_type": "execute_result"
    }
   ],
   "source": [
    "TP / float(TP+FN)"
   ]
  },
  {
   "cell_type": "markdown",
   "id": "9fec3116",
   "metadata": {},
   "source": [
    "#### Specificity"
   ]
  },
  {
   "cell_type": "code",
   "execution_count": 226,
   "id": "622107b9",
   "metadata": {},
   "outputs": [
    {
     "data": {
      "text/plain": [
       "0.8843960601347849"
      ]
     },
     "execution_count": 226,
     "metadata": {},
     "output_type": "execute_result"
    }
   ],
   "source": [
    "TN / float(TN+FP)"
   ]
  },
  {
   "cell_type": "markdown",
   "id": "a1440ac2",
   "metadata": {},
   "source": [
    "#### False Positivity Rate"
   ]
  },
  {
   "cell_type": "code",
   "execution_count": 227,
   "id": "71d94a8f",
   "metadata": {},
   "outputs": [
    {
     "name": "stdout",
     "output_type": "stream",
     "text": [
      "0.11560393986521514\n"
     ]
    }
   ],
   "source": [
    "print(FP/ float(TN+FP))"
   ]
  },
  {
   "cell_type": "markdown",
   "id": "8ee3c245",
   "metadata": {},
   "source": [
    "#### Positive Predictive Value"
   ]
  },
  {
   "cell_type": "code",
   "execution_count": 228,
   "id": "e8a5c372",
   "metadata": {},
   "outputs": [
    {
     "name": "stdout",
     "output_type": "stream",
     "text": [
      "0.7969034608378871\n"
     ]
    }
   ],
   "source": [
    "print (TP / float(TP+FP))"
   ]
  },
  {
   "cell_type": "markdown",
   "id": "afe025f0",
   "metadata": {},
   "source": [
    "#### Negative Predictive Value"
   ]
  },
  {
   "cell_type": "code",
   "execution_count": 229,
   "id": "c6d48a0b",
   "metadata": {},
   "outputs": [
    {
     "name": "stdout",
     "output_type": "stream",
     "text": [
      "0.8273520853540253\n"
     ]
    }
   ],
   "source": [
    "print (TN / float(TN+ FN))"
   ]
  },
  {
   "cell_type": "markdown",
   "id": "70e16bea",
   "metadata": {},
   "source": [
    "### Optimal Cut-off"
   ]
  },
  {
   "cell_type": "code",
   "execution_count": 231,
   "id": "4f5ed798",
   "metadata": {},
   "outputs": [
    {
     "data": {
      "text/html": [
       "<div>\n",
       "<style scoped>\n",
       "    .dataframe tbody tr th:only-of-type {\n",
       "        vertical-align: middle;\n",
       "    }\n",
       "\n",
       "    .dataframe tbody tr th {\n",
       "        vertical-align: top;\n",
       "    }\n",
       "\n",
       "    .dataframe thead th {\n",
       "        text-align: right;\n",
       "    }\n",
       "</style>\n",
       "<table border=\"1\" class=\"dataframe\">\n",
       "  <thead>\n",
       "    <tr style=\"text-align: right;\">\n",
       "      <th></th>\n",
       "      <th>Converted</th>\n",
       "      <th>Converted_Prob</th>\n",
       "      <th>LeadId</th>\n",
       "      <th>predicted</th>\n",
       "      <th>0.0</th>\n",
       "      <th>0.1</th>\n",
       "      <th>0.2</th>\n",
       "      <th>0.3</th>\n",
       "      <th>0.4</th>\n",
       "      <th>0.5</th>\n",
       "      <th>0.6</th>\n",
       "      <th>0.7</th>\n",
       "      <th>0.8</th>\n",
       "      <th>0.9</th>\n",
       "    </tr>\n",
       "  </thead>\n",
       "  <tbody>\n",
       "    <tr>\n",
       "      <th>0</th>\n",
       "      <td>0</td>\n",
       "      <td>0.692600</td>\n",
       "      <td>2240</td>\n",
       "      <td>1</td>\n",
       "      <td>1</td>\n",
       "      <td>1</td>\n",
       "      <td>1</td>\n",
       "      <td>1</td>\n",
       "      <td>1</td>\n",
       "      <td>1</td>\n",
       "      <td>1</td>\n",
       "      <td>0</td>\n",
       "      <td>0</td>\n",
       "      <td>0</td>\n",
       "    </tr>\n",
       "    <tr>\n",
       "      <th>1</th>\n",
       "      <td>0</td>\n",
       "      <td>0.539248</td>\n",
       "      <td>113</td>\n",
       "      <td>1</td>\n",
       "      <td>1</td>\n",
       "      <td>1</td>\n",
       "      <td>1</td>\n",
       "      <td>1</td>\n",
       "      <td>1</td>\n",
       "      <td>1</td>\n",
       "      <td>0</td>\n",
       "      <td>0</td>\n",
       "      <td>0</td>\n",
       "      <td>0</td>\n",
       "    </tr>\n",
       "    <tr>\n",
       "      <th>2</th>\n",
       "      <td>1</td>\n",
       "      <td>0.718698</td>\n",
       "      <td>4132</td>\n",
       "      <td>1</td>\n",
       "      <td>1</td>\n",
       "      <td>1</td>\n",
       "      <td>1</td>\n",
       "      <td>1</td>\n",
       "      <td>1</td>\n",
       "      <td>1</td>\n",
       "      <td>1</td>\n",
       "      <td>1</td>\n",
       "      <td>0</td>\n",
       "      <td>0</td>\n",
       "    </tr>\n",
       "    <tr>\n",
       "      <th>3</th>\n",
       "      <td>0</td>\n",
       "      <td>0.133628</td>\n",
       "      <td>5573</td>\n",
       "      <td>0</td>\n",
       "      <td>1</td>\n",
       "      <td>1</td>\n",
       "      <td>0</td>\n",
       "      <td>0</td>\n",
       "      <td>0</td>\n",
       "      <td>0</td>\n",
       "      <td>0</td>\n",
       "      <td>0</td>\n",
       "      <td>0</td>\n",
       "      <td>0</td>\n",
       "    </tr>\n",
       "    <tr>\n",
       "      <th>4</th>\n",
       "      <td>0</td>\n",
       "      <td>0.014225</td>\n",
       "      <td>1109</td>\n",
       "      <td>0</td>\n",
       "      <td>1</td>\n",
       "      <td>0</td>\n",
       "      <td>0</td>\n",
       "      <td>0</td>\n",
       "      <td>0</td>\n",
       "      <td>0</td>\n",
       "      <td>0</td>\n",
       "      <td>0</td>\n",
       "      <td>0</td>\n",
       "      <td>0</td>\n",
       "    </tr>\n",
       "  </tbody>\n",
       "</table>\n",
       "</div>"
      ],
      "text/plain": [
       "   Converted  Converted_Prob  LeadId  predicted  0.0  0.1  0.2  0.3  0.4  0.5  \\\n",
       "0          0        0.692600    2240          1    1    1    1    1    1    1   \n",
       "1          0        0.539248     113          1    1    1    1    1    1    1   \n",
       "2          1        0.718698    4132          1    1    1    1    1    1    1   \n",
       "3          0        0.133628    5573          0    1    1    0    0    0    0   \n",
       "4          0        0.014225    1109          0    1    0    0    0    0    0   \n",
       "\n",
       "   0.6  0.7  0.8  0.9  \n",
       "0    1    0    0    0  \n",
       "1    0    0    0    0  \n",
       "2    1    1    0    0  \n",
       "3    0    0    0    0  \n",
       "4    0    0    0    0  "
      ]
     },
     "execution_count": 231,
     "metadata": {},
     "output_type": "execute_result"
    }
   ],
   "source": [
    "numbers = [float(x)/10 for x in range(10)]\n",
    "for i in numbers:\n",
    "    y_train_pred_final[i]=y_train_pred_final.Converted_Prob.map(lambda x: 1 if x>i else 0)\n",
    "y_train_pred_final.head()"
   ]
  },
  {
   "cell_type": "code",
   "execution_count": 233,
   "id": "7641439d",
   "metadata": {},
   "outputs": [
    {
     "name": "stdout",
     "output_type": "stream",
     "text": [
      "     prob  accuracy     sensi     speci\n",
      "0.0   0.0  0.389557  1.000000  0.000000\n",
      "0.1   0.1  0.659335  0.972380  0.459565\n",
      "0.2   0.2  0.760601  0.922421  0.657335\n",
      "0.3   0.3  0.802532  0.879366  0.753499\n",
      "0.4   0.4  0.816614  0.782291  0.838517\n",
      "0.5   0.5  0.816772  0.710804  0.884396\n",
      "0.6   0.6  0.811234  0.642973  0.918611\n",
      "0.7   0.7  0.785127  0.531682  0.946864\n",
      "0.8   0.8  0.762816  0.443948  0.966304\n",
      "0.9   0.9  0.720570  0.302193  0.987558\n"
     ]
    }
   ],
   "source": [
    "cutoff_df = pd.DataFrame( columns = ['prob','accuracy','sensi','speci'])\n",
    "from sklearn.metrics import confusion_matrix\n",
    "\n",
    "# TP = confusion[1,1] # true positive \n",
    "# TN = confusion[0,0] # true negatives\n",
    "# FP = confusion[0,1] # false positives\n",
    "# FN = confusion[1,0] # false negatives\n",
    "\n",
    "num = [0.0,0.1,0.2,0.3,0.4,0.5,0.6,0.7,0.8,0.9]\n",
    "for i in num:\n",
    "    cm1 = metrics.confusion_matrix(y_train_pred_final.Converted, y_train_pred_final[i] )\n",
    "    total1=sum(sum(cm1))\n",
    "    accuracy = (cm1[0,0]+cm1[1,1])/total1\n",
    "    \n",
    "    speci = cm1[0,0]/(cm1[0,0]+cm1[0,1])\n",
    "    sensi = cm1[1,1]/(cm1[1,0]+cm1[1,1])\n",
    "    cutoff_df.loc[i] =[ i ,accuracy,sensi,speci]\n",
    "print(cutoff_df)"
   ]
  },
  {
   "cell_type": "markdown",
   "id": "803e8adc",
   "metadata": {},
   "source": [
    "0.37 is optimal cut off"
   ]
  },
  {
   "cell_type": "code",
   "execution_count": 234,
   "id": "e448f812",
   "metadata": {},
   "outputs": [
    {
     "data": {
      "image/png": "[encoded data removed]",
      "text/plain": [
       "<Figure size 432x288 with 1 Axes>"
      ]
     },
     "metadata": {
      "needs_background": "light"
     },
     "output_type": "display_data"
    }
   ],
   "source": [
    "cutoff_df.plot.line(x='prob',y=['accuracy','sensi','speci'])\n",
    "plt.show()"
   ]
  },
  {
   "cell_type": "code",
   "execution_count": 236,
   "id": "4537927b",
   "metadata": {},
   "outputs": [
    {
     "data": {
      "text/html": [
       "<div>\n",
       "<style scoped>\n",
       "    .dataframe tbody tr th:only-of-type {\n",
       "        vertical-align: middle;\n",
       "    }\n",
       "\n",
       "    .dataframe tbody tr th {\n",
       "        vertical-align: top;\n",
       "    }\n",
       "\n",
       "    .dataframe thead th {\n",
       "        text-align: right;\n",
       "    }\n",
       "</style>\n",
       "<table border=\"1\" class=\"dataframe\">\n",
       "  <thead>\n",
       "    <tr style=\"text-align: right;\">\n",
       "      <th></th>\n",
       "      <th>Converted</th>\n",
       "      <th>Converted_Prob</th>\n",
       "      <th>LeadId</th>\n",
       "      <th>predicted</th>\n",
       "      <th>0.0</th>\n",
       "      <th>0.1</th>\n",
       "      <th>0.2</th>\n",
       "      <th>0.3</th>\n",
       "      <th>0.4</th>\n",
       "      <th>0.5</th>\n",
       "      <th>0.6</th>\n",
       "      <th>0.7</th>\n",
       "      <th>0.8</th>\n",
       "      <th>0.9</th>\n",
       "      <th>FINAL_PREDICTED</th>\n",
       "    </tr>\n",
       "  </thead>\n",
       "  <tbody>\n",
       "    <tr>\n",
       "      <th>0</th>\n",
       "      <td>0</td>\n",
       "      <td>0.692600</td>\n",
       "      <td>2240</td>\n",
       "      <td>1</td>\n",
       "      <td>1</td>\n",
       "      <td>1</td>\n",
       "      <td>1</td>\n",
       "      <td>1</td>\n",
       "      <td>1</td>\n",
       "      <td>1</td>\n",
       "      <td>1</td>\n",
       "      <td>0</td>\n",
       "      <td>0</td>\n",
       "      <td>0</td>\n",
       "      <td>1</td>\n",
       "    </tr>\n",
       "    <tr>\n",
       "      <th>1</th>\n",
       "      <td>0</td>\n",
       "      <td>0.539248</td>\n",
       "      <td>113</td>\n",
       "      <td>1</td>\n",
       "      <td>1</td>\n",
       "      <td>1</td>\n",
       "      <td>1</td>\n",
       "      <td>1</td>\n",
       "      <td>1</td>\n",
       "      <td>1</td>\n",
       "      <td>0</td>\n",
       "      <td>0</td>\n",
       "      <td>0</td>\n",
       "      <td>0</td>\n",
       "      <td>1</td>\n",
       "    </tr>\n",
       "    <tr>\n",
       "      <th>2</th>\n",
       "      <td>1</td>\n",
       "      <td>0.718698</td>\n",
       "      <td>4132</td>\n",
       "      <td>1</td>\n",
       "      <td>1</td>\n",
       "      <td>1</td>\n",
       "      <td>1</td>\n",
       "      <td>1</td>\n",
       "      <td>1</td>\n",
       "      <td>1</td>\n",
       "      <td>1</td>\n",
       "      <td>1</td>\n",
       "      <td>0</td>\n",
       "      <td>0</td>\n",
       "      <td>1</td>\n",
       "    </tr>\n",
       "    <tr>\n",
       "      <th>3</th>\n",
       "      <td>0</td>\n",
       "      <td>0.133628</td>\n",
       "      <td>5573</td>\n",
       "      <td>0</td>\n",
       "      <td>1</td>\n",
       "      <td>1</td>\n",
       "      <td>0</td>\n",
       "      <td>0</td>\n",
       "      <td>0</td>\n",
       "      <td>0</td>\n",
       "      <td>0</td>\n",
       "      <td>0</td>\n",
       "      <td>0</td>\n",
       "      <td>0</td>\n",
       "      <td>0</td>\n",
       "    </tr>\n",
       "    <tr>\n",
       "      <th>4</th>\n",
       "      <td>0</td>\n",
       "      <td>0.014225</td>\n",
       "      <td>1109</td>\n",
       "      <td>0</td>\n",
       "      <td>1</td>\n",
       "      <td>0</td>\n",
       "      <td>0</td>\n",
       "      <td>0</td>\n",
       "      <td>0</td>\n",
       "      <td>0</td>\n",
       "      <td>0</td>\n",
       "      <td>0</td>\n",
       "      <td>0</td>\n",
       "      <td>0</td>\n",
       "      <td>0</td>\n",
       "    </tr>\n",
       "  </tbody>\n",
       "</table>\n",
       "</div>"
      ],
      "text/plain": [
       "   Converted  Converted_Prob  LeadId  predicted  0.0  0.1  0.2  0.3  0.4  0.5  \\\n",
       "0          0        0.692600    2240          1    1    1    1    1    1    1   \n",
       "1          0        0.539248     113          1    1    1    1    1    1    1   \n",
       "2          1        0.718698    4132          1    1    1    1    1    1    1   \n",
       "3          0        0.133628    5573          0    1    1    0    0    0    0   \n",
       "4          0        0.014225    1109          0    1    0    0    0    0    0   \n",
       "\n",
       "   0.6  0.7  0.8  0.9  FINAL_PREDICTED  \n",
       "0    1    0    0    0                1  \n",
       "1    0    0    0    0                1  \n",
       "2    1    1    0    0                1  \n",
       "3    0    0    0    0                0  \n",
       "4    0    0    0    0                0  "
      ]
     },
     "execution_count": 236,
     "metadata": {},
     "output_type": "execute_result"
    }
   ],
   "source": [
    "y_train_pred_final['FINAL_PREDICTED']=y_train_pred_final.Converted_Prob.map(lambda x: 1 if x>0.37 else 0)\n",
    "y_train_pred_final.head()"
   ]
  },
  {
   "cell_type": "code",
   "execution_count": 241,
   "id": "80a182b1",
   "metadata": {},
   "outputs": [
    {
     "data": {
      "text/html": [
       "<div>\n",
       "<style scoped>\n",
       "    .dataframe tbody tr th:only-of-type {\n",
       "        vertical-align: middle;\n",
       "    }\n",
       "\n",
       "    .dataframe tbody tr th {\n",
       "        vertical-align: top;\n",
       "    }\n",
       "\n",
       "    .dataframe thead th {\n",
       "        text-align: right;\n",
       "    }\n",
       "</style>\n",
       "<table border=\"1\" class=\"dataframe\">\n",
       "  <thead>\n",
       "    <tr style=\"text-align: right;\">\n",
       "      <th></th>\n",
       "      <th>Converted</th>\n",
       "      <th>Converted_Prob</th>\n",
       "      <th>LeadId</th>\n",
       "      <th>predicted</th>\n",
       "      <th>0.0</th>\n",
       "      <th>0.1</th>\n",
       "      <th>0.2</th>\n",
       "      <th>0.3</th>\n",
       "      <th>0.4</th>\n",
       "      <th>0.5</th>\n",
       "      <th>0.6</th>\n",
       "      <th>0.7</th>\n",
       "      <th>0.8</th>\n",
       "      <th>0.9</th>\n",
       "      <th>FINAL_PREDICTED</th>\n",
       "      <th>lead_score</th>\n",
       "    </tr>\n",
       "  </thead>\n",
       "  <tbody>\n",
       "    <tr>\n",
       "      <th>0</th>\n",
       "      <td>0</td>\n",
       "      <td>0.692600</td>\n",
       "      <td>2240</td>\n",
       "      <td>1</td>\n",
       "      <td>1</td>\n",
       "      <td>1</td>\n",
       "      <td>1</td>\n",
       "      <td>1</td>\n",
       "      <td>1</td>\n",
       "      <td>1</td>\n",
       "      <td>1</td>\n",
       "      <td>0</td>\n",
       "      <td>0</td>\n",
       "      <td>0</td>\n",
       "      <td>1</td>\n",
       "      <td>69</td>\n",
       "    </tr>\n",
       "    <tr>\n",
       "      <th>1</th>\n",
       "      <td>0</td>\n",
       "      <td>0.539248</td>\n",
       "      <td>113</td>\n",
       "      <td>1</td>\n",
       "      <td>1</td>\n",
       "      <td>1</td>\n",
       "      <td>1</td>\n",
       "      <td>1</td>\n",
       "      <td>1</td>\n",
       "      <td>1</td>\n",
       "      <td>0</td>\n",
       "      <td>0</td>\n",
       "      <td>0</td>\n",
       "      <td>0</td>\n",
       "      <td>1</td>\n",
       "      <td>54</td>\n",
       "    </tr>\n",
       "    <tr>\n",
       "      <th>2</th>\n",
       "      <td>1</td>\n",
       "      <td>0.718698</td>\n",
       "      <td>4132</td>\n",
       "      <td>1</td>\n",
       "      <td>1</td>\n",
       "      <td>1</td>\n",
       "      <td>1</td>\n",
       "      <td>1</td>\n",
       "      <td>1</td>\n",
       "      <td>1</td>\n",
       "      <td>1</td>\n",
       "      <td>1</td>\n",
       "      <td>0</td>\n",
       "      <td>0</td>\n",
       "      <td>1</td>\n",
       "      <td>72</td>\n",
       "    </tr>\n",
       "    <tr>\n",
       "      <th>3</th>\n",
       "      <td>0</td>\n",
       "      <td>0.133628</td>\n",
       "      <td>5573</td>\n",
       "      <td>0</td>\n",
       "      <td>1</td>\n",
       "      <td>1</td>\n",
       "      <td>0</td>\n",
       "      <td>0</td>\n",
       "      <td>0</td>\n",
       "      <td>0</td>\n",
       "      <td>0</td>\n",
       "      <td>0</td>\n",
       "      <td>0</td>\n",
       "      <td>0</td>\n",
       "      <td>0</td>\n",
       "      <td>13</td>\n",
       "    </tr>\n",
       "    <tr>\n",
       "      <th>4</th>\n",
       "      <td>0</td>\n",
       "      <td>0.014225</td>\n",
       "      <td>1109</td>\n",
       "      <td>0</td>\n",
       "      <td>1</td>\n",
       "      <td>0</td>\n",
       "      <td>0</td>\n",
       "      <td>0</td>\n",
       "      <td>0</td>\n",
       "      <td>0</td>\n",
       "      <td>0</td>\n",
       "      <td>0</td>\n",
       "      <td>0</td>\n",
       "      <td>0</td>\n",
       "      <td>0</td>\n",
       "      <td>1</td>\n",
       "    </tr>\n",
       "    <tr>\n",
       "      <th>5</th>\n",
       "      <td>0</td>\n",
       "      <td>0.031692</td>\n",
       "      <td>2282</td>\n",
       "      <td>0</td>\n",
       "      <td>1</td>\n",
       "      <td>0</td>\n",
       "      <td>0</td>\n",
       "      <td>0</td>\n",
       "      <td>0</td>\n",
       "      <td>0</td>\n",
       "      <td>0</td>\n",
       "      <td>0</td>\n",
       "      <td>0</td>\n",
       "      <td>0</td>\n",
       "      <td>0</td>\n",
       "      <td>3</td>\n",
       "    </tr>\n",
       "    <tr>\n",
       "      <th>6</th>\n",
       "      <td>1</td>\n",
       "      <td>0.854208</td>\n",
       "      <td>2976</td>\n",
       "      <td>1</td>\n",
       "      <td>1</td>\n",
       "      <td>1</td>\n",
       "      <td>1</td>\n",
       "      <td>1</td>\n",
       "      <td>1</td>\n",
       "      <td>1</td>\n",
       "      <td>1</td>\n",
       "      <td>1</td>\n",
       "      <td>1</td>\n",
       "      <td>0</td>\n",
       "      <td>1</td>\n",
       "      <td>85</td>\n",
       "    </tr>\n",
       "    <tr>\n",
       "      <th>7</th>\n",
       "      <td>0</td>\n",
       "      <td>0.399257</td>\n",
       "      <td>8431</td>\n",
       "      <td>0</td>\n",
       "      <td>1</td>\n",
       "      <td>1</td>\n",
       "      <td>1</td>\n",
       "      <td>1</td>\n",
       "      <td>0</td>\n",
       "      <td>0</td>\n",
       "      <td>0</td>\n",
       "      <td>0</td>\n",
       "      <td>0</td>\n",
       "      <td>0</td>\n",
       "      <td>0</td>\n",
       "      <td>40</td>\n",
       "    </tr>\n",
       "    <tr>\n",
       "      <th>8</th>\n",
       "      <td>1</td>\n",
       "      <td>0.745493</td>\n",
       "      <td>2770</td>\n",
       "      <td>1</td>\n",
       "      <td>1</td>\n",
       "      <td>1</td>\n",
       "      <td>1</td>\n",
       "      <td>1</td>\n",
       "      <td>1</td>\n",
       "      <td>1</td>\n",
       "      <td>1</td>\n",
       "      <td>1</td>\n",
       "      <td>0</td>\n",
       "      <td>0</td>\n",
       "      <td>1</td>\n",
       "      <td>75</td>\n",
       "    </tr>\n",
       "    <tr>\n",
       "      <th>9</th>\n",
       "      <td>1</td>\n",
       "      <td>0.995570</td>\n",
       "      <td>5790</td>\n",
       "      <td>1</td>\n",
       "      <td>1</td>\n",
       "      <td>1</td>\n",
       "      <td>1</td>\n",
       "      <td>1</td>\n",
       "      <td>1</td>\n",
       "      <td>1</td>\n",
       "      <td>1</td>\n",
       "      <td>1</td>\n",
       "      <td>1</td>\n",
       "      <td>1</td>\n",
       "      <td>1</td>\n",
       "      <td>100</td>\n",
       "    </tr>\n",
       "    <tr>\n",
       "      <th>10</th>\n",
       "      <td>1</td>\n",
       "      <td>0.957687</td>\n",
       "      <td>2943</td>\n",
       "      <td>1</td>\n",
       "      <td>1</td>\n",
       "      <td>1</td>\n",
       "      <td>1</td>\n",
       "      <td>1</td>\n",
       "      <td>1</td>\n",
       "      <td>1</td>\n",
       "      <td>1</td>\n",
       "      <td>1</td>\n",
       "      <td>1</td>\n",
       "      <td>1</td>\n",
       "      <td>1</td>\n",
       "      <td>96</td>\n",
       "    </tr>\n",
       "    <tr>\n",
       "      <th>11</th>\n",
       "      <td>0</td>\n",
       "      <td>0.243037</td>\n",
       "      <td>1196</td>\n",
       "      <td>0</td>\n",
       "      <td>1</td>\n",
       "      <td>1</td>\n",
       "      <td>1</td>\n",
       "      <td>0</td>\n",
       "      <td>0</td>\n",
       "      <td>0</td>\n",
       "      <td>0</td>\n",
       "      <td>0</td>\n",
       "      <td>0</td>\n",
       "      <td>0</td>\n",
       "      <td>0</td>\n",
       "      <td>24</td>\n",
       "    </tr>\n",
       "    <tr>\n",
       "      <th>12</th>\n",
       "      <td>1</td>\n",
       "      <td>0.531214</td>\n",
       "      <td>8874</td>\n",
       "      <td>1</td>\n",
       "      <td>1</td>\n",
       "      <td>1</td>\n",
       "      <td>1</td>\n",
       "      <td>1</td>\n",
       "      <td>1</td>\n",
       "      <td>1</td>\n",
       "      <td>0</td>\n",
       "      <td>0</td>\n",
       "      <td>0</td>\n",
       "      <td>0</td>\n",
       "      <td>1</td>\n",
       "      <td>53</td>\n",
       "    </tr>\n",
       "    <tr>\n",
       "      <th>13</th>\n",
       "      <td>0</td>\n",
       "      <td>0.130486</td>\n",
       "      <td>1491</td>\n",
       "      <td>0</td>\n",
       "      <td>1</td>\n",
       "      <td>1</td>\n",
       "      <td>0</td>\n",
       "      <td>0</td>\n",
       "      <td>0</td>\n",
       "      <td>0</td>\n",
       "      <td>0</td>\n",
       "      <td>0</td>\n",
       "      <td>0</td>\n",
       "      <td>0</td>\n",
       "      <td>0</td>\n",
       "      <td>13</td>\n",
       "    </tr>\n",
       "    <tr>\n",
       "      <th>14</th>\n",
       "      <td>0</td>\n",
       "      <td>0.098482</td>\n",
       "      <td>7676</td>\n",
       "      <td>0</td>\n",
       "      <td>1</td>\n",
       "      <td>0</td>\n",
       "      <td>0</td>\n",
       "      <td>0</td>\n",
       "      <td>0</td>\n",
       "      <td>0</td>\n",
       "      <td>0</td>\n",
       "      <td>0</td>\n",
       "      <td>0</td>\n",
       "      <td>0</td>\n",
       "      <td>0</td>\n",
       "      <td>10</td>\n",
       "    </tr>\n",
       "    <tr>\n",
       "      <th>15</th>\n",
       "      <td>1</td>\n",
       "      <td>0.460246</td>\n",
       "      <td>8750</td>\n",
       "      <td>0</td>\n",
       "      <td>1</td>\n",
       "      <td>1</td>\n",
       "      <td>1</td>\n",
       "      <td>1</td>\n",
       "      <td>1</td>\n",
       "      <td>0</td>\n",
       "      <td>0</td>\n",
       "      <td>0</td>\n",
       "      <td>0</td>\n",
       "      <td>0</td>\n",
       "      <td>1</td>\n",
       "      <td>46</td>\n",
       "    </tr>\n",
       "    <tr>\n",
       "      <th>16</th>\n",
       "      <td>1</td>\n",
       "      <td>0.833093</td>\n",
       "      <td>5049</td>\n",
       "      <td>1</td>\n",
       "      <td>1</td>\n",
       "      <td>1</td>\n",
       "      <td>1</td>\n",
       "      <td>1</td>\n",
       "      <td>1</td>\n",
       "      <td>1</td>\n",
       "      <td>1</td>\n",
       "      <td>1</td>\n",
       "      <td>1</td>\n",
       "      <td>0</td>\n",
       "      <td>1</td>\n",
       "      <td>83</td>\n",
       "    </tr>\n",
       "    <tr>\n",
       "      <th>17</th>\n",
       "      <td>0</td>\n",
       "      <td>0.658813</td>\n",
       "      <td>5691</td>\n",
       "      <td>1</td>\n",
       "      <td>1</td>\n",
       "      <td>1</td>\n",
       "      <td>1</td>\n",
       "      <td>1</td>\n",
       "      <td>1</td>\n",
       "      <td>1</td>\n",
       "      <td>1</td>\n",
       "      <td>0</td>\n",
       "      <td>0</td>\n",
       "      <td>0</td>\n",
       "      <td>1</td>\n",
       "      <td>66</td>\n",
       "    </tr>\n",
       "    <tr>\n",
       "      <th>18</th>\n",
       "      <td>1</td>\n",
       "      <td>0.391514</td>\n",
       "      <td>5773</td>\n",
       "      <td>0</td>\n",
       "      <td>1</td>\n",
       "      <td>1</td>\n",
       "      <td>1</td>\n",
       "      <td>1</td>\n",
       "      <td>0</td>\n",
       "      <td>0</td>\n",
       "      <td>0</td>\n",
       "      <td>0</td>\n",
       "      <td>0</td>\n",
       "      <td>0</td>\n",
       "      <td>0</td>\n",
       "      <td>39</td>\n",
       "    </tr>\n",
       "    <tr>\n",
       "      <th>19</th>\n",
       "      <td>0</td>\n",
       "      <td>0.030504</td>\n",
       "      <td>3906</td>\n",
       "      <td>0</td>\n",
       "      <td>1</td>\n",
       "      <td>0</td>\n",
       "      <td>0</td>\n",
       "      <td>0</td>\n",
       "      <td>0</td>\n",
       "      <td>0</td>\n",
       "      <td>0</td>\n",
       "      <td>0</td>\n",
       "      <td>0</td>\n",
       "      <td>0</td>\n",
       "      <td>0</td>\n",
       "      <td>3</td>\n",
       "    </tr>\n",
       "  </tbody>\n",
       "</table>\n",
       "</div>"
      ],
      "text/plain": [
       "    Converted  Converted_Prob  LeadId  predicted  0.0  0.1  0.2  0.3  0.4  \\\n",
       "0           0        0.692600    2240          1    1    1    1    1    1   \n",
       "1           0        0.539248     113          1    1    1    1    1    1   \n",
       "2           1        0.718698    4132          1    1    1    1    1    1   \n",
       "3           0        0.133628    5573          0    1    1    0    0    0   \n",
       "4           0        0.014225    1109          0    1    0    0    0    0   \n",
       "5           0        0.031692    2282          0    1    0    0    0    0   \n",
       "6           1        0.854208    2976          1    1    1    1    1    1   \n",
       "7           0        0.399257    8431          0    1    1    1    1    0   \n",
       "8           1        0.745493    2770          1    1    1    1    1    1   \n",
       "9           1        0.995570    5790          1    1    1    1    1    1   \n",
       "10          1        0.957687    2943          1    1    1    1    1    1   \n",
       "11          0        0.243037    1196          0    1    1    1    0    0   \n",
       "12          1        0.531214    8874          1    1    1    1    1    1   \n",
       "13          0        0.130486    1491          0    1    1    0    0    0   \n",
       "14          0        0.098482    7676          0    1    0    0    0    0   \n",
       "15          1        0.460246    8750          0    1    1    1    1    1   \n",
       "16          1        0.833093    5049          1    1    1    1    1    1   \n",
       "17          0        0.658813    5691          1    1    1    1    1    1   \n",
       "18          1        0.391514    5773          0    1    1    1    1    0   \n",
       "19          0        0.030504    3906          0    1    0    0    0    0   \n",
       "\n",
       "    0.5  0.6  0.7  0.8  0.9  FINAL_PREDICTED  lead_score  \n",
       "0     1    1    0    0    0                1          69  \n",
       "1     1    0    0    0    0                1          54  \n",
       "2     1    1    1    0    0                1          72  \n",
       "3     0    0    0    0    0                0          13  \n",
       "4     0    0    0    0    0                0           1  \n",
       "5     0    0    0    0    0                0           3  \n",
       "6     1    1    1    1    0                1          85  \n",
       "7     0    0    0    0    0                0          40  \n",
       "8     1    1    1    0    0                1          75  \n",
       "9     1    1    1    1    1                1         100  \n",
       "10    1    1    1    1    1                1          96  \n",
       "11    0    0    0    0    0                0          24  \n",
       "12    1    0    0    0    0                1          53  \n",
       "13    0    0    0    0    0                0          13  \n",
       "14    0    0    0    0    0                0          10  \n",
       "15    0    0    0    0    0                1          46  \n",
       "16    1    1    1    1    0                1          83  \n",
       "17    1    1    0    0    0                1          66  \n",
       "18    0    0    0    0    0                0          39  \n",
       "19    0    0    0    0    0                0           3  "
      ]
     },
     "execution_count": 241,
     "metadata": {},
     "output_type": "execute_result"
    }
   ],
   "source": [
    "y_train_pred_final['lead_score'] = y_train_pred_final.Converted_Prob.map(lambda x: round(x*100))\n",
    "y_train_pred_final.head(20)"
   ]
  },
  {
   "cell_type": "code",
   "execution_count": 237,
   "id": "e6c15142",
   "metadata": {},
   "outputs": [
    {
     "name": "stdout",
     "output_type": "stream",
     "text": [
      "0.8166139240506329\n"
     ]
    }
   ],
   "source": [
    "print(metrics.accuracy_score(y_train_pred_final.Converted,y_train_pred_final.FINAL_PREDICTED))"
   ]
  },
  {
   "cell_type": "code",
   "execution_count": 242,
   "id": "93210c85",
   "metadata": {},
   "outputs": [
    {
     "data": {
      "text/plain": [
       "1    1926\n",
       "0     536\n",
       "Name: FINAL_PREDICTED, dtype: int64"
      ]
     },
     "execution_count": 242,
     "metadata": {},
     "output_type": "execute_result"
    }
   ],
   "source": [
    "checking_df = y_train_pred_final.loc[y_train_pred_final['Converted']==1,['Converted','FINAL_PREDICTED']]\n",
    "checking_df['FINAL_PREDICTED'].value_counts()"
   ]
  },
  {
   "cell_type": "code",
   "execution_count": 243,
   "id": "874051a6",
   "metadata": {},
   "outputs": [
    {
     "data": {
      "text/plain": [
       "0.7981316003249391"
      ]
     },
     "execution_count": 243,
     "metadata": {},
     "output_type": "execute_result"
    }
   ],
   "source": [
    "1965/float(1965+497)"
   ]
  },
  {
   "cell_type": "markdown",
   "id": "ee645967",
   "metadata": {},
   "source": [
    "#### Hence this is a good model."
   ]
  },
  {
   "cell_type": "markdown",
   "id": "9694fe3e",
   "metadata": {},
   "source": [
    "## ROC  Curve - Converted_Prob"
   ]
  },
  {
   "cell_type": "code",
   "execution_count": 238,
   "id": "8c1ede19",
   "metadata": {},
   "outputs": [],
   "source": [
    "def draw_roc( actual, probs ):\n",
    "    fpr, tpr, thresholds = metrics.roc_curve( actual, probs,\n",
    "                                              drop_intermediate = False )\n",
    "    auc_score = metrics.roc_auc_score( actual, probs )\n",
    "    plt.figure(figsize=(5, 5))\n",
    "    plt.plot( fpr, tpr, label='ROC curve (area = %0.2f)' % auc_score )\n",
    "    plt.plot([0, 1], [0, 1], 'k--')\n",
    "    plt.xlim([0.0, 1.0])\n",
    "    plt.ylim([0.0, 1.05])\n",
    "    plt.xlabel('False Positive Rate or [1 - True Negative Rate]')\n",
    "    plt.ylabel('True Positive Rate')\n",
    "    plt.title('Receiver operating characteristic example')\n",
    "    plt.legend(loc=\"lower right\")\n",
    "    plt.show()\n",
    "\n",
    "    return None"
   ]
  },
  {
   "cell_type": "code",
   "execution_count": 239,
   "id": "61e1862e",
   "metadata": {},
   "outputs": [],
   "source": [
    "fpr, tpr, thresholds = metrics.roc_curve( y_train_pred_final.Converted, y_train_pred_final.Converted_Prob, \n",
    "                                         drop_intermediate = False )"
   ]
  },
  {
   "cell_type": "code",
   "execution_count": 240,
   "id": "ff7b0373",
   "metadata": {},
   "outputs": [
    {
     "data": {
      "image/png": "[encoded data removed]",
      "text/plain": [
       "<Figure size 360x360 with 1 Axes>"
      ]
     },
     "metadata": {
      "needs_background": "light"
     },
     "output_type": "display_data"
    }
   ],
   "source": [
    "draw_roc(y_train_pred_final.Converted, y_train_pred_final.Converted_Prob)"
   ]
  },
  {
   "cell_type": "markdown",
   "id": "94dfedbf",
   "metadata": {},
   "source": [
    "### ROC Curve - Final Predicted"
   ]
  },
  {
   "cell_type": "code",
   "execution_count": 244,
   "id": "17da42e3",
   "metadata": {},
   "outputs": [],
   "source": [
    "fpr, tpr, thresholds = metrics.roc_curve( y_train_pred_final.Converted, y_train_pred_final.FINAL_PREDICTED, \n",
    "                                         drop_intermediate = False )"
   ]
  },
  {
   "cell_type": "code",
   "execution_count": 245,
   "id": "b426375e",
   "metadata": {},
   "outputs": [
    {
     "data": {
      "image/png": "[encoded data removed]",
      "text/plain": [
       "<Figure size 360x360 with 1 Axes>"
      ]
     },
     "metadata": {
      "needs_background": "light"
     },
     "output_type": "display_data"
    }
   ],
   "source": [
    "draw_roc(y_train_pred_final.Converted, y_train_pred_final.FINAL_PREDICTED)"
   ]
  },
  {
   "cell_type": "markdown",
   "id": "6958bebd",
   "metadata": {},
   "source": [
    "Hence we can see that the final prediction of conversions have a target of 80% (79.8%) conversion as per the X Educations CEO's requirement . Hence this is a good model."
   ]
  },
  {
   "cell_type": "code",
   "execution_count": 246,
   "id": "d28c5a11",
   "metadata": {},
   "outputs": [
    {
     "data": {
      "text/plain": [
       "0.8166139240506329"
      ]
     },
     "execution_count": 246,
     "metadata": {},
     "output_type": "execute_result"
    }
   ],
   "source": [
    "metrics.accuracy_score(y_train_pred_final.Converted, y_train_pred_final.FINAL_PREDICTED)"
   ]
  },
  {
   "cell_type": "code",
   "execution_count": 247,
   "id": "2820cdab",
   "metadata": {},
   "outputs": [
    {
     "data": {
      "text/plain": [
       "array([[3235,  623],\n",
       "       [ 536, 1926]], dtype=int64)"
      ]
     },
     "execution_count": 247,
     "metadata": {},
     "output_type": "execute_result"
    }
   ],
   "source": [
    "con_final = metrics.confusion_matrix(y_train_pred_final.Converted, y_train_pred_final.FINAL_PREDICTED)\n",
    "con_final"
   ]
  },
  {
   "cell_type": "code",
   "execution_count": 248,
   "id": "00a3e280",
   "metadata": {},
   "outputs": [],
   "source": [
    "TP = con_final[1,1] # true positive \n",
    "TN = con_final[0,0] # true negatives\n",
    "FP = con_final[0,1] # false positives\n",
    "FN = con_final[1,0] # false negatives"
   ]
  },
  {
   "cell_type": "markdown",
   "id": "af471bf2",
   "metadata": {},
   "source": [
    "SENSITIVITY"
   ]
  },
  {
   "cell_type": "code",
   "execution_count": 249,
   "id": "d742012a",
   "metadata": {},
   "outputs": [
    {
     "data": {
      "text/plain": [
       "0.7822908204711616"
      ]
     },
     "execution_count": 249,
     "metadata": {},
     "output_type": "execute_result"
    }
   ],
   "source": [
    "TP / float(TP+FN)"
   ]
  },
  {
   "cell_type": "markdown",
   "id": "a311273e",
   "metadata": {},
   "source": [
    "SPECIFICITY"
   ]
  },
  {
   "cell_type": "code",
   "execution_count": 250,
   "id": "3cf04091",
   "metadata": {},
   "outputs": [
    {
     "data": {
      "text/plain": [
       "0.8385173665111457"
      ]
     },
     "execution_count": 250,
     "metadata": {},
     "output_type": "execute_result"
    }
   ],
   "source": [
    "TN / float(TN+FP)"
   ]
  },
  {
   "cell_type": "markdown",
   "id": "c2e817c1",
   "metadata": {},
   "source": [
    "FALSE POSITIVE RATE"
   ]
  },
  {
   "cell_type": "code",
   "execution_count": 251,
   "id": "ec836a87",
   "metadata": {},
   "outputs": [
    {
     "name": "stdout",
     "output_type": "stream",
     "text": [
      "0.16148263348885433\n"
     ]
    }
   ],
   "source": [
    "print(FP/ float(TN+FP))"
   ]
  },
  {
   "cell_type": "markdown",
   "id": "d825597e",
   "metadata": {},
   "source": [
    "POSITIVE PREDICTIVE VALUE "
   ]
  },
  {
   "cell_type": "code",
   "execution_count": 252,
   "id": "ea69bda2",
   "metadata": {},
   "outputs": [
    {
     "name": "stdout",
     "output_type": "stream",
     "text": [
      "0.755590427618674\n"
     ]
    }
   ],
   "source": [
    "print (TP / float(TP+FP))"
   ]
  },
  {
   "cell_type": "markdown",
   "id": "d8999a7c",
   "metadata": {},
   "source": [
    "NEGATIVE PREDICTIVE VALUE"
   ]
  },
  {
   "cell_type": "code",
   "execution_count": 254,
   "id": "89d122ff",
   "metadata": {},
   "outputs": [
    {
     "name": "stdout",
     "output_type": "stream",
     "text": [
      "0.8578626359055953\n"
     ]
    }
   ],
   "source": [
    " print (TN / float(TN+ FN))"
   ]
  },
  {
   "cell_type": "markdown",
   "id": "e454f230",
   "metadata": {},
   "source": [
    "PRECISION AND RECALL"
   ]
  },
  {
   "cell_type": "code",
   "execution_count": 256,
   "id": "ce23c64d",
   "metadata": {},
   "outputs": [],
   "source": [
    "from sklearn.metrics import precision_score, recall_score"
   ]
  },
  {
   "cell_type": "code",
   "execution_count": 257,
   "id": "961a41fe",
   "metadata": {},
   "outputs": [
    {
     "data": {
      "text/plain": [
       "0.755590427618674"
      ]
     },
     "execution_count": 257,
     "metadata": {},
     "output_type": "execute_result"
    }
   ],
   "source": [
    "precision_score(y_train_pred_final.Converted, y_train_pred_final.FINAL_PREDICTED)"
   ]
  },
  {
   "cell_type": "code",
   "execution_count": 258,
   "id": "effd7878",
   "metadata": {},
   "outputs": [
    {
     "data": {
      "text/plain": [
       "0.7822908204711616"
      ]
     },
     "execution_count": 258,
     "metadata": {},
     "output_type": "execute_result"
    }
   ],
   "source": [
    "recall_score(y_train_pred_final.Converted, y_train_pred_final.FINAL_PREDICTED)"
   ]
  },
  {
   "cell_type": "code",
   "execution_count": 259,
   "id": "dbbedffb",
   "metadata": {},
   "outputs": [],
   "source": [
    "from sklearn.metrics import precision_recall_curve"
   ]
  },
  {
   "cell_type": "code",
   "execution_count": 260,
   "id": "226c13a8",
   "metadata": {},
   "outputs": [
    {
     "data": {
      "text/plain": [
       "(0       0\n",
       " 1       0\n",
       " 2       1\n",
       " 3       0\n",
       " 4       0\n",
       "        ..\n",
       " 6315    1\n",
       " 6316    1\n",
       " 6317    0\n",
       " 6318    0\n",
       " 6319    0\n",
       " Name: Converted, Length: 6320, dtype: int64,\n",
       " 0       1\n",
       " 1       1\n",
       " 2       1\n",
       " 3       0\n",
       " 4       0\n",
       "        ..\n",
       " 6315    1\n",
       " 6316    1\n",
       " 6317    0\n",
       " 6318    0\n",
       " 6319    0\n",
       " Name: FINAL_PREDICTED, Length: 6320, dtype: int64)"
      ]
     },
     "execution_count": 260,
     "metadata": {},
     "output_type": "execute_result"
    }
   ],
   "source": [
    "y_train_pred_final.Converted, y_train_pred_final.FINAL_PREDICTED"
   ]
  },
  {
   "cell_type": "code",
   "execution_count": 261,
   "id": "3394cf0a",
   "metadata": {},
   "outputs": [],
   "source": [
    "p, r, thresholds = precision_recall_curve(y_train_pred_final.Converted, y_train_pred_final.Converted_Prob)"
   ]
  },
  {
   "cell_type": "code",
   "execution_count": 262,
   "id": "46126452",
   "metadata": {},
   "outputs": [
    {
     "data": {
      "image/png": "[encoded data removed]",
      "text/plain": [
       "<Figure size 432x288 with 1 Axes>"
      ]
     },
     "metadata": {
      "needs_background": "light"
     },
     "output_type": "display_data"
    }
   ],
   "source": [
    "plt.plot(thresholds, p[:-1], \"g-\")\n",
    "plt.plot(thresholds, r[:-1], \"r-\")\n",
    "plt.show()"
   ]
  },
  {
   "cell_type": "markdown",
   "id": "a45c6128",
   "metadata": {},
   "source": [
    "## Making Predictions on test data."
   ]
  },
  {
   "cell_type": "code",
   "execution_count": 263,
   "id": "75df3e9d",
   "metadata": {},
   "outputs": [],
   "source": [
    "X_test[['TotalVisits','Total Time Spent on Website','Page Views Per Visit']] = scaler.transform(X_test[['TotalVisits',\n",
    "                                                                        'Total Time Spent on Website','Page Views Per Visit']])"
   ]
  },
  {
   "cell_type": "code",
   "execution_count": 264,
   "id": "a0153a82",
   "metadata": {},
   "outputs": [
    {
     "data": {
      "text/html": [
       "<div>\n",
       "<style scoped>\n",
       "    .dataframe tbody tr th:only-of-type {\n",
       "        vertical-align: middle;\n",
       "    }\n",
       "\n",
       "    .dataframe tbody tr th {\n",
       "        vertical-align: top;\n",
       "    }\n",
       "\n",
       "    .dataframe thead th {\n",
       "        text-align: right;\n",
       "    }\n",
       "</style>\n",
       "<table border=\"1\" class=\"dataframe\">\n",
       "  <thead>\n",
       "    <tr style=\"text-align: right;\">\n",
       "      <th></th>\n",
       "      <th>Do Not Email</th>\n",
       "      <th>TotalVisits</th>\n",
       "      <th>Total Time Spent on Website</th>\n",
       "      <th>Page Views Per Visit</th>\n",
       "      <th>Lead Origin_Lead Add Form</th>\n",
       "      <th>Lead Source_Olark Chat</th>\n",
       "      <th>Lead Source_Welingak Website</th>\n",
       "      <th>Last Activity_Email Opened</th>\n",
       "      <th>Last Activity_Olark Chat Conversation</th>\n",
       "      <th>Last Activity_SMS Sent</th>\n",
       "      <th>What is your current occupation_Unknown</th>\n",
       "      <th>What is your current occupation_Working Professional</th>\n",
       "      <th>Last Notable Activity_Had a Phone Conversation</th>\n",
       "      <th>Last Notable Activity_Modified</th>\n",
       "      <th>Last Notable Activity_Unreachable</th>\n",
       "    </tr>\n",
       "  </thead>\n",
       "  <tbody>\n",
       "    <tr>\n",
       "      <th>2296</th>\n",
       "      <td>0</td>\n",
       "      <td>0.1875</td>\n",
       "      <td>0.665313</td>\n",
       "      <td>0.37500</td>\n",
       "      <td>0</td>\n",
       "      <td>0</td>\n",
       "      <td>0</td>\n",
       "      <td>0</td>\n",
       "      <td>0</td>\n",
       "      <td>1</td>\n",
       "      <td>0</td>\n",
       "      <td>0</td>\n",
       "      <td>0</td>\n",
       "      <td>0</td>\n",
       "      <td>0</td>\n",
       "    </tr>\n",
       "    <tr>\n",
       "      <th>8697</th>\n",
       "      <td>0</td>\n",
       "      <td>0.4375</td>\n",
       "      <td>0.184032</td>\n",
       "      <td>0.21875</td>\n",
       "      <td>0</td>\n",
       "      <td>0</td>\n",
       "      <td>0</td>\n",
       "      <td>0</td>\n",
       "      <td>0</td>\n",
       "      <td>1</td>\n",
       "      <td>0</td>\n",
       "      <td>0</td>\n",
       "      <td>0</td>\n",
       "      <td>0</td>\n",
       "      <td>0</td>\n",
       "    </tr>\n",
       "    <tr>\n",
       "      <th>7378</th>\n",
       "      <td>0</td>\n",
       "      <td>0.1250</td>\n",
       "      <td>0.163284</td>\n",
       "      <td>0.25000</td>\n",
       "      <td>0</td>\n",
       "      <td>0</td>\n",
       "      <td>0</td>\n",
       "      <td>1</td>\n",
       "      <td>0</td>\n",
       "      <td>0</td>\n",
       "      <td>0</td>\n",
       "      <td>0</td>\n",
       "      <td>0</td>\n",
       "      <td>0</td>\n",
       "      <td>0</td>\n",
       "    </tr>\n",
       "    <tr>\n",
       "      <th>8631</th>\n",
       "      <td>0</td>\n",
       "      <td>0.3125</td>\n",
       "      <td>0.407307</td>\n",
       "      <td>0.62500</td>\n",
       "      <td>0</td>\n",
       "      <td>0</td>\n",
       "      <td>0</td>\n",
       "      <td>0</td>\n",
       "      <td>0</td>\n",
       "      <td>1</td>\n",
       "      <td>0</td>\n",
       "      <td>0</td>\n",
       "      <td>0</td>\n",
       "      <td>1</td>\n",
       "      <td>0</td>\n",
       "    </tr>\n",
       "    <tr>\n",
       "      <th>4799</th>\n",
       "      <td>0</td>\n",
       "      <td>0.5000</td>\n",
       "      <td>0.744700</td>\n",
       "      <td>1.00000</td>\n",
       "      <td>0</td>\n",
       "      <td>0</td>\n",
       "      <td>0</td>\n",
       "      <td>0</td>\n",
       "      <td>0</td>\n",
       "      <td>1</td>\n",
       "      <td>0</td>\n",
       "      <td>0</td>\n",
       "      <td>0</td>\n",
       "      <td>0</td>\n",
       "      <td>0</td>\n",
       "    </tr>\n",
       "  </tbody>\n",
       "</table>\n",
       "</div>"
      ],
      "text/plain": [
       "      Do Not Email  TotalVisits  Total Time Spent on Website  \\\n",
       "2296             0       0.1875                     0.665313   \n",
       "8697             0       0.4375                     0.184032   \n",
       "7378             0       0.1250                     0.163284   \n",
       "8631             0       0.3125                     0.407307   \n",
       "4799             0       0.5000                     0.744700   \n",
       "\n",
       "      Page Views Per Visit  Lead Origin_Lead Add Form  Lead Source_Olark Chat  \\\n",
       "2296               0.37500                          0                       0   \n",
       "8697               0.21875                          0                       0   \n",
       "7378               0.25000                          0                       0   \n",
       "8631               0.62500                          0                       0   \n",
       "4799               1.00000                          0                       0   \n",
       "\n",
       "      Lead Source_Welingak Website  Last Activity_Email Opened  \\\n",
       "2296                             0                           0   \n",
       "8697                             0                           0   \n",
       "7378                             0                           1   \n",
       "8631                             0                           0   \n",
       "4799                             0                           0   \n",
       "\n",
       "      Last Activity_Olark Chat Conversation  Last Activity_SMS Sent  \\\n",
       "2296                                      0                       1   \n",
       "8697                                      0                       1   \n",
       "7378                                      0                       0   \n",
       "8631                                      0                       1   \n",
       "4799                                      0                       1   \n",
       "\n",
       "      What is your current occupation_Unknown  \\\n",
       "2296                                        0   \n",
       "8697                                        0   \n",
       "7378                                        0   \n",
       "8631                                        0   \n",
       "4799                                        0   \n",
       "\n",
       "      What is your current occupation_Working Professional  \\\n",
       "2296                                                  0      \n",
       "8697                                                  0      \n",
       "7378                                                  0      \n",
       "8631                                                  0      \n",
       "4799                                                  0      \n",
       "\n",
       "      Last Notable Activity_Had a Phone Conversation  \\\n",
       "2296                                               0   \n",
       "8697                                               0   \n",
       "7378                                               0   \n",
       "8631                                               0   \n",
       "4799                                               0   \n",
       "\n",
       "      Last Notable Activity_Modified  Last Notable Activity_Unreachable  \n",
       "2296                               0                                  0  \n",
       "8697                               0                                  0  \n",
       "7378                               0                                  0  \n",
       "8631                               1                                  0  \n",
       "4799                               0                                  0  "
      ]
     },
     "execution_count": 264,
     "metadata": {},
     "output_type": "execute_result"
    }
   ],
   "source": [
    "X_test = X_test[rfe_col]\n",
    "X_test.head()"
   ]
  },
  {
   "cell_type": "code",
   "execution_count": 265,
   "id": "3a54d2fd",
   "metadata": {},
   "outputs": [],
   "source": [
    "X_test_sm = sm.add_constant(X_test)"
   ]
  },
  {
   "cell_type": "code",
   "execution_count": 266,
   "id": "a446c750",
   "metadata": {},
   "outputs": [],
   "source": [
    "y_test_pred = res.predict(X_test_sm)"
   ]
  },
  {
   "cell_type": "code",
   "execution_count": 267,
   "id": "fb8356ed",
   "metadata": {},
   "outputs": [
    {
     "data": {
      "text/plain": [
       "2296    0.900062\n",
       "8697    0.644749\n",
       "7378    0.220473\n",
       "8631    0.623345\n",
       "4799    0.928426\n",
       "4503    0.357389\n",
       "7129    0.863910\n",
       "1717    0.144108\n",
       "8398    0.864212\n",
       "5116    0.255433\n",
       "dtype: float64"
      ]
     },
     "execution_count": 267,
     "metadata": {},
     "output_type": "execute_result"
    }
   ],
   "source": [
    "y_test_pred[:10]"
   ]
  },
  {
   "cell_type": "code",
   "execution_count": 268,
   "id": "8c28dd25",
   "metadata": {},
   "outputs": [],
   "source": [
    "y_pred_1 = pd.DataFrame(y_test_pred)"
   ]
  },
  {
   "cell_type": "code",
   "execution_count": 269,
   "id": "3db18a9c",
   "metadata": {},
   "outputs": [
    {
     "data": {
      "text/html": [
       "<div>\n",
       "<style scoped>\n",
       "    .dataframe tbody tr th:only-of-type {\n",
       "        vertical-align: middle;\n",
       "    }\n",
       "\n",
       "    .dataframe tbody tr th {\n",
       "        vertical-align: top;\n",
       "    }\n",
       "\n",
       "    .dataframe thead th {\n",
       "        text-align: right;\n",
       "    }\n",
       "</style>\n",
       "<table border=\"1\" class=\"dataframe\">\n",
       "  <thead>\n",
       "    <tr style=\"text-align: right;\">\n",
       "      <th></th>\n",
       "      <th>0</th>\n",
       "    </tr>\n",
       "  </thead>\n",
       "  <tbody>\n",
       "    <tr>\n",
       "      <th>2296</th>\n",
       "      <td>0.900062</td>\n",
       "    </tr>\n",
       "    <tr>\n",
       "      <th>8697</th>\n",
       "      <td>0.644749</td>\n",
       "    </tr>\n",
       "    <tr>\n",
       "      <th>7378</th>\n",
       "      <td>0.220473</td>\n",
       "    </tr>\n",
       "    <tr>\n",
       "      <th>8631</th>\n",
       "      <td>0.623345</td>\n",
       "    </tr>\n",
       "    <tr>\n",
       "      <th>4799</th>\n",
       "      <td>0.928426</td>\n",
       "    </tr>\n",
       "  </tbody>\n",
       "</table>\n",
       "</div>"
      ],
      "text/plain": [
       "             0\n",
       "2296  0.900062\n",
       "8697  0.644749\n",
       "7378  0.220473\n",
       "8631  0.623345\n",
       "4799  0.928426"
      ]
     },
     "execution_count": 269,
     "metadata": {},
     "output_type": "execute_result"
    }
   ],
   "source": [
    "y_pred_1.head()"
   ]
  },
  {
   "cell_type": "code",
   "execution_count": 270,
   "id": "c445d7b0",
   "metadata": {},
   "outputs": [],
   "source": [
    "y_test_df = pd.DataFrame(y_test)"
   ]
  },
  {
   "cell_type": "code",
   "execution_count": 271,
   "id": "8bfb106b",
   "metadata": {},
   "outputs": [],
   "source": [
    "y_test_df['LeadId'] = y_test_df.index"
   ]
  },
  {
   "cell_type": "code",
   "execution_count": 272,
   "id": "05754b4e",
   "metadata": {},
   "outputs": [],
   "source": [
    "y_pred_1.reset_index(drop=True, inplace=True)\n",
    "y_test_df.reset_index(drop=True, inplace=True)"
   ]
  },
  {
   "cell_type": "code",
   "execution_count": 273,
   "id": "ecd73c48",
   "metadata": {},
   "outputs": [],
   "source": [
    "y_pred_final = pd.concat([y_test_df, y_pred_1],axis=1)"
   ]
  },
  {
   "cell_type": "code",
   "execution_count": 274,
   "id": "0ff9c4e5",
   "metadata": {},
   "outputs": [
    {
     "data": {
      "text/html": [
       "<div>\n",
       "<style scoped>\n",
       "    .dataframe tbody tr th:only-of-type {\n",
       "        vertical-align: middle;\n",
       "    }\n",
       "\n",
       "    .dataframe tbody tr th {\n",
       "        vertical-align: top;\n",
       "    }\n",
       "\n",
       "    .dataframe thead th {\n",
       "        text-align: right;\n",
       "    }\n",
       "</style>\n",
       "<table border=\"1\" class=\"dataframe\">\n",
       "  <thead>\n",
       "    <tr style=\"text-align: right;\">\n",
       "      <th></th>\n",
       "      <th>Converted</th>\n",
       "      <th>LeadId</th>\n",
       "      <th>0</th>\n",
       "    </tr>\n",
       "  </thead>\n",
       "  <tbody>\n",
       "    <tr>\n",
       "      <th>0</th>\n",
       "      <td>1</td>\n",
       "      <td>2296</td>\n",
       "      <td>0.900062</td>\n",
       "    </tr>\n",
       "    <tr>\n",
       "      <th>1</th>\n",
       "      <td>0</td>\n",
       "      <td>8697</td>\n",
       "      <td>0.644749</td>\n",
       "    </tr>\n",
       "    <tr>\n",
       "      <th>2</th>\n",
       "      <td>0</td>\n",
       "      <td>7378</td>\n",
       "      <td>0.220473</td>\n",
       "    </tr>\n",
       "    <tr>\n",
       "      <th>3</th>\n",
       "      <td>0</td>\n",
       "      <td>8631</td>\n",
       "      <td>0.623345</td>\n",
       "    </tr>\n",
       "    <tr>\n",
       "      <th>4</th>\n",
       "      <td>1</td>\n",
       "      <td>4799</td>\n",
       "      <td>0.928426</td>\n",
       "    </tr>\n",
       "  </tbody>\n",
       "</table>\n",
       "</div>"
      ],
      "text/plain": [
       "   Converted  LeadId         0\n",
       "0          1    2296  0.900062\n",
       "1          0    8697  0.644749\n",
       "2          0    7378  0.220473\n",
       "3          0    8631  0.623345\n",
       "4          1    4799  0.928426"
      ]
     },
     "execution_count": 274,
     "metadata": {},
     "output_type": "execute_result"
    }
   ],
   "source": [
    "y_pred_final.head()"
   ]
  },
  {
   "cell_type": "code",
   "execution_count": 275,
   "id": "dabd5625",
   "metadata": {},
   "outputs": [],
   "source": [
    "y_pred_final= y_pred_final.rename(columns={ 0 : 'Converted_Prob'})"
   ]
  },
  {
   "cell_type": "code",
   "execution_count": 280,
   "id": "7dc4e620",
   "metadata": {},
   "outputs": [],
   "source": [
    "y_pred_final = y_pred_final.reindex(['LeadId','Converted','Converted_Prob'], axis=1)"
   ]
  },
  {
   "cell_type": "code",
   "execution_count": 281,
   "id": "3f929ba8",
   "metadata": {},
   "outputs": [
    {
     "data": {
      "text/html": [
       "<div>\n",
       "<style scoped>\n",
       "    .dataframe tbody tr th:only-of-type {\n",
       "        vertical-align: middle;\n",
       "    }\n",
       "\n",
       "    .dataframe tbody tr th {\n",
       "        vertical-align: top;\n",
       "    }\n",
       "\n",
       "    .dataframe thead th {\n",
       "        text-align: right;\n",
       "    }\n",
       "</style>\n",
       "<table border=\"1\" class=\"dataframe\">\n",
       "  <thead>\n",
       "    <tr style=\"text-align: right;\">\n",
       "      <th></th>\n",
       "      <th>LeadId</th>\n",
       "      <th>Converted</th>\n",
       "      <th>Converted_Prob</th>\n",
       "    </tr>\n",
       "  </thead>\n",
       "  <tbody>\n",
       "    <tr>\n",
       "      <th>0</th>\n",
       "      <td>2296</td>\n",
       "      <td>1</td>\n",
       "      <td>0.900062</td>\n",
       "    </tr>\n",
       "    <tr>\n",
       "      <th>1</th>\n",
       "      <td>8697</td>\n",
       "      <td>0</td>\n",
       "      <td>0.644749</td>\n",
       "    </tr>\n",
       "    <tr>\n",
       "      <th>2</th>\n",
       "      <td>7378</td>\n",
       "      <td>0</td>\n",
       "      <td>0.220473</td>\n",
       "    </tr>\n",
       "    <tr>\n",
       "      <th>3</th>\n",
       "      <td>8631</td>\n",
       "      <td>0</td>\n",
       "      <td>0.623345</td>\n",
       "    </tr>\n",
       "    <tr>\n",
       "      <th>4</th>\n",
       "      <td>4799</td>\n",
       "      <td>1</td>\n",
       "      <td>0.928426</td>\n",
       "    </tr>\n",
       "  </tbody>\n",
       "</table>\n",
       "</div>"
      ],
      "text/plain": [
       "   LeadId  Converted  Converted_Prob\n",
       "0    2296          1        0.900062\n",
       "1    8697          0        0.644749\n",
       "2    7378          0        0.220473\n",
       "3    8631          0        0.623345\n",
       "4    4799          1        0.928426"
      ]
     },
     "execution_count": 281,
     "metadata": {},
     "output_type": "execute_result"
    }
   ],
   "source": [
    "y_pred_final.head()"
   ]
  },
  {
   "cell_type": "code",
   "execution_count": 282,
   "id": "0041a3be",
   "metadata": {},
   "outputs": [],
   "source": [
    "y_pred_final['FINAL_PREDICTED'] = y_pred_final.Converted_Prob.map(lambda x: 1 if x > 0.37 else 0)"
   ]
  },
  {
   "cell_type": "code",
   "execution_count": 283,
   "id": "0fdd7918",
   "metadata": {},
   "outputs": [
    {
     "data": {
      "text/html": [
       "<div>\n",
       "<style scoped>\n",
       "    .dataframe tbody tr th:only-of-type {\n",
       "        vertical-align: middle;\n",
       "    }\n",
       "\n",
       "    .dataframe tbody tr th {\n",
       "        vertical-align: top;\n",
       "    }\n",
       "\n",
       "    .dataframe thead th {\n",
       "        text-align: right;\n",
       "    }\n",
       "</style>\n",
       "<table border=\"1\" class=\"dataframe\">\n",
       "  <thead>\n",
       "    <tr style=\"text-align: right;\">\n",
       "      <th></th>\n",
       "      <th>LeadId</th>\n",
       "      <th>Converted</th>\n",
       "      <th>Converted_Prob</th>\n",
       "      <th>FINAL_PREDICTED</th>\n",
       "    </tr>\n",
       "  </thead>\n",
       "  <tbody>\n",
       "    <tr>\n",
       "      <th>0</th>\n",
       "      <td>2296</td>\n",
       "      <td>1</td>\n",
       "      <td>0.900062</td>\n",
       "      <td>1</td>\n",
       "    </tr>\n",
       "    <tr>\n",
       "      <th>1</th>\n",
       "      <td>8697</td>\n",
       "      <td>0</td>\n",
       "      <td>0.644749</td>\n",
       "      <td>1</td>\n",
       "    </tr>\n",
       "    <tr>\n",
       "      <th>2</th>\n",
       "      <td>7378</td>\n",
       "      <td>0</td>\n",
       "      <td>0.220473</td>\n",
       "      <td>0</td>\n",
       "    </tr>\n",
       "    <tr>\n",
       "      <th>3</th>\n",
       "      <td>8631</td>\n",
       "      <td>0</td>\n",
       "      <td>0.623345</td>\n",
       "      <td>1</td>\n",
       "    </tr>\n",
       "    <tr>\n",
       "      <th>4</th>\n",
       "      <td>4799</td>\n",
       "      <td>1</td>\n",
       "      <td>0.928426</td>\n",
       "      <td>1</td>\n",
       "    </tr>\n",
       "  </tbody>\n",
       "</table>\n",
       "</div>"
      ],
      "text/plain": [
       "   LeadId  Converted  Converted_Prob  FINAL_PREDICTED\n",
       "0    2296          1        0.900062                1\n",
       "1    8697          0        0.644749                1\n",
       "2    7378          0        0.220473                0\n",
       "3    8631          0        0.623345                1\n",
       "4    4799          1        0.928426                1"
      ]
     },
     "execution_count": 283,
     "metadata": {},
     "output_type": "execute_result"
    }
   ],
   "source": [
    "y_pred_final.head()"
   ]
  },
  {
   "cell_type": "code",
   "execution_count": 284,
   "id": "9aa9d5b3",
   "metadata": {},
   "outputs": [
    {
     "data": {
      "text/html": [
       "<div>\n",
       "<style scoped>\n",
       "    .dataframe tbody tr th:only-of-type {\n",
       "        vertical-align: middle;\n",
       "    }\n",
       "\n",
       "    .dataframe tbody tr th {\n",
       "        vertical-align: top;\n",
       "    }\n",
       "\n",
       "    .dataframe thead th {\n",
       "        text-align: right;\n",
       "    }\n",
       "</style>\n",
       "<table border=\"1\" class=\"dataframe\">\n",
       "  <thead>\n",
       "    <tr style=\"text-align: right;\">\n",
       "      <th></th>\n",
       "      <th>LeadId</th>\n",
       "      <th>Converted</th>\n",
       "      <th>Converted_Prob</th>\n",
       "      <th>FINAL_PREDICTED</th>\n",
       "      <th>lead_score</th>\n",
       "    </tr>\n",
       "  </thead>\n",
       "  <tbody>\n",
       "    <tr>\n",
       "      <th>0</th>\n",
       "      <td>2296</td>\n",
       "      <td>1</td>\n",
       "      <td>0.900062</td>\n",
       "      <td>1</td>\n",
       "      <td>90</td>\n",
       "    </tr>\n",
       "    <tr>\n",
       "      <th>1</th>\n",
       "      <td>8697</td>\n",
       "      <td>0</td>\n",
       "      <td>0.644749</td>\n",
       "      <td>1</td>\n",
       "      <td>64</td>\n",
       "    </tr>\n",
       "    <tr>\n",
       "      <th>2</th>\n",
       "      <td>7378</td>\n",
       "      <td>0</td>\n",
       "      <td>0.220473</td>\n",
       "      <td>0</td>\n",
       "      <td>22</td>\n",
       "    </tr>\n",
       "    <tr>\n",
       "      <th>3</th>\n",
       "      <td>8631</td>\n",
       "      <td>0</td>\n",
       "      <td>0.623345</td>\n",
       "      <td>1</td>\n",
       "      <td>62</td>\n",
       "    </tr>\n",
       "    <tr>\n",
       "      <th>4</th>\n",
       "      <td>4799</td>\n",
       "      <td>1</td>\n",
       "      <td>0.928426</td>\n",
       "      <td>1</td>\n",
       "      <td>93</td>\n",
       "    </tr>\n",
       "    <tr>\n",
       "      <th>5</th>\n",
       "      <td>4503</td>\n",
       "      <td>0</td>\n",
       "      <td>0.357389</td>\n",
       "      <td>0</td>\n",
       "      <td>36</td>\n",
       "    </tr>\n",
       "    <tr>\n",
       "      <th>6</th>\n",
       "      <td>7129</td>\n",
       "      <td>0</td>\n",
       "      <td>0.863910</td>\n",
       "      <td>1</td>\n",
       "      <td>86</td>\n",
       "    </tr>\n",
       "    <tr>\n",
       "      <th>7</th>\n",
       "      <td>1717</td>\n",
       "      <td>0</td>\n",
       "      <td>0.144108</td>\n",
       "      <td>0</td>\n",
       "      <td>14</td>\n",
       "    </tr>\n",
       "    <tr>\n",
       "      <th>8</th>\n",
       "      <td>8398</td>\n",
       "      <td>0</td>\n",
       "      <td>0.864212</td>\n",
       "      <td>1</td>\n",
       "      <td>86</td>\n",
       "    </tr>\n",
       "    <tr>\n",
       "      <th>9</th>\n",
       "      <td>5116</td>\n",
       "      <td>1</td>\n",
       "      <td>0.255433</td>\n",
       "      <td>0</td>\n",
       "      <td>26</td>\n",
       "    </tr>\n",
       "    <tr>\n",
       "      <th>10</th>\n",
       "      <td>1838</td>\n",
       "      <td>0</td>\n",
       "      <td>0.212450</td>\n",
       "      <td>0</td>\n",
       "      <td>21</td>\n",
       "    </tr>\n",
       "    <tr>\n",
       "      <th>11</th>\n",
       "      <td>5057</td>\n",
       "      <td>1</td>\n",
       "      <td>0.435407</td>\n",
       "      <td>1</td>\n",
       "      <td>44</td>\n",
       "    </tr>\n",
       "    <tr>\n",
       "      <th>12</th>\n",
       "      <td>7015</td>\n",
       "      <td>0</td>\n",
       "      <td>0.009912</td>\n",
       "      <td>0</td>\n",
       "      <td>1</td>\n",
       "    </tr>\n",
       "    <tr>\n",
       "      <th>13</th>\n",
       "      <td>6352</td>\n",
       "      <td>0</td>\n",
       "      <td>0.148282</td>\n",
       "      <td>0</td>\n",
       "      <td>15</td>\n",
       "    </tr>\n",
       "    <tr>\n",
       "      <th>14</th>\n",
       "      <td>575</td>\n",
       "      <td>0</td>\n",
       "      <td>0.098482</td>\n",
       "      <td>0</td>\n",
       "      <td>10</td>\n",
       "    </tr>\n",
       "    <tr>\n",
       "      <th>15</th>\n",
       "      <td>4597</td>\n",
       "      <td>1</td>\n",
       "      <td>0.160092</td>\n",
       "      <td>0</td>\n",
       "      <td>16</td>\n",
       "    </tr>\n",
       "    <tr>\n",
       "      <th>16</th>\n",
       "      <td>8355</td>\n",
       "      <td>0</td>\n",
       "      <td>0.608597</td>\n",
       "      <td>1</td>\n",
       "      <td>61</td>\n",
       "    </tr>\n",
       "    <tr>\n",
       "      <th>17</th>\n",
       "      <td>8574</td>\n",
       "      <td>1</td>\n",
       "      <td>0.503163</td>\n",
       "      <td>1</td>\n",
       "      <td>50</td>\n",
       "    </tr>\n",
       "    <tr>\n",
       "      <th>18</th>\n",
       "      <td>4207</td>\n",
       "      <td>0</td>\n",
       "      <td>0.018700</td>\n",
       "      <td>0</td>\n",
       "      <td>2</td>\n",
       "    </tr>\n",
       "    <tr>\n",
       "      <th>19</th>\n",
       "      <td>4420</td>\n",
       "      <td>1</td>\n",
       "      <td>0.749368</td>\n",
       "      <td>1</td>\n",
       "      <td>75</td>\n",
       "    </tr>\n",
       "  </tbody>\n",
       "</table>\n",
       "</div>"
      ],
      "text/plain": [
       "    LeadId  Converted  Converted_Prob  FINAL_PREDICTED  lead_score\n",
       "0     2296          1        0.900062                1          90\n",
       "1     8697          0        0.644749                1          64\n",
       "2     7378          0        0.220473                0          22\n",
       "3     8631          0        0.623345                1          62\n",
       "4     4799          1        0.928426                1          93\n",
       "5     4503          0        0.357389                0          36\n",
       "6     7129          0        0.863910                1          86\n",
       "7     1717          0        0.144108                0          14\n",
       "8     8398          0        0.864212                1          86\n",
       "9     5116          1        0.255433                0          26\n",
       "10    1838          0        0.212450                0          21\n",
       "11    5057          1        0.435407                1          44\n",
       "12    7015          0        0.009912                0           1\n",
       "13    6352          0        0.148282                0          15\n",
       "14     575          0        0.098482                0          10\n",
       "15    4597          1        0.160092                0          16\n",
       "16    8355          0        0.608597                1          61\n",
       "17    8574          1        0.503163                1          50\n",
       "18    4207          0        0.018700                0           2\n",
       "19    4420          1        0.749368                1          75"
      ]
     },
     "execution_count": 284,
     "metadata": {},
     "output_type": "execute_result"
    }
   ],
   "source": [
    "y_pred_final['lead_score'] = y_pred_final.Converted_Prob.map(lambda x: round(x*100))\n",
    "y_pred_final.head(20)"
   ]
  },
  {
   "cell_type": "code",
   "execution_count": 285,
   "id": "0dfdee31",
   "metadata": {},
   "outputs": [
    {
     "data": {
      "text/plain": [
       "1    812\n",
       "0    203\n",
       "Name: FINAL_PREDICTED, dtype: int64"
      ]
     },
     "execution_count": 285,
     "metadata": {},
     "output_type": "execute_result"
    }
   ],
   "source": [
    "checking_test_df = y_pred_final.loc[y_pred_final['Converted']==1,['Converted','FINAL_PREDICTED']]\n",
    "checking_test_df['FINAL_PREDICTED'].value_counts()"
   ]
  },
  {
   "cell_type": "code",
   "execution_count": 286,
   "id": "2f937c43",
   "metadata": {},
   "outputs": [
    {
     "data": {
      "text/plain": [
       "0.7852216748768472"
      ]
     },
     "execution_count": 286,
     "metadata": {},
     "output_type": "execute_result"
    }
   ],
   "source": [
    "797/float(797+218)"
   ]
  },
  {
   "cell_type": "code",
   "execution_count": 287,
   "id": "93664b1a",
   "metadata": {},
   "outputs": [
    {
     "data": {
      "text/plain": [
       "0.813953488372093"
      ]
     },
     "execution_count": 287,
     "metadata": {},
     "output_type": "execute_result"
    }
   ],
   "source": [
    "metrics.accuracy_score(y_pred_final.Converted, y_pred_final.FINAL_PREDICTED)"
   ]
  },
  {
   "cell_type": "code",
   "execution_count": 288,
   "id": "237cce85",
   "metadata": {},
   "outputs": [
    {
     "data": {
      "text/plain": [
       "array([[1393,  301],\n",
       "       [ 203,  812]], dtype=int64)"
      ]
     },
     "execution_count": 288,
     "metadata": {},
     "output_type": "execute_result"
    }
   ],
   "source": [
    "con_test = metrics.confusion_matrix(y_pred_final.Converted, y_pred_final.FINAL_PREDICTED)\n",
    "con_test"
   ]
  },
  {
   "cell_type": "code",
   "execution_count": 289,
   "id": "1e18e23b",
   "metadata": {},
   "outputs": [],
   "source": [
    "TP = con_test[1,1] # true positive \n",
    "TN = con_test[0,0] # true negatives\n",
    "FP = con_test[0,1] # false positives\n",
    "FN = con_test[1,0] # false negatives"
   ]
  },
  {
   "cell_type": "markdown",
   "id": "059c3fa9",
   "metadata": {},
   "source": [
    "SENSITIVITY"
   ]
  },
  {
   "cell_type": "code",
   "execution_count": 290,
   "id": "58e056e1",
   "metadata": {},
   "outputs": [
    {
     "data": {
      "text/plain": [
       "0.8"
      ]
     },
     "execution_count": 290,
     "metadata": {},
     "output_type": "execute_result"
    }
   ],
   "source": [
    "TP / float(TP+FN)"
   ]
  },
  {
   "cell_type": "markdown",
   "id": "e46bbbfc",
   "metadata": {},
   "source": [
    "SPECIFICITY"
   ]
  },
  {
   "cell_type": "code",
   "execution_count": 291,
   "id": "8294b09a",
   "metadata": {},
   "outputs": [
    {
     "data": {
      "text/plain": [
       "0.8223140495867769"
      ]
     },
     "execution_count": 291,
     "metadata": {},
     "output_type": "execute_result"
    }
   ],
   "source": [
    "TN / float(TN+FP)"
   ]
  },
  {
   "cell_type": "code",
   "execution_count": 293,
   "id": "3d2fa109",
   "metadata": {},
   "outputs": [
    {
     "name": "stdout",
     "output_type": "stream",
     "text": [
      "precision  0.7295597484276729\n",
      "recall  0.8\n"
     ]
    }
   ],
   "source": [
    "print('precision ',precision_score(y_pred_final.Converted, y_pred_final.FINAL_PREDICTED))\n",
    "print('recall ',recall_score(y_pred_final.Converted, y_pred_final.FINAL_PREDICTED))"
   ]
  },
  {
   "cell_type": "code",
   "execution_count": 294,
   "id": "196cb1a2",
   "metadata": {},
   "outputs": [
    {
     "data": {
      "image/png": "[encoded data removed]",
      "text/plain": [
       "<Figure size 432x288 with 1 Axes>"
      ]
     },
     "metadata": {
      "needs_background": "light"
     },
     "output_type": "display_data"
    }
   ],
   "source": [
    "p, r, thresholds = precision_recall_curve(y_pred_final.Converted, y_pred_final.Converted_Prob)\n",
    "\n",
    "plt.plot(thresholds, p[:-1], \"g-\")\n",
    "plt.plot(thresholds, r[:-1], \"r-\")\n",
    "plt.show()"
   ]
  },
  {
   "cell_type": "markdown",
   "id": "45c6077a",
   "metadata": {},
   "source": [
    "CONCLUSION: \n",
    "1.we have checked both Sensitivity-Specificity as well as Precision and Recall Metrics, we have considered the\n",
    "  optimal cut off based on Sensitivity and Specificity for calculating the final prediction.\n",
    "-2.Accuracy, Sensitivity and Specificity values of test set are around 81%, 79% and 82% which are approximately closer to \n",
    "  the respective values calculated using trained set.\n",
    "3.Also the lead score calculated in the trained set of data shows the conversion rate on the final predicted model is \n",
    "  around 80%\n",
    "4.Hence overall this model seems to be good. "
   ]
  }
 ],
 "metadata": {
  "kernelspec": {
   "display_name": "Python 3 (ipykernel)",
   "language": "python",
   "name": "python3"
  },
  "language_info": {
   "codemirror_mode": {
    "name": "ipython",
    "version": 3
   },
   "file_extension": ".py",
   "mimetype": "text/x-python",
   "name": "python",
   "nbconvert_exporter": "python",
   "pygments_lexer": "ipython3",
   "version": "3.9.7"
  }
 },
 "nbformat": 4,
 "nbformat_minor": 5
}
